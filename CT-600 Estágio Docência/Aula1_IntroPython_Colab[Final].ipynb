{
  "nbformat": 4,
  "nbformat_minor": 0,
  "metadata": {
    "colab": {
      "name": "Aula1-IntroPython_Colab[Final].ipynb",
      "provenance": [],
      "collapsed_sections": []
    },
    "kernelspec": {
      "name": "python3",
      "display_name": "Python 3"
    }
  },
  "cells": [
    {
      "cell_type": "markdown",
      "metadata": {
        "id": "R-xpxrGrRGBk"
      },
      "source": [
        "<img alt=\"Logo ITA\" width=\"500\" src=\"https://logodownload.org/wp-content/uploads/2018/01/ita-logo.png\">\n",
        "\n",
        "*Autor do material:* **Thiago Gonçalves Guimarães Lopes**\n",
        "\n",
        "*Desenvovlido para a Disciplina:* **CT-600 Estágio Docência**\n",
        "\n",
        "#### **Aula 1 - Introdução a Linguagem Python e ao Ambiente Google Colab**\n",
        "\n",
        "---\n",
        "\n",
        "<h1>Ambiente para aprendizagem e execução de códigos</h1>\n",
        "\n",
        "**O que é Python?**\n",
        "Python é uma linguagem de programação de alto nível, dinâmica, interpretada e  orientada a objetos. Os procedimentos são divididos e dependentes de classes. \n",
        "\n",
        "As vantagens de se utilizar essa linguagem é sua  sintaxe relativamente simples e de fácil compreensão, ser uma linguagem OpenSource. Mas sua principal vantagem é  uma comunidade gigantesca de profissionais de diversas áreas: indústria, programadores, engenheiros, matemáticos, cientistas de dados, pesquisadores e outros.\n",
        "\n",
        "Essa comunidade desenvolveu diversos **Frameworks** que são denominados como **Biliotecas**. Estes conjuntos de funçôes permite que realizar contas, manipular dados ou treinar modelos de Aprendizado de Máquina (*Machine Learning*) sem que precisemos escrever um extenso código.\n",
        "\n",
        "<img alt=\"Logo ITA\" width=\"450\" src=\"https://cio.com.br/wp-content/uploads/2020/10/linguagem-programacao-python.jpg\">\n",
        "\n",
        "**O que é o Colab?**\n",
        "Google Colab é uma IDE (Integrated Development Environment ou Ambiente de Desenvolvimento Integrado) com o ambiente Jupyter Notebook que roda inteiramente na nuvem. Ou seja, você consegue criar e rodar seus projetos de Data Science sem perder tempo configurando sua máquina local.\n",
        "\n",
        "Os notebooks do Colab são notebooks do Jupyter hospedados no Colab. Para saber mais sobre o projeto Jupyter, acesse <a href=\"https://www.jupyter.org\">jupyter.org</a>.\n",
        "\n",
        "Os notebooks do Colab permitem combinar <strong>código executável</strong> e <strong>rich text</strong> em um só documento, além de <strong>imagens</strong>, <strong>HTML</strong>, <strong>LaTeX</strong> e muito mais. Quando você cria seus próprios notebooks do Colab, eles são armazenados na sua conta do Google Drive. É possível compartilhar os notebooks do Colab facilmente com colegas de trabalho ou amigos e permitir que eles façam comentários ou até editem o documento. Para saber mais, consulte a <a href=\"/notebooks/basic_features_overview.ipynb\">Visão Geral do Colab</a> (Criação própria do Colab)."
      ]
    },
    {
      "cell_type": "markdown",
      "metadata": {
        "id": "VRElnxx_rqTH"
      },
      "source": [
        "# Fundamento Jupyter Notebook\n",
        "\n",
        "---\n",
        "\n",
        "Você pode escrever direto. Utilizando a linguagem **Markdown** do Colab para estilizar e ressaltar partes do seu texto.\n",
        "\n",
        "## Guia **Markdown**\n",
        "\n",
        "Markdown | Resultado\n",
        "--- | ---\n",
        "`**Negrito**` | **Negrito**\n",
        "`*Itálico*` or `_Itálico_` | *Itálico*\n",
        "`` `Monospace` `` | `Monospace`\n",
        "`~~Tachado~~` | ~~Tachado~~\n",
        "`[Link direto](https://www.google.com)` | [Link direto](https://www.google.com)\n",
        "`![Imagem](https://www.google.com/images/rss.png)` | ![Imagem](https://www.google.com/images/rss.png)\n",
        "\n",
        "\n",
        "---\n",
        "Para escrever **Capítulos, Seçõs, Subseções**:\n",
        "\n",
        "```markdown\n",
        "# Capítulo 1\n",
        "# Seção 1\n",
        "## Subseção 2\n",
        "### Subseção 3\n",
        "# Capítulo 2\n",
        "```\n",
        "\n",
        "# Capítulo 1\n",
        "# Seção 1\n",
        "## Subseção 2\n",
        "### Subseção 3\n",
        "# Capítulo 2\n",
        "\n",
        "---\n",
        "\n",
        "Criar um bloco recuado (**Identação**):\n",
        "\n",
        "```markdown\n",
        ">Recuo simples\n",
        "```\n",
        "\n",
        ">Recuo simples\n",
        "\n",
        "\n",
        "```markdown\n",
        ">>Recuo duplo\n",
        "```\n",
        "\n",
        ">>Recuo duplo\n",
        "\n",
        "---\n",
        "\n",
        "Escrever **células de código** em formato texto\n",
        "Code blocks:\n",
        "````\n",
        "```python\n",
        "print(\"a\")\n",
        "```\n",
        "````\n",
        "\n",
        "```python\n",
        "print(\"a\")\n",
        "```\n",
        "\n",
        "---\n",
        "Criação de **listas ordenadas e simples**:\n",
        "```markdown\n",
        "1. Um\n",
        "1. Dois\n",
        "1. Três\n",
        "```\n",
        "1. Um\n",
        "1. Dois\n",
        "1. Três\n",
        "\n",
        "---\n",
        "```markdown\n",
        "* Um\n",
        "* Dois\n",
        "* Três\n",
        "```\n",
        "* Um\n",
        "* Dois\n",
        "* Três\n",
        "---\n",
        "\n",
        "**Escrever equações**, o colab tem uma integração com $\\LaTeX$:\n",
        "\n",
        "```markdown\n",
        "$y=x^2$\n",
        "\n",
        "$e^{i\\pi} + 1 = 0$\n",
        "\n",
        "$e^x=\\sum_{i=0}^\\infty \\frac{1}{i!}x^i$\n",
        "\n",
        "$\\frac{n!}{k!(n-k)!} = {n \\choose k}$\n",
        "\n",
        "$A_{m,n} =\n",
        " \\begin{pmatrix}\n",
        "  a_{1,1} & a_{1,2} & \\cdots & a_{1,n} \\\\\n",
        "  a_{2,1} & a_{2,2} & \\cdots & a_{2,n} \\\\\n",
        "  \\vdots  & \\vdots  & \\ddots & \\vdots  \\\\\n",
        "  a_{m,1} & a_{m,2} & \\cdots & a_{m,n}\n",
        " \\end{pmatrix}$\n",
        "```\n",
        "\n",
        "$y=x^2$\n",
        "\n",
        "$e^{i\\pi} + 1 = 0$\n",
        "\n",
        "$e^x=\\sum_{i=0}^\\infty \\frac{1}{i!}x^i$\n",
        "\n",
        "$\\frac{n!}{k!(n-k)!} = {n \\choose k}$\n",
        "\n",
        "$A_{m,n} =\n",
        " \\begin{pmatrix}\n",
        "  a_{1,1} & a_{1,2} & \\cdots & a_{1,n} \\\\\n",
        "  a_{2,1} & a_{2,2} & \\cdots & a_{2,n} \\\\\n",
        "  \\vdots  & \\vdots  & \\ddots & \\vdots  \\\\\n",
        "  a_{m,1} & a_{m,2} & \\cdots & a_{m,n}\n",
        " \\end{pmatrix}$\n",
        "\n",
        "\n",
        " ---\n",
        "\n",
        "Criação de **Tabelas**:\n",
        "```markdown\n",
        "Coluna 1  | Coluna 2 \n",
        "-------------------|------------------\n",
        "Row 1, Col 1       | Row 1, Col 2 \n",
        "Row 2, Col 1       | Row 2, Col 2 \n",
        "\n",
        "```\n",
        "\n",
        "Coluna 1  | Coluna 2 \n",
        "-------------------|------------------\n",
        "Row 1, Col 1       | Row 1, Col 2 \n",
        "Row 2, Col 1       | Row 2, Col 2 \n",
        "\n",
        "---\n",
        "Para inserir imanges:\n",
        "```markdown\n",
        "<img alt=\"Logo ITA\" width=\"500\" src=\"https://logodownload.org/wp-content/uploads/2018/01/ita-logo.png\">\n",
        "```\n",
        "<img alt=\"Logo ITA\" width=\"500\" src=\"https://logodownload.org/wp-content/uploads/2018/01/ita-logo.png\">\n",
        "\n",
        "---\n"
      ]
    },
    {
      "cell_type": "markdown",
      "metadata": {
        "id": "sGjEJ9M2rmUd"
      },
      "source": [
        "# Fundamento Python"
      ]
    },
    {
      "cell_type": "markdown",
      "metadata": {
        "id": "v2YuHg1iJlYS"
      },
      "source": [
        "## Variáveis\n",
        "\n",
        "Em python existem três tipos de variáveis `integers` (inteiros), `strings` (caracteres), `floats` (flutuantes ou decimais) ou `booleanos`(Veradeiro ou Falso).\n",
        "\n",
        "Diferente de outras linguagens, o Python entende qual o tipo de variável, sem precisar declará-la anteriormente."
      ]
    },
    {
      "cell_type": "markdown",
      "metadata": {
        "id": "82Dw7isSKSnG"
      },
      "source": [
        "### Integers\n"
      ]
    },
    {
      "cell_type": "code",
      "metadata": {
        "id": "zX3CRTx6IfLV",
        "colab": {
          "base_uri": "https://localhost:8080/"
        },
        "outputId": "263fa27a-dc70-4a04-f774-9c63bf6eda5e"
      },
      "source": [
        "# Números inteiros\n",
        "x = 100\n",
        "print(x)"
      ],
      "execution_count": 1,
      "outputs": [
        {
          "output_type": "stream",
          "text": [
            "100\n"
          ],
          "name": "stdout"
        }
      ]
    },
    {
      "cell_type": "code",
      "metadata": {
        "colab": {
          "base_uri": "https://localhost:8080/"
        },
        "id": "WmmXVaH41X-H",
        "outputId": "868b8708-752a-455a-91a9-1c3d3aa42b8b"
      },
      "source": [
        "type(x)"
      ],
      "execution_count": 2,
      "outputs": [
        {
          "output_type": "execute_result",
          "data": {
            "text/plain": [
              "int"
            ]
          },
          "metadata": {
            "tags": []
          },
          "execution_count": 2
        }
      ]
    },
    {
      "cell_type": "markdown",
      "metadata": {
        "id": "eF8QT6OFKdBF"
      },
      "source": [
        "### Floats\n"
      ]
    },
    {
      "cell_type": "code",
      "metadata": {
        "id": "A7QseAg_J_vV",
        "colab": {
          "base_uri": "https://localhost:8080/"
        },
        "outputId": "438fe214-62c0-4ff0-faca-1ee3b394c7d8"
      },
      "source": [
        "# Números decimais\n",
        "x = 25.0\n",
        "print(x)\n",
        "print(type(x))"
      ],
      "execution_count": 3,
      "outputs": [
        {
          "output_type": "stream",
          "text": [
            "25.0\n",
            "<class 'float'>\n"
          ],
          "name": "stdout"
        }
      ]
    },
    {
      "cell_type": "code",
      "metadata": {
        "colab": {
          "base_uri": "https://localhost:8080/"
        },
        "id": "aBtVoKNn15R-",
        "outputId": "650be91d-5a90-49e6-8f9f-386bb34c3a66"
      },
      "source": [
        "type(25)"
      ],
      "execution_count": 4,
      "outputs": [
        {
          "output_type": "execute_result",
          "data": {
            "text/plain": [
              "int"
            ]
          },
          "metadata": {
            "tags": []
          },
          "execution_count": 4
        }
      ]
    },
    {
      "cell_type": "markdown",
      "metadata": {
        "id": "T1gTB698LGfN"
      },
      "source": [
        "### Strings"
      ]
    },
    {
      "cell_type": "code",
      "metadata": {
        "id": "G_iJjopFKEDO",
        "colab": {
          "base_uri": "https://localhost:8080/"
        },
        "outputId": "2b9cc6ea-5b4d-412a-aea2-9f9e05858096"
      },
      "source": [
        "# Uma lista contendo caracteres\n",
        "x = \"CT-600 Estágio Docência.\"\n",
        "print(x)\n",
        "print(type(x))"
      ],
      "execution_count": 5,
      "outputs": [
        {
          "output_type": "stream",
          "text": [
            "CT-600 Estágio Docência.\n",
            "<class 'str'>\n"
          ],
          "name": "stdout"
        }
      ]
    },
    {
      "cell_type": "code",
      "metadata": {
        "colab": {
          "base_uri": "https://localhost:8080/"
        },
        "id": "eqs30HCu5leg",
        "outputId": "9292e73b-eea0-4ff8-da3c-0b9d9fd70258"
      },
      "source": [
        "# Acessar uma letra específica\n",
        "print(x[0]) # C\n",
        "print(x[2]) # -"
      ],
      "execution_count": 6,
      "outputs": [
        {
          "output_type": "stream",
          "text": [
            "C\n",
            "-\n"
          ],
          "name": "stdout"
        }
      ]
    },
    {
      "cell_type": "markdown",
      "metadata": {
        "id": "a6c943U_la1d"
      },
      "source": [
        "### Booleanos"
      ]
    },
    {
      "cell_type": "code",
      "metadata": {
        "colab": {
          "base_uri": "https://localhost:8080/"
        },
        "id": "nMRsbwbslX8d",
        "outputId": "66792497-ad52-4ac1-ecff-5dbf12d4d717"
      },
      "source": [
        "x = True\n",
        "y = False\n",
        "type(x)"
      ],
      "execution_count": 7,
      "outputs": [
        {
          "output_type": "execute_result",
          "data": {
            "text/plain": [
              "bool"
            ]
          },
          "metadata": {
            "tags": []
          },
          "execution_count": 7
        }
      ]
    },
    {
      "cell_type": "code",
      "metadata": {
        "colab": {
          "base_uri": "https://localhost:8080/"
        },
        "id": "P0BBoeO0loBv",
        "outputId": "0ec332d2-1194-4ff4-c51b-422c5b335460"
      },
      "source": [
        "print(x + y)"
      ],
      "execution_count": 8,
      "outputs": [
        {
          "output_type": "stream",
          "text": [
            "1\n"
          ],
          "name": "stdout"
        }
      ]
    },
    {
      "cell_type": "code",
      "metadata": {
        "colab": {
          "base_uri": "https://localhost:8080/"
        },
        "id": "dypPzs1AltLI",
        "outputId": "b4343eac-a4c5-4757-e23c-1b75dfa6857e"
      },
      "source": [
        "print(x*y)"
      ],
      "execution_count": 9,
      "outputs": [
        {
          "output_type": "stream",
          "text": [
            "0\n"
          ],
          "name": "stdout"
        }
      ]
    },
    {
      "cell_type": "code",
      "metadata": {
        "colab": {
          "base_uri": "https://localhost:8080/"
        },
        "id": "T60RUrUglyCl",
        "outputId": "63b62813-5bf5-4ee3-f6ff-9aa084d6f780"
      },
      "source": [
        "print(x)"
      ],
      "execution_count": 10,
      "outputs": [
        {
          "output_type": "stream",
          "text": [
            "True\n"
          ],
          "name": "stdout"
        }
      ]
    },
    {
      "cell_type": "markdown",
      "metadata": {
        "id": "qKSEFEK02MHk"
      },
      "source": [
        "## Operações com variáveis\n",
        "\n",
        "Os operadores aritméticos do Python são:\n",
        "\n",
        "* `+` Adição\n",
        "* `-` Subtração\n",
        "* `*` Multiplicação\n",
        "* `/` Divisão\n",
        "* `**` Exponenciação\n",
        "* `//` Divisão inteira\n",
        "* `%` Resto de divisão\n",
        "\n",
        "Lembrando que a ordem de precedência das operações matemáticas são:\n",
        "\n",
        "* 1º Parêntesis;\n",
        "* 2º Expoentes;\n",
        "* 3º Multiplicações e Divisões; (da esquerda para a direita)\n",
        "* 4º Somas e Subtrações. (da esquerda para a direita)"
      ]
    },
    {
      "cell_type": "code",
      "metadata": {
        "colab": {
          "base_uri": "https://localhost:8080/"
        },
        "id": "aTovqBx42w0Z",
        "outputId": "d8f7bf52-b43e-45c5-d8e6-b5857c12a6fd"
      },
      "source": [
        "x = 10\n",
        "print('Variável de teste:\\nx = ',x)\n",
        "\n",
        "\n",
        "# Soma\n",
        "y = x + 10\n",
        "print('\\nSoma: x + 10 = ',y)\n",
        "\n",
        "# Subtração\n",
        "y = x - 10\n",
        "print('\\nSubtração: x - 10 = ',y)\n",
        "\n",
        "# Multiplicação\n",
        "y = x*3\n",
        "print('\\nMultiplicação: x*3 = ',y)\n",
        "\n",
        "# Divisão\n",
        "y = x/5\n",
        "print('\\nDivisão Ex1:: x/5 = ',y)\n",
        "y = x/3\n",
        "print('\\nDivisão Ex2:: x/3 = ',y)\n",
        "\n",
        "# Exponenciação\n",
        "y = x**2\n",
        "print('\\nExponenciação: x**2 = ',y)\n",
        "\n",
        "# Divisão inteira\n",
        "y = x//6\n",
        "print('\\nDivisão inteira: x//6 = ',y)\n",
        "\n",
        "# Resto de divisão\n",
        "y = x%6\n",
        "print('\\nResto divisão: x%6 = ',y)\n",
        "\n",
        "# Resultado do polinômio\n",
        "y = (x**2)/2 - 10/(3*5)\n",
        "print('\\nResultado: (x**2)/2 - 10/(3*5) = ',y)"
      ],
      "execution_count": 11,
      "outputs": [
        {
          "output_type": "stream",
          "text": [
            "Variável de teste:\n",
            "x =  10\n",
            "\n",
            "Soma: x + 10 =  20\n",
            "\n",
            "Subtração: x - 10 =  0\n",
            "\n",
            "Multiplicação: x*3 =  30\n",
            "\n",
            "Divisão Ex1:: x/5 =  2.0\n",
            "\n",
            "Divisão Ex2:: x/3 =  3.3333333333333335\n",
            "\n",
            "Exponenciação: x**2 =  100\n",
            "\n",
            "Divisão inteira: x//6 =  1\n",
            "\n",
            "Resto divisão: x%6 =  4\n",
            "\n",
            "Resultado: (x**2)/2 - 10/(3*5) =  49.333333333333336\n"
          ],
          "name": "stdout"
        }
      ]
    },
    {
      "cell_type": "markdown",
      "metadata": {
        "id": "8fYHDjRe28Bm"
      },
      "source": [
        "## Funções Nativas\n",
        "\n",
        "Funções nativas da linguagem ou  **built-in** são funções internas que já vem incorporadas na linguagem e estão sempre disponíveis para utilização. Diferente de outras funções que será necessário download e importação de suas bibliotecas. \n",
        "\n",
        "Para maiores consultas e dúvidas, recomenda-se o link: https://stefanilima.com.br/2018/04/27/funcoes-built-in-do-python/"
      ]
    },
    {
      "cell_type": "code",
      "metadata": {
        "id": "-hMsRVpe-R2G",
        "colab": {
          "base_uri": "https://localhost:8080/"
        },
        "outputId": "1d70f61e-6724-4ad9-e483-b248968b7690"
      },
      "source": [
        "# Imprimir uma variável \n",
        "print(\"O texto irá aqui\")\n",
        "print(2)"
      ],
      "execution_count": 12,
      "outputs": [
        {
          "output_type": "stream",
          "text": [
            "O texto irá aqui\n",
            "2\n"
          ],
          "name": "stdout"
        }
      ]
    },
    {
      "cell_type": "code",
      "metadata": {
        "colab": {
          "base_uri": "https://localhost:8080/"
        },
        "id": "FUwXCct1lQxl",
        "outputId": "076ba6a1-e531-489a-9350-7b7bf1707f01"
      },
      "source": [
        "# Tipo da variável\n",
        "print(type(\"String\"),type(2),type(2.0))"
      ],
      "execution_count": 13,
      "outputs": [
        {
          "output_type": "stream",
          "text": [
            "<class 'str'> <class 'int'> <class 'float'>\n"
          ],
          "name": "stdout"
        }
      ]
    },
    {
      "cell_type": "code",
      "metadata": {
        "colab": {
          "base_uri": "https://localhost:8080/"
        },
        "id": "5lH0KQTvlY35",
        "outputId": "3c1179be-0502-4f04-fb5d-a8054d3606f8"
      },
      "source": [
        "# Procurar documentação de uma função\n",
        "help(print)"
      ],
      "execution_count": 14,
      "outputs": [
        {
          "output_type": "stream",
          "text": [
            "Help on built-in function print in module builtins:\n",
            "\n",
            "print(...)\n",
            "    print(value, ..., sep=' ', end='\\n', file=sys.stdout, flush=False)\n",
            "    \n",
            "    Prints the values to a stream, or to sys.stdout by default.\n",
            "    Optional keyword arguments:\n",
            "    file:  a file-like object (stream); defaults to the current sys.stdout.\n",
            "    sep:   string inserted between values, default a space.\n",
            "    end:   string appended after the last value, default a newline.\n",
            "    flush: whether to forcibly flush the stream.\n",
            "\n"
          ],
          "name": "stdout"
        }
      ]
    },
    {
      "cell_type": "code",
      "metadata": {
        "colab": {
          "base_uri": "https://localhost:8080/"
        },
        "id": "mWWGSrsIlsfJ",
        "outputId": "7811c617-3a18-4b13-a8da-a8419fbdb5fc"
      },
      "source": [
        "# Transforma uma variável em formato booleano\n",
        "print(bool(0),bool(1),bool(50))\n",
        "print(bool(0.0),bool(0.01))\n",
        "print(bool(\"\"),bool(\"Oi\"))"
      ],
      "execution_count": 15,
      "outputs": [
        {
          "output_type": "stream",
          "text": [
            "False True True\n",
            "False True\n",
            "False True\n"
          ],
          "name": "stdout"
        }
      ]
    },
    {
      "cell_type": "code",
      "metadata": {
        "colab": {
          "base_uri": "https://localhost:8080/"
        },
        "id": "swWWtM8jmCEX",
        "outputId": "df54cb5a-0eab-4274-ece5-579516b79604"
      },
      "source": [
        "# Função de arredondamento\n",
        "print(round(0.9812))\n",
        "print(round(0.9812,2)) #-> Delimita a casa decimal a ser arredondada"
      ],
      "execution_count": 16,
      "outputs": [
        {
          "output_type": "stream",
          "text": [
            "1\n",
            "0.98\n"
          ],
          "name": "stdout"
        }
      ]
    },
    {
      "cell_type": "code",
      "metadata": {
        "id": "DTW_UGDlmIKt"
      },
      "source": [
        "# Transformações entre variáveis\n",
        "inteiro = 10\n",
        "decimal1 = 5.23\n",
        "decimal2 = 10.98\n",
        "string = \"20.5\""
      ],
      "execution_count": 17,
      "outputs": []
    },
    {
      "cell_type": "code",
      "metadata": {
        "colab": {
          "base_uri": "https://localhost:8080/"
        },
        "id": "I2H3kTJamYDC",
        "outputId": "3bb01f8c-e762-497b-f39f-ddad39b6cbcb"
      },
      "source": [
        "x = float(string)\n",
        "print(x)"
      ],
      "execution_count": 18,
      "outputs": [
        {
          "output_type": "stream",
          "text": [
            "20.5\n"
          ],
          "name": "stdout"
        }
      ]
    },
    {
      "cell_type": "code",
      "metadata": {
        "colab": {
          "base_uri": "https://localhost:8080/",
          "height": 35
        },
        "id": "DLX-klzenOx_",
        "outputId": "0fa9dfe2-e1a4-4931-b54f-b248eee020cb"
      },
      "source": [
        "# Mudança na estrutura da String\n",
        "nome = \"thiago gonçalves guimarães lopes\"\n",
        "nome.upper()"
      ],
      "execution_count": 19,
      "outputs": [
        {
          "output_type": "execute_result",
          "data": {
            "application/vnd.google.colaboratory.intrinsic+json": {
              "type": "string"
            },
            "text/plain": [
              "'THIAGO GONÇALVES GUIMARÃES LOPES'"
            ]
          },
          "metadata": {
            "tags": []
          },
          "execution_count": 19
        }
      ]
    },
    {
      "cell_type": "markdown",
      "metadata": {
        "id": "I-tsyrSzmcJS"
      },
      "source": [
        "Existem outras funções nativas importantes que serão utilizadas várias vezes. Será melhor explicá-las através de exemplos."
      ]
    },
    {
      "cell_type": "markdown",
      "metadata": {
        "id": "PEzuNl3TsTR8"
      },
      "source": [
        "## IF, FOR, WHILE\n",
        "**IF, FOR, WHILE** são as principais e mais usuais funções ou estruturas lógicas condicionais que permitem maior funcionalidades nos algoritmos.\n",
        "\n",
        "Eles utilizam a matemática booleano para tomar ou não uma decisão. Os 6 operadores são:\n",
        "\n",
        "\n",
        "| **OPERADOR** | **DESCRIÇÃO**    |\n",
        "|:------------:|:----------------:|\n",
        "| <            | Menor que        |\n",
        "| >            | Maior que        |\n",
        "| <=           | Menor or igual a |\n",
        "| >=           | Maior ou igual a |\n",
        "| ==           | Igual a          |\n",
        "| \\!=          | Diferente de     |\n",
        "\n",
        "É importante ressaltar estas estruturas no Python trabalham usando a identação. Muitos erros no código estão ligados a identação errada."
      ]
    },
    {
      "cell_type": "code",
      "metadata": {
        "colab": {
          "base_uri": "https://localhost:8080/"
        },
        "id": "3PPYsZ7n-yvc",
        "outputId": "2ae8a459-bd37-436c-c123-e6fd652fbf47"
      },
      "source": [
        "# Exemplo de IF\n",
        "\n",
        "a = 5\n",
        "b = 2\n",
        "c = 1\n",
        "\n",
        "if a >= b:\n",
        "  if a >= c:\n",
        "    if b >= c:\n",
        "      print('{} > {} > {}'.format(a,b,c))\n",
        "    else:\n",
        "      print('{} > {} > {}'.format(a,c,b))\n",
        "  else:\n",
        "    print('{} > {} > {}'.format(c,a,b))\n",
        "else:\n",
        "  if b < c:\n",
        "    print('{} > {} > {}'.format(c,b,a))\n",
        "  else:\n",
        "    if a > c:\n",
        "      print('{} > {} > {}'.format(b,a,c))\n",
        "    else:\n",
        "      print('{} > {} > {}'.format(b,c,a))\n",
        "\n",
        "   \n",
        "\n",
        "\n",
        "# Observe que todos os 'print' estão alinhados."
      ],
      "execution_count": 20,
      "outputs": [
        {
          "output_type": "stream",
          "text": [
            "5 > 2 > 1\n"
          ],
          "name": "stdout"
        }
      ]
    },
    {
      "cell_type": "code",
      "metadata": {
        "colab": {
          "base_uri": "https://localhost:8080/"
        },
        "id": "91ITc_BI_dD4",
        "outputId": "d6b76a3a-c205-41dc-8adb-56ace31e37c2"
      },
      "source": [
        "# Exemplo FOR\n",
        "\n",
        "# Range é outra função nativa do python\n",
        "# Diferente do Matlab/ R a numeração do Python vai de 0 até um valor antes do final\n",
        "\n",
        "for i in range(0,10):\n",
        "  print(i)\n",
        "  i += 1\n"
      ],
      "execution_count": 21,
      "outputs": [
        {
          "output_type": "stream",
          "text": [
            "0\n",
            "1\n",
            "2\n",
            "3\n",
            "4\n",
            "5\n",
            "6\n",
            "7\n",
            "8\n",
            "9\n"
          ],
          "name": "stdout"
        }
      ]
    },
    {
      "cell_type": "code",
      "metadata": {
        "colab": {
          "base_uri": "https://localhost:8080/"
        },
        "id": "JWcbZCPVqqwX",
        "outputId": "e45d0f67-39ca-4a31-d82b-5911bb24fb8e"
      },
      "source": [
        "lista = [1,2,3,4,5,10]\n",
        "num = 0\n",
        "for i in lista:\n",
        "  num += i\n",
        "  print('{} \\\\\\ {}'.format(i,num))"
      ],
      "execution_count": 22,
      "outputs": [
        {
          "output_type": "stream",
          "text": [
            "1 \\\\ 1\n",
            "2 \\\\ 3\n",
            "3 \\\\ 6\n",
            "4 \\\\ 10\n",
            "5 \\\\ 15\n",
            "10 \\\\ 25\n"
          ],
          "name": "stdout"
        }
      ]
    },
    {
      "cell_type": "code",
      "metadata": {
        "colab": {
          "base_uri": "https://localhost:8080/"
        },
        "id": "25YYvAWP_8VI",
        "outputId": "c60ecf10-d9e3-4fa8-92cb-05b7fe9dd2bf"
      },
      "source": [
        "# Exemplo WHILE\n",
        "\n",
        "cond = 10\n",
        "\n",
        "while cond >= 0:\n",
        "  print('Condição: {}'.format(cond))\n",
        "  cond -= 1"
      ],
      "execution_count": 23,
      "outputs": [
        {
          "output_type": "stream",
          "text": [
            "Condição: 10\n",
            "Condição: 9\n",
            "Condição: 8\n",
            "Condição: 7\n",
            "Condição: 6\n",
            "Condição: 5\n",
            "Condição: 4\n",
            "Condição: 3\n",
            "Condição: 2\n",
            "Condição: 1\n",
            "Condição: 0\n"
          ],
          "name": "stdout"
        }
      ]
    },
    {
      "cell_type": "code",
      "metadata": {
        "id": "E77OBoOt2YUo",
        "colab": {
          "base_uri": "https://localhost:8080/"
        },
        "outputId": "6f69432d-da8d-48e5-8b53-538653e95be3"
      },
      "source": [
        "# Série de Fibonacci\n",
        "\n",
        "a = 1\n",
        "b = 0\n",
        "cont = 0\n",
        "n = int(input('Quantos termos da série de Fibonacci deseja?: '));\n",
        "teste = 0\n",
        "while teste < n:\n",
        "  cont = a + b\n",
        "  print(cont)\n",
        "  a = b\n",
        "  b = cont\n",
        "  teste += 1\n"
      ],
      "execution_count": 24,
      "outputs": [
        {
          "output_type": "stream",
          "text": [
            "Quantos termos da série de Fibonacci deseja?: 5\n",
            "1\n",
            "1\n",
            "2\n",
            "3\n",
            "5\n"
          ],
          "name": "stdout"
        }
      ]
    },
    {
      "cell_type": "markdown",
      "metadata": {
        "id": "Q5ZWZtFBsbGQ"
      },
      "source": [
        "## Estruturas de dados"
      ]
    },
    {
      "cell_type": "markdown",
      "metadata": {
        "id": "1v8jEIJPfoxg"
      },
      "source": [
        "### Listas\n",
        "\n",
        "Listas são sequências de informações indicadas por um índice (posição na lista). A lista permite guardar qualer tipo de item: string, float, int, um objeto."
      ]
    },
    {
      "cell_type": "code",
      "metadata": {
        "id": "XkHmR-gwp1If",
        "colab": {
          "base_uri": "https://localhost:8080/"
        },
        "outputId": "48a14e64-5d74-43a0-99c2-4f88ba609b3c"
      },
      "source": [
        "# Criar uma lista\n",
        "\n",
        "lista = []\n",
        "print(lista)\n",
        "print(type(lista),\"\\n\\n\")\n",
        "\n",
        "# Criar a lista com os valores dentro\n",
        "\n",
        "lista = ['Cachorro','Gato', 10, 0.5, True]\n",
        "print(lista)\n",
        "print(type(lista))"
      ],
      "execution_count": 25,
      "outputs": [
        {
          "output_type": "stream",
          "text": [
            "[]\n",
            "<class 'list'> \n",
            "\n",
            "\n",
            "['Cachorro', 'Gato', 10, 0.5, True]\n",
            "<class 'list'>\n"
          ],
          "name": "stdout"
        }
      ]
    },
    {
      "cell_type": "code",
      "metadata": {
        "colab": {
          "base_uri": "https://localhost:8080/"
        },
        "id": "tPE48EEcGwsM",
        "outputId": "ad05aa87-2878-4993-e829-a14a667d8291"
      },
      "source": [
        "# Acessar um valor da lista\n",
        "print(lista[0])\n",
        "print(lista[1])\n",
        "\n",
        "# Aplicar operações com os valores da lista\n",
        "print(lista[2] + lista[3])"
      ],
      "execution_count": 26,
      "outputs": [
        {
          "output_type": "stream",
          "text": [
            "Cachorro\n",
            "Gato\n",
            "10.5\n"
          ],
          "name": "stdout"
        }
      ]
    },
    {
      "cell_type": "code",
      "metadata": {
        "colab": {
          "base_uri": "https://localhost:8080/"
        },
        "id": "tlVMv6p9HBke",
        "outputId": "3d161dec-8ada-4d05-fcde-8c0fc5222ac0"
      },
      "source": [
        "# Variáveis tipo string, são armazenadas em listas\n",
        "\n",
        "nome = \"Thiago Lopes\"\n",
        "print(nome[0])\n",
        "\n",
        "# Selecionar uma parte da lista (Slicing)\n",
        "print(nome[0:6]) # Do item na posição 0 até a posição 6\n",
        "print(nome[:6]) # Todos os itens até a posição 5\n",
        "print(nome[-5:]) # Os 5 últimos itens"
      ],
      "execution_count": 27,
      "outputs": [
        {
          "output_type": "stream",
          "text": [
            "T\n",
            "Thiago\n",
            "Thiago\n",
            "Lopes\n"
          ],
          "name": "stdout"
        }
      ]
    },
    {
      "cell_type": "code",
      "metadata": {
        "colab": {
          "base_uri": "https://localhost:8080/"
        },
        "id": "0odZfVBmHvbq",
        "outputId": "8e7e02af-b013-40a2-84e3-3497349635d1"
      },
      "source": [
        "# Verificação de um item na lista\n",
        "\n",
        "nome = [\"Thiago\",\"Luiz\",\"Paulo\",\"Pedro\"]\n",
        "teste = \"Thiago\"\n",
        "\n",
        "teste in nome"
      ],
      "execution_count": 28,
      "outputs": [
        {
          "output_type": "execute_result",
          "data": {
            "text/plain": [
              "True"
            ]
          },
          "metadata": {
            "tags": []
          },
          "execution_count": 28
        }
      ]
    },
    {
      "cell_type": "code",
      "metadata": {
        "colab": {
          "base_uri": "https://localhost:8080/"
        },
        "id": "fw6l3NUzIMYJ",
        "outputId": "dd4cc771-67d4-4a5e-fa66-c6f75c5033a7"
      },
      "source": [
        "# Python é uma linguagem casesensitive\n",
        "\n",
        "teste = \"thiago\"\n",
        "teste in nome"
      ],
      "execution_count": 29,
      "outputs": [
        {
          "output_type": "execute_result",
          "data": {
            "text/plain": [
              "False"
            ]
          },
          "metadata": {
            "tags": []
          },
          "execution_count": 29
        }
      ]
    },
    {
      "cell_type": "code",
      "metadata": {
        "colab": {
          "base_uri": "https://localhost:8080/"
        },
        "id": "HCOT3clRIS77",
        "outputId": "87213542-6631-4258-b8b5-537ef3d19bbd"
      },
      "source": [
        "print(nome)"
      ],
      "execution_count": 30,
      "outputs": [
        {
          "output_type": "stream",
          "text": [
            "['Thiago', 'Luiz', 'Paulo', 'Pedro']\n"
          ],
          "name": "stdout"
        }
      ]
    },
    {
      "cell_type": "code",
      "metadata": {
        "colab": {
          "base_uri": "https://localhost:8080/"
        },
        "id": "Wz5eQ1S7IajA",
        "outputId": "510b1dc5-d4fe-4fc7-f035-ca0b94d1f3af"
      },
      "source": [
        "nome[3] = \"José\"\n",
        "print(nome) "
      ],
      "execution_count": 31,
      "outputs": [
        {
          "output_type": "stream",
          "text": [
            "['Thiago', 'Luiz', 'Paulo', 'José']\n"
          ],
          "name": "stdout"
        }
      ]
    },
    {
      "cell_type": "code",
      "metadata": {
        "colab": {
          "base_uri": "https://localhost:8080/",
          "height": 198
        },
        "id": "F21Fs4IcIm5p",
        "outputId": "951a65ed-b994-4504-de76-33afb52524b7"
      },
      "source": [
        "# Forma errada de adicionar um novo item na lista\n",
        "\n",
        "nome[4] = \"Marcelo\""
      ],
      "execution_count": 32,
      "outputs": [
        {
          "output_type": "error",
          "ename": "IndexError",
          "evalue": "ignored",
          "traceback": [
            "\u001b[0;31m---------------------------------------------------------------------------\u001b[0m",
            "\u001b[0;31mIndexError\u001b[0m                                Traceback (most recent call last)",
            "\u001b[0;32m<ipython-input-32-b3298df689a3>\u001b[0m in \u001b[0;36m<module>\u001b[0;34m()\u001b[0m\n\u001b[1;32m      1\u001b[0m \u001b[0;31m# Forma errada de adicionar um novo item na lista\u001b[0m\u001b[0;34m\u001b[0m\u001b[0;34m\u001b[0m\u001b[0;34m\u001b[0m\u001b[0m\n\u001b[1;32m      2\u001b[0m \u001b[0;34m\u001b[0m\u001b[0m\n\u001b[0;32m----> 3\u001b[0;31m \u001b[0mnome\u001b[0m\u001b[0;34m[\u001b[0m\u001b[0;36m4\u001b[0m\u001b[0;34m]\u001b[0m \u001b[0;34m=\u001b[0m \u001b[0;34m\"Marcelo\"\u001b[0m\u001b[0;34m\u001b[0m\u001b[0;34m\u001b[0m\u001b[0m\n\u001b[0m",
            "\u001b[0;31mIndexError\u001b[0m: list assignment index out of range"
          ]
        }
      ]
    },
    {
      "cell_type": "code",
      "metadata": {
        "id": "vvclKzgXIrOY",
        "colab": {
          "base_uri": "https://localhost:8080/"
        },
        "outputId": "e7feb8ea-3065-433f-874a-a9faecc8b641"
      },
      "source": [
        "# Adicionar um novo item a lista\n",
        "\n",
        "nome.append(\"Marcelo\")\n",
        "nome.append(2)\n",
        "print(nome)"
      ],
      "execution_count": 33,
      "outputs": [
        {
          "output_type": "stream",
          "text": [
            "['Thiago', 'Luiz', 'Paulo', 'José', 'Marcelo', 2]\n"
          ],
          "name": "stdout"
        }
      ]
    },
    {
      "cell_type": "code",
      "metadata": {
        "id": "n6LwBGB5IwRq",
        "colab": {
          "base_uri": "https://localhost:8080/"
        },
        "outputId": "cf4155e6-56c6-4fc1-cabb-82e2c7beed7c"
      },
      "source": [
        "# Remover da lista POR POSIÇÃO\n",
        "\n",
        "nome.pop(0)\n",
        "print(nome)"
      ],
      "execution_count": 34,
      "outputs": [
        {
          "output_type": "stream",
          "text": [
            "['Luiz', 'Paulo', 'José', 'Marcelo', 2]\n"
          ],
          "name": "stdout"
        }
      ]
    },
    {
      "cell_type": "code",
      "metadata": {
        "id": "kqLg4l5EI4Oy",
        "colab": {
          "base_uri": "https://localhost:8080/"
        },
        "outputId": "5fad5e83-15b7-4cb2-ccbf-685ba6eb6eb4"
      },
      "source": [
        "# Remover da lista POR VALOR\n",
        "\n",
        "nome.remove(\"Marcelo\")\n",
        "nome.remove(2)\n",
        "print(nome)"
      ],
      "execution_count": 35,
      "outputs": [
        {
          "output_type": "stream",
          "text": [
            "['Luiz', 'Paulo', 'José']\n"
          ],
          "name": "stdout"
        }
      ]
    },
    {
      "cell_type": "markdown",
      "metadata": {
        "id": "xkin5RCOr8Ds"
      },
      "source": [
        "### Dicionários\n",
        "\n",
        "Dicionários também são outra estrutura de dados que permitem um mapeamento de uma variável/ objeto em outra (Chaves e Valores).\n",
        "\n",
        "![alt text](https://developers.google.com/edu/python/images/dict.png)"
      ]
    },
    {
      "cell_type": "code",
      "metadata": {
        "id": "bLMqp1UaxCkQ",
        "colab": {
          "base_uri": "https://localhost:8080/"
        },
        "outputId": "3bf9aedd-4568-4347-f6b3-26c4e1d1b4ed"
      },
      "source": [
        "# Criando um dicionário vazio\n",
        "\n",
        "dict = {}\n",
        "print(dict)\n",
        "print(type(dict))"
      ],
      "execution_count": 36,
      "outputs": [
        {
          "output_type": "stream",
          "text": [
            "{}\n",
            "<class 'dict'>\n"
          ],
          "name": "stdout"
        }
      ]
    },
    {
      "cell_type": "code",
      "metadata": {
        "id": "WYU1oc2pxJJG"
      },
      "source": [
        "# Criando o exemplo da imagem\n",
        "exemplo = {\"a\": \"Alpha\", \"o\": \"Omega\", \"g\": \"Gamma\"}"
      ],
      "execution_count": 37,
      "outputs": []
    },
    {
      "cell_type": "code",
      "metadata": {
        "id": "RYdhnPCndyAg",
        "colab": {
          "base_uri": "https://localhost:8080/"
        },
        "outputId": "4e56c05f-a3c1-4c58-905f-1cfb84c7f2f0"
      },
      "source": [
        "exemplo"
      ],
      "execution_count": 38,
      "outputs": [
        {
          "output_type": "execute_result",
          "data": {
            "text/plain": [
              "{'a': 'Alpha', 'g': 'Gamma', 'o': 'Omega'}"
            ]
          },
          "metadata": {
            "tags": []
          },
          "execution_count": 38
        }
      ]
    },
    {
      "cell_type": "markdown",
      "metadata": {
        "id": "FeuEeMuFmeIe"
      },
      "source": [
        "Para acessar os valores por chave, chamamos o nome do dicionário, e colocamos entre colchetes o nome da chave entre aspas, simples ou duplas."
      ]
    },
    {
      "cell_type": "code",
      "metadata": {
        "id": "Tj4_SHeid66G",
        "colab": {
          "base_uri": "https://localhost:8080/"
        },
        "outputId": "f1a1c9a9-e3b4-4904-815c-c031a9c42eef"
      },
      "source": [
        "exemplo.keys()"
      ],
      "execution_count": 39,
      "outputs": [
        {
          "output_type": "execute_result",
          "data": {
            "text/plain": [
              "dict_keys(['a', 'o', 'g'])"
            ]
          },
          "metadata": {
            "tags": []
          },
          "execution_count": 39
        }
      ]
    },
    {
      "cell_type": "code",
      "metadata": {
        "id": "ZNEwJIBXxYoi",
        "colab": {
          "base_uri": "https://localhost:8080/",
          "height": 35
        },
        "outputId": "0a1b9d74-12c8-4cd6-81ba-518d867cf32e"
      },
      "source": [
        "exemplo[\"a\"]"
      ],
      "execution_count": 40,
      "outputs": [
        {
          "output_type": "execute_result",
          "data": {
            "application/vnd.google.colaboratory.intrinsic+json": {
              "type": "string"
            },
            "text/plain": [
              "'Alpha'"
            ]
          },
          "metadata": {
            "tags": []
          },
          "execution_count": 40
        }
      ]
    },
    {
      "cell_type": "code",
      "metadata": {
        "id": "jIS0XcvUxeDW",
        "colab": {
          "base_uri": "https://localhost:8080/"
        },
        "outputId": "18a32780-2252-40b3-a28e-9d493ef7c9b6"
      },
      "source": [
        "# Adicionando itens ao dicionário\n",
        "exemplo[\"z\"] = \"Zeta\"\n",
        "\n",
        "print(exemplo)"
      ],
      "execution_count": 41,
      "outputs": [
        {
          "output_type": "stream",
          "text": [
            "{'a': 'Alpha', 'o': 'Omega', 'g': 'Gamma', 'z': 'Zeta'}\n"
          ],
          "name": "stdout"
        }
      ]
    },
    {
      "cell_type": "code",
      "metadata": {
        "id": "i2m67z2NeD7C",
        "colab": {
          "base_uri": "https://localhost:8080/",
          "height": 35
        },
        "outputId": "4c0263de-7e6e-4efc-b507-f6445a092f84"
      },
      "source": [
        "exemplo[\"z\"]"
      ],
      "execution_count": 42,
      "outputs": [
        {
          "output_type": "execute_result",
          "data": {
            "application/vnd.google.colaboratory.intrinsic+json": {
              "type": "string"
            },
            "text/plain": [
              "'Zeta'"
            ]
          },
          "metadata": {
            "tags": []
          },
          "execution_count": 42
        }
      ]
    },
    {
      "cell_type": "code",
      "metadata": {
        "id": "F7odrV-jKmDp",
        "colab": {
          "base_uri": "https://localhost:8080/",
          "height": 198
        },
        "outputId": "c24d7ea0-8653-444b-daca-2c8078175f33"
      },
      "source": [
        "# No caso dos dicionários, a função pop não funciona com numeração\n",
        "exemplo.pop(0)\n",
        "print(exemplo)"
      ],
      "execution_count": 43,
      "outputs": [
        {
          "output_type": "error",
          "ename": "KeyError",
          "evalue": "ignored",
          "traceback": [
            "\u001b[0;31m---------------------------------------------------------------------------\u001b[0m",
            "\u001b[0;31mKeyError\u001b[0m                                  Traceback (most recent call last)",
            "\u001b[0;32m<ipython-input-43-d17b381ffec4>\u001b[0m in \u001b[0;36m<module>\u001b[0;34m()\u001b[0m\n\u001b[1;32m      1\u001b[0m \u001b[0;31m# No caso dos dicionários, a função pop não funciona com numeração\u001b[0m\u001b[0;34m\u001b[0m\u001b[0;34m\u001b[0m\u001b[0;34m\u001b[0m\u001b[0m\n\u001b[0;32m----> 2\u001b[0;31m \u001b[0mexemplo\u001b[0m\u001b[0;34m.\u001b[0m\u001b[0mpop\u001b[0m\u001b[0;34m(\u001b[0m\u001b[0;36m0\u001b[0m\u001b[0;34m)\u001b[0m\u001b[0;34m\u001b[0m\u001b[0;34m\u001b[0m\u001b[0m\n\u001b[0m\u001b[1;32m      3\u001b[0m \u001b[0mprint\u001b[0m\u001b[0;34m(\u001b[0m\u001b[0mexemplo\u001b[0m\u001b[0;34m)\u001b[0m\u001b[0;34m\u001b[0m\u001b[0;34m\u001b[0m\u001b[0m\n",
            "\u001b[0;31mKeyError\u001b[0m: 0"
          ]
        }
      ]
    },
    {
      "cell_type": "code",
      "metadata": {
        "id": "xJ16Qak7KqeJ",
        "colab": {
          "base_uri": "https://localhost:8080/"
        },
        "outputId": "47ee9161-3f3e-497d-fa18-222ad6bb31d0"
      },
      "source": [
        "# É preciso selecionar utilizando a chave\n",
        "\n",
        "exemplo.pop(\"a\")\n",
        "print(exemplo)"
      ],
      "execution_count": 44,
      "outputs": [
        {
          "output_type": "stream",
          "text": [
            "{'o': 'Omega', 'g': 'Gamma', 'z': 'Zeta'}\n"
          ],
          "name": "stdout"
        }
      ]
    },
    {
      "cell_type": "code",
      "metadata": {
        "id": "kOIFVCJXKz7T",
        "colab": {
          "base_uri": "https://localhost:8080/"
        },
        "outputId": "ee4d7b67-cd3b-4c36-9368-58cd2b522c00"
      },
      "source": [
        "# Se quiser acessar um valor do dicionário, basta utilizar o função  get\n",
        "# Mas preste atenção ela atribiu um valor mesmo que não exista aquela chave\n",
        "print(exemplo.get(\"y\"))\n",
        "print(exemplo.get(\"z\"))"
      ],
      "execution_count": 45,
      "outputs": [
        {
          "output_type": "stream",
          "text": [
            "None\n",
            "Zeta\n"
          ],
          "name": "stdout"
        }
      ]
    },
    {
      "cell_type": "code",
      "metadata": {
        "id": "8fUL3ZJmLDtj",
        "colab": {
          "base_uri": "https://localhost:8080/"
        },
        "outputId": "32427a6b-ba39-4d92-e0fb-fe3f353c3500"
      },
      "source": [
        "exemplo.items()"
      ],
      "execution_count": 46,
      "outputs": [
        {
          "output_type": "execute_result",
          "data": {
            "text/plain": [
              "dict_items([('o', 'Omega'), ('g', 'Gamma'), ('z', 'Zeta')])"
            ]
          },
          "metadata": {
            "tags": []
          },
          "execution_count": 46
        }
      ]
    },
    {
      "cell_type": "code",
      "metadata": {
        "id": "3swTQAt5LHHy",
        "colab": {
          "base_uri": "https://localhost:8080/"
        },
        "outputId": "754a4e1c-e2aa-4d21-99c2-23c822817362"
      },
      "source": [
        "exemplo.keys()"
      ],
      "execution_count": 47,
      "outputs": [
        {
          "output_type": "execute_result",
          "data": {
            "text/plain": [
              "dict_keys(['o', 'g', 'z'])"
            ]
          },
          "metadata": {
            "tags": []
          },
          "execution_count": 47
        }
      ]
    },
    {
      "cell_type": "code",
      "metadata": {
        "id": "4hXZvN5nLIpD",
        "colab": {
          "base_uri": "https://localhost:8080/"
        },
        "outputId": "931b25de-d25f-4604-d296-04bf9360a2ea"
      },
      "source": [
        "exemplo.values()"
      ],
      "execution_count": 48,
      "outputs": [
        {
          "output_type": "execute_result",
          "data": {
            "text/plain": [
              "dict_values(['Omega', 'Gamma', 'Zeta'])"
            ]
          },
          "metadata": {
            "tags": []
          },
          "execution_count": 48
        }
      ]
    },
    {
      "cell_type": "markdown",
      "metadata": {
        "id": "EO0cXXy93Aid"
      },
      "source": [
        "### Tuplas\n",
        "\n",
        "Tupla é uma espécie de lista imutável. Dados organizados em sequência ordenada. É uma estrutura comum em conjunto de dados."
      ]
    },
    {
      "cell_type": "code",
      "metadata": {
        "id": "MkugBG8j3iiA",
        "colab": {
          "base_uri": "https://localhost:8080/"
        },
        "outputId": "7876589d-59b2-4fa3-ced0-97c238b625fd"
      },
      "source": [
        "# Criação de uma tupla\n",
        "\n",
        "tupla = ()\n",
        "print(type(tupla))\n",
        "tupla = (0,1,2,3,4,5)\n",
        "print(type(tupla))"
      ],
      "execution_count": 49,
      "outputs": [
        {
          "output_type": "stream",
          "text": [
            "<class 'tuple'>\n",
            "<class 'tuple'>\n"
          ],
          "name": "stdout"
        }
      ]
    },
    {
      "cell_type": "code",
      "metadata": {
        "id": "fVXPIfjhMFvZ",
        "colab": {
          "base_uri": "https://localhost:8080/"
        },
        "outputId": "cfd9f29e-0719-4c66-c8f4-089996f4f4cc"
      },
      "source": [
        "idade = (10,25,40)\n",
        "print(idade)"
      ],
      "execution_count": 50,
      "outputs": [
        {
          "output_type": "stream",
          "text": [
            "(10, 25, 40)\n"
          ],
          "name": "stdout"
        }
      ]
    },
    {
      "cell_type": "code",
      "metadata": {
        "id": "peS5ogo6MSBF",
        "colab": {
          "base_uri": "https://localhost:8080/"
        },
        "outputId": "d85f61d7-9634-4a00-a14b-288c6226510b"
      },
      "source": [
        "# Pode-se atribuir diretamente variáveis aos dados da tupla\n",
        "\n",
        "novo, meio, velho = idade\n",
        "print(\"Idade do mais novo:\",novo)\n",
        "print(\"Idade do meio:\",meio)\n",
        "print(\"Idade do mais velho:\",velho)"
      ],
      "execution_count": 51,
      "outputs": [
        {
          "output_type": "stream",
          "text": [
            "Idade do mais novo: 10\n",
            "Idade do meio: 25\n",
            "Idade do mais velho: 40\n"
          ],
          "name": "stdout"
        }
      ]
    },
    {
      "cell_type": "code",
      "metadata": {
        "id": "4vVXgqRxr_Mx",
        "colab": {
          "base_uri": "https://localhost:8080/"
        },
        "outputId": "dd78316c-ce90-4be7-adce-466de1fcaff0"
      },
      "source": [
        "# No caso das tuplas, elas são acessadas utilizando indexação\n",
        "print(idade[0])\n",
        "\n",
        "print(idade[-1])\n"
      ],
      "execution_count": 52,
      "outputs": [
        {
          "output_type": "stream",
          "text": [
            "10\n",
            "40\n"
          ],
          "name": "stdout"
        }
      ]
    },
    {
      "cell_type": "markdown",
      "metadata": {
        "id": "z7BNSfCwtwSu"
      },
      "source": [
        "## Funções\n",
        "\n",
        "O python permite a criação de funções que podem facilitar processos repetitivos. E serem utilizadas quantas vezes quiser sem que repita todas as linhas de código."
      ]
    },
    {
      "cell_type": "code",
      "metadata": {
        "id": "5O7UeoQeMsUx"
      },
      "source": [
        "# Criando uma função\n",
        "\n",
        "def nome_func(argumento1,argumento2):\n",
        "  valor = argumento1 + argumento2\n",
        "  return valor"
      ],
      "execution_count": 53,
      "outputs": []
    },
    {
      "cell_type": "code",
      "metadata": {
        "id": "6UfNn4_iNJnu",
        "colab": {
          "base_uri": "https://localhost:8080/"
        },
        "outputId": "237e036b-c0d0-4d30-8f49-035d6d1afb00"
      },
      "source": [
        "nome_func(10,5)"
      ],
      "execution_count": 54,
      "outputs": [
        {
          "output_type": "execute_result",
          "data": {
            "text/plain": [
              "15"
            ]
          },
          "metadata": {
            "tags": []
          },
          "execution_count": 54
        }
      ]
    },
    {
      "cell_type": "code",
      "metadata": {
        "id": "kk3bqIOuNOIc",
        "colab": {
          "base_uri": "https://localhost:8080/"
        },
        "outputId": "a766d52a-92a1-4854-8485-d68ccacdb5fc"
      },
      "source": [
        "teste = nome_func(10,5)\n",
        "print(teste)"
      ],
      "execution_count": 55,
      "outputs": [
        {
          "output_type": "stream",
          "text": [
            "15\n"
          ],
          "name": "stdout"
        }
      ]
    },
    {
      "cell_type": "code",
      "metadata": {
        "id": "tJLpOg9fNSk7"
      },
      "source": [
        "# Criando uma que printa o valor\n",
        "\n",
        "def nome_func(argumento1,argumento2):\n",
        "  valor = argumento1 + argumento2\n",
        "  return print(valor)"
      ],
      "execution_count": 56,
      "outputs": []
    },
    {
      "cell_type": "code",
      "metadata": {
        "id": "OMd5ymevNU0W",
        "colab": {
          "base_uri": "https://localhost:8080/"
        },
        "outputId": "e1321458-167f-4aa1-c66a-3982eae6a9af"
      },
      "source": [
        "teste = nome_func(10,5)\n",
        "print(teste)"
      ],
      "execution_count": 57,
      "outputs": [
        {
          "output_type": "stream",
          "text": [
            "15\n",
            "None\n"
          ],
          "name": "stdout"
        }
      ]
    },
    {
      "cell_type": "code",
      "metadata": {
        "id": "4s99aD90FiXM",
        "colab": {
          "base_uri": "https://localhost:8080/"
        },
        "outputId": "ebae2fc7-01dd-4499-fd58-999bab405a74"
      },
      "source": [
        "# Outra forma utilizada para criar funções é utilizando a função lambda\n",
        "\n",
        "elevar2 = lambda x: x ** 2 \n",
        "elevar2(4)"
      ],
      "execution_count": 58,
      "outputs": [
        {
          "output_type": "execute_result",
          "data": {
            "text/plain": [
              "16"
            ]
          },
          "metadata": {
            "tags": []
          },
          "execution_count": 58
        }
      ]
    },
    {
      "cell_type": "code",
      "metadata": {
        "id": "4kPBfwHMNgjH",
        "colab": {
          "base_uri": "https://localhost:8080/"
        },
        "outputId": "78ba87d8-337c-47f9-a859-14f9d03f7f47"
      },
      "source": [
        "elevar3 = lambda x: x **3\n",
        "elevar3(4)"
      ],
      "execution_count": 59,
      "outputs": [
        {
          "output_type": "execute_result",
          "data": {
            "text/plain": [
              "64"
            ]
          },
          "metadata": {
            "tags": []
          },
          "execution_count": 59
        }
      ]
    },
    {
      "cell_type": "markdown",
      "metadata": {
        "id": "ej4Cl0RgutOK"
      },
      "source": [
        "## Bibliotecas\n",
        "\n",
        "Bibliotecas são Frameworks de outras organizações que disponibilizam funções poderosas e com diversas funcionalidades. Vamos explicá-las utilizando exemplos."
      ]
    },
    {
      "cell_type": "code",
      "metadata": {
        "id": "zcU6Ek9RFsyB"
      },
      "source": [
        "import numpy as np # Biblioteca focada em cálculo\n",
        "import math # Biblioteca para operações não básicas\n",
        "import pandas as pd # Biblioteca focada em manipulação de dados\n",
        "import matplotlib.pyplot as plt # Biblioteca focada em visualização de dados"
      ],
      "execution_count": 60,
      "outputs": []
    },
    {
      "cell_type": "code",
      "metadata": {
        "id": "SSzgq1NePe0m",
        "colab": {
          "base_uri": "https://localhost:8080/"
        },
        "outputId": "df584af6-06c4-4c53-bea2-0ad2452fe266"
      },
      "source": [
        "# Carregar algumas constantes\n",
        "\n",
        "pi = math.pi\n",
        "euler = math.e\n",
        "print(pi)\n",
        "print(euler)"
      ],
      "execution_count": 61,
      "outputs": [
        {
          "output_type": "stream",
          "text": [
            "3.141592653589793\n",
            "2.718281828459045\n"
          ],
          "name": "stdout"
        }
      ]
    },
    {
      "cell_type": "code",
      "metadata": {
        "id": "c9qbeyZIP0tq",
        "colab": {
          "base_uri": "https://localhost:8080/"
        },
        "outputId": "ff5d9236-0480-4646-ad09-9d713bde4561"
      },
      "source": [
        "# Realizar operações não triviais\n",
        "math.cos(0)"
      ],
      "execution_count": 62,
      "outputs": [
        {
          "output_type": "execute_result",
          "data": {
            "text/plain": [
              "1.0"
            ]
          },
          "metadata": {
            "tags": []
          },
          "execution_count": 62
        }
      ]
    },
    {
      "cell_type": "code",
      "metadata": {
        "id": "nXod_uyBQGz0"
      },
      "source": [
        "# Criação de matrizes\n",
        "\n",
        "mat1 = np.array([2,1,1])\n",
        "mat2 = np.array([1,1,2])"
      ],
      "execution_count": 63,
      "outputs": []
    },
    {
      "cell_type": "code",
      "metadata": {
        "id": "j5q2jIN1QPlc",
        "colab": {
          "base_uri": "https://localhost:8080/"
        },
        "outputId": "251362f3-4a7b-4a79-e154-7cde4b7f4a5e"
      },
      "source": [
        " # Operações com matrizes\n",
        "mult = mat1*mat2\n",
        "mult"
      ],
      "execution_count": 64,
      "outputs": [
        {
          "output_type": "execute_result",
          "data": {
            "text/plain": [
              "array([2, 1, 2])"
            ]
          },
          "metadata": {
            "tags": []
          },
          "execution_count": 64
        }
      ]
    },
    {
      "cell_type": "code",
      "metadata": {
        "colab": {
          "base_uri": "https://localhost:8080/"
        },
        "id": "r7FgNJfDJx7R",
        "outputId": "7af70feb-73b5-441e-a7d0-56f62fe17112"
      },
      "source": [
        "type(mult)"
      ],
      "execution_count": 65,
      "outputs": [
        {
          "output_type": "execute_result",
          "data": {
            "text/plain": [
              "numpy.ndarray"
            ]
          },
          "metadata": {
            "tags": []
          },
          "execution_count": 65
        }
      ]
    },
    {
      "cell_type": "code",
      "metadata": {
        "id": "QcnnWuT0QjPE"
      },
      "source": [
        "mat1 = np.array([2,1,1])\n",
        "mat2 = np.array([[1]\n",
        "                ,[1]\n",
        "                ,[2]])"
      ],
      "execution_count": 66,
      "outputs": []
    },
    {
      "cell_type": "code",
      "metadata": {
        "id": "FYM18anIQtMe",
        "colab": {
          "base_uri": "https://localhost:8080/"
        },
        "outputId": "7b6f1c7d-e327-484a-88d9-452313c48635"
      },
      "source": [
        "mult = mat1*mat2\n",
        "mult"
      ],
      "execution_count": 67,
      "outputs": [
        {
          "output_type": "execute_result",
          "data": {
            "text/plain": [
              "array([[2, 1, 1],\n",
              "       [2, 1, 1],\n",
              "       [4, 2, 2]])"
            ]
          },
          "metadata": {
            "tags": []
          },
          "execution_count": 67
        }
      ]
    },
    {
      "cell_type": "code",
      "metadata": {
        "colab": {
          "base_uri": "https://localhost:8080/"
        },
        "id": "1IWsN7E4JeU1",
        "outputId": "71dfb90e-7bd0-467c-d98a-1e5d365572f9"
      },
      "source": [
        "mat1.reshape(-1,1)"
      ],
      "execution_count": 68,
      "outputs": [
        {
          "output_type": "execute_result",
          "data": {
            "text/plain": [
              "array([[2],\n",
              "       [1],\n",
              "       [1]])"
            ]
          },
          "metadata": {
            "tags": []
          },
          "execution_count": 68
        }
      ]
    },
    {
      "cell_type": "code",
      "metadata": {
        "colab": {
          "base_uri": "https://localhost:8080/"
        },
        "id": "BiLsD_kZJp1r",
        "outputId": "d2b154db-1f56-46a8-ba1b-988df0a712c7"
      },
      "source": [
        "mat1.argmax()"
      ],
      "execution_count": 69,
      "outputs": [
        {
          "output_type": "execute_result",
          "data": {
            "text/plain": [
              "0"
            ]
          },
          "metadata": {
            "tags": []
          },
          "execution_count": 69
        }
      ]
    },
    {
      "cell_type": "code",
      "metadata": {
        "id": "jaqppJ1ZQyqg",
        "colab": {
          "base_uri": "https://localhost:8080/",
          "height": 204
        },
        "outputId": "0c00b3ce-cab7-4477-8917-e3a253349316"
      },
      "source": [
        "# Carregar e manipular conjunto de dados\n",
        "\n",
        "df = pd.read_csv('https://raw.githubusercontent.com/thiagolopes97/ITA/main/CT-600%20Est%C3%A1gio%20Doc%C3%AAncia/dataset/iris.csv')\n",
        "df.head()"
      ],
      "execution_count": 71,
      "outputs": [
        {
          "output_type": "execute_result",
          "data": {
            "text/html": [
              "<div>\n",
              "<style scoped>\n",
              "    .dataframe tbody tr th:only-of-type {\n",
              "        vertical-align: middle;\n",
              "    }\n",
              "\n",
              "    .dataframe tbody tr th {\n",
              "        vertical-align: top;\n",
              "    }\n",
              "\n",
              "    .dataframe thead th {\n",
              "        text-align: right;\n",
              "    }\n",
              "</style>\n",
              "<table border=\"1\" class=\"dataframe\">\n",
              "  <thead>\n",
              "    <tr style=\"text-align: right;\">\n",
              "      <th></th>\n",
              "      <th>sepal length</th>\n",
              "      <th>sepal width</th>\n",
              "      <th>petal length</th>\n",
              "      <th>petal width</th>\n",
              "      <th>class</th>\n",
              "    </tr>\n",
              "  </thead>\n",
              "  <tbody>\n",
              "    <tr>\n",
              "      <th>0</th>\n",
              "      <td>5.1</td>\n",
              "      <td>3.5</td>\n",
              "      <td>1.4</td>\n",
              "      <td>0.2</td>\n",
              "      <td>Iris-setosa</td>\n",
              "    </tr>\n",
              "    <tr>\n",
              "      <th>1</th>\n",
              "      <td>4.9</td>\n",
              "      <td>3.0</td>\n",
              "      <td>1.4</td>\n",
              "      <td>0.2</td>\n",
              "      <td>Iris-setosa</td>\n",
              "    </tr>\n",
              "    <tr>\n",
              "      <th>2</th>\n",
              "      <td>4.7</td>\n",
              "      <td>3.2</td>\n",
              "      <td>1.3</td>\n",
              "      <td>0.2</td>\n",
              "      <td>Iris-setosa</td>\n",
              "    </tr>\n",
              "    <tr>\n",
              "      <th>3</th>\n",
              "      <td>4.6</td>\n",
              "      <td>3.1</td>\n",
              "      <td>1.5</td>\n",
              "      <td>0.2</td>\n",
              "      <td>Iris-setosa</td>\n",
              "    </tr>\n",
              "    <tr>\n",
              "      <th>4</th>\n",
              "      <td>5.0</td>\n",
              "      <td>3.6</td>\n",
              "      <td>1.4</td>\n",
              "      <td>0.2</td>\n",
              "      <td>Iris-setosa</td>\n",
              "    </tr>\n",
              "  </tbody>\n",
              "</table>\n",
              "</div>"
            ],
            "text/plain": [
              "   sepal length  sepal width  petal length  petal width        class\n",
              "0           5.1          3.5           1.4          0.2  Iris-setosa\n",
              "1           4.9          3.0           1.4          0.2  Iris-setosa\n",
              "2           4.7          3.2           1.3          0.2  Iris-setosa\n",
              "3           4.6          3.1           1.5          0.2  Iris-setosa\n",
              "4           5.0          3.6           1.4          0.2  Iris-setosa"
            ]
          },
          "metadata": {
            "tags": []
          },
          "execution_count": 71
        }
      ]
    },
    {
      "cell_type": "code",
      "metadata": {
        "id": "j-vOYSKvRKaJ",
        "colab": {
          "base_uri": "https://localhost:8080/"
        },
        "outputId": "1918c13d-a166-4300-bc4a-a9eced885584"
      },
      "source": [
        "df.columns"
      ],
      "execution_count": 72,
      "outputs": [
        {
          "output_type": "execute_result",
          "data": {
            "text/plain": [
              "Index(['sepal length', 'sepal width', 'petal length', 'petal width', 'class'], dtype='object')"
            ]
          },
          "metadata": {
            "tags": []
          },
          "execution_count": 72
        }
      ]
    },
    {
      "cell_type": "code",
      "metadata": {
        "id": "iecafDJ8RQCJ",
        "colab": {
          "base_uri": "https://localhost:8080/"
        },
        "outputId": "c65414c3-d43a-4105-8b78-ef9a9d849aad"
      },
      "source": [
        "df['petal length'].head()"
      ],
      "execution_count": 73,
      "outputs": [
        {
          "output_type": "execute_result",
          "data": {
            "text/plain": [
              "0    1.4\n",
              "1    1.4\n",
              "2    1.3\n",
              "3    1.5\n",
              "4    1.4\n",
              "Name: petal length, dtype: float64"
            ]
          },
          "metadata": {
            "tags": []
          },
          "execution_count": 73
        }
      ]
    },
    {
      "cell_type": "code",
      "metadata": {
        "id": "C7EULHwtRVu-",
        "colab": {
          "base_uri": "https://localhost:8080/"
        },
        "outputId": "c64b926f-07dd-404b-ee06-90af4acad382"
      },
      "source": [
        "df['class'].value_counts()"
      ],
      "execution_count": 74,
      "outputs": [
        {
          "output_type": "execute_result",
          "data": {
            "text/plain": [
              "Iris-virginica     50\n",
              "Iris-versicolor    50\n",
              "Iris-setosa        50\n",
              "Name: class, dtype: int64"
            ]
          },
          "metadata": {
            "tags": []
          },
          "execution_count": 74
        }
      ]
    },
    {
      "cell_type": "code",
      "metadata": {
        "id": "eJIlppbVRZ3F",
        "colab": {
          "base_uri": "https://localhost:8080/",
          "height": 285
        },
        "outputId": "4b2ddba6-27f6-492e-9fca-b58e4b74ca8c"
      },
      "source": [
        "plt.scatter(df['sepal length'],df['sepal width'],c=\"#00DF00\")"
      ],
      "execution_count": 75,
      "outputs": [
        {
          "output_type": "execute_result",
          "data": {
            "text/plain": [
              "<matplotlib.collections.PathCollection at 0x7f6372f7b1d0>"
            ]
          },
          "metadata": {
            "tags": []
          },
          "execution_count": 75
        },
        {
          "output_type": "display_data",
          "data": {
            "image/png": "[encoded data removed]",
            "text/plain": [
              "<Figure size 432x288 with 1 Axes>"
            ]
          },
          "metadata": {
            "tags": [],
            "needs_background": "light"
          }
        }
      ]
    },
    {
      "cell_type": "code",
      "metadata": {
        "id": "GjsoXuRXd3QT",
        "colab": {
          "base_uri": "https://localhost:8080/",
          "height": 282
        },
        "outputId": "4037a786-e3b2-47c9-f2ad-4e9b4281db0b"
      },
      "source": [
        "plt.bar(df['class'].value_counts().index,df['class'].value_counts())"
      ],
      "execution_count": 76,
      "outputs": [
        {
          "output_type": "execute_result",
          "data": {
            "text/plain": [
              "<BarContainer object of 3 artists>"
            ]
          },
          "metadata": {
            "tags": []
          },
          "execution_count": 76
        },
        {
          "output_type": "display_data",
          "data": {
            "image/png": "[encoded data removed]",
            "text/plain": [
              "<Figure size 432x288 with 1 Axes>"
            ]
          },
          "metadata": {
            "tags": [],
            "needs_background": "light"
          }
        }
      ]
    }
  ]
}