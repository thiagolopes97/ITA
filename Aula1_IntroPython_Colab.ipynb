{
  "nbformat": 4,
  "nbformat_minor": 0,
  "metadata": {
    "colab": {
      "name": "Aula1-IntroPython_Colab.ipynb",
      "provenance": [],
      "collapsed_sections": [],
      "toc_visible": true,
      "authorship_tag": "ABX9TyOnIKa2ctKrMrm+r2LSpSvn",
      "include_colab_link": true
    },
    "kernelspec": {
      "name": "python3",
      "display_name": "Python 3"
    }
  },
  "cells": [
    {
      "cell_type": "markdown",
      "metadata": {
        "id": "view-in-github",
        "colab_type": "text"
      },
      "source": [
        "<a href=\"https://colab.research.google.com/github/thiagolopes97/ITA/blob/main/Aula1_IntroPython_Colab.ipynb\" target=\"_parent\"><img src=\"https://colab.research.google.com/assets/colab-badge.svg\" alt=\"Open In Colab\"/></a>"
      ]
    },
    {
      "cell_type": "markdown",
      "metadata": {
        "id": "R-xpxrGrRGBk"
      },
      "source": [
        "<img alt=\"Logo ITA\" width=\"500\" src=\"https://logodownload.org/wp-content/uploads/2018/01/ita-logo.png\">\n",
        "\n",
        "*Autor do material:* **Thiago Gonçalves Guimarães Lopes**\n",
        "\n",
        "*Desenvovlido para a Disciplina:* **CT-600 Estágio Docência**\n",
        "\n",
        "#### **Aula 1 - Introdução a Linguagem Python e ao Ambiente Google Colab**\n",
        "\n",
        "---\n",
        "\n",
        "<h1>Ambiente para aprendizagem e execução de códigos</h1>\n",
        "\n",
        "**O que é Python?**\n",
        "Python é uma linguagem de programação de alto nível, dinâmica, interpretada e  orientada a objetos. Os procedimentos são divididos e dependentes de classes. \n",
        "\n",
        "As vantagens de se utilizar essa linguagem é sua  sintaxe relativamente simples e de fácil compreensão, ser uma linguagem OpenSource. Mas sua principal vantagem é  uma comunidade gigantesca de profissionais de diversas áreas: indústria, programadores, engenheiros, matemáticos, cientistas de dados, pesquisadores e outros.\n",
        "\n",
        "Essa comunidade desenvolveu diversos **Frameworks** que são denominados como **Biliotecas**. Estes conjuntos de funçôes permite que realizar contas, manipular dados ou treinar modelos de Aprendizado de Máquina (*Machine Learning*) sem que precisemos escrever um extenso código.\n",
        "\n",
        "<img alt=\"Logo ITA\" width=\"450\" src=\"https://cio.com.br/wp-content/uploads/2020/10/linguagem-programacao-python.jpg\">\n",
        "\n",
        "**O que é o Colab?**\n",
        "Google Colab é uma IDE (Integrated Development Environment ou Ambiente de Desenvolvimento Integrado) com o ambiente Jupyter Notebook que roda inteiramente na nuvem. Ou seja, você consegue criar e rodar seus projetos de Data Science sem perder tempo configurando sua máquina local.\n",
        "\n",
        "Os notebooks do Colab são notebooks do Jupyter hospedados no Colab. Para saber mais sobre o projeto Jupyter, acesse <a href=\"https://www.jupyter.org\">jupyter.org</a>.\n",
        "\n",
        "Os notebooks do Colab permitem combinar <strong>código executável</strong> e <strong>rich text</strong> em um só documento, além de <strong>imagens</strong>, <strong>HTML</strong>, <strong>LaTeX</strong> e muito mais. Quando você cria seus próprios notebooks do Colab, eles são armazenados na sua conta do Google Drive. É possível compartilhar os notebooks do Colab facilmente com colegas de trabalho ou amigos e permitir que eles façam comentários ou até editem o documento. Para saber mais, consulte a <a href=\"/notebooks/basic_features_overview.ipynb\">Visão Geral do Colab</a> (Criação própria do Colab)."
      ]
    },
    {
      "cell_type": "markdown",
      "metadata": {
        "id": "VRElnxx_rqTH"
      },
      "source": [
        "# Fundamento Jupyter Notebook\n",
        "\n",
        "---\n",
        "\n",
        "Você pode escrever direto. Utilizando a linguagem **Markdown** do Colab para estilizar e ressaltar partes do seu texto.\n",
        "\n",
        "## Guia **Markdown**\n",
        "\n",
        "Markdown | Resultado\n",
        "--- | ---\n",
        "`**Negrito**` | **Negrito**\n",
        "`*Itálico*` or `_Itálico_` | *Itálico*\n",
        "`` `Monospace` `` | `Monospace`\n",
        "`~~Tachado~~` | ~~Tachado~~\n",
        "`[Link direto](https://www.google.com)` | [Link direto](https://www.google.com)\n",
        "`![Imagem](https://www.google.com/images/rss.png)` | ![Imagem](https://www.google.com/images/rss.png)\n",
        "\n",
        "\n",
        "---\n",
        "Para escrever **Capítulos, Seçõs, Subseções**:\n",
        "\n",
        "```markdown\n",
        "# Capítulo 1\n",
        "# Seção 1\n",
        "## Subseção 2\n",
        "### Subseção 3\n",
        "# Capítulo 2\n",
        "```\n",
        "\n",
        "# Capítulo 1\n",
        "# Seção 1\n",
        "## Subseção 2\n",
        "### Subseção 3\n",
        "# Capítulo 2\n",
        "\n",
        "---\n",
        "\n",
        "Criar um bloco recuado (**Identação**):\n",
        "\n",
        "```markdown\n",
        ">Recuo simples\n",
        "```\n",
        "\n",
        ">Recuo simples\n",
        "\n",
        "\n",
        "```markdown\n",
        ">>Recuo duplo\n",
        "```\n",
        "\n",
        ">>Recuo duplo\n",
        "\n",
        "---\n",
        "\n",
        "Escrever **células de código** em formato texto\n",
        "Code blocks:\n",
        "````\n",
        "```python\n",
        "print(\"a\")\n",
        "```\n",
        "````\n",
        "\n",
        "```python\n",
        "print(\"a\")\n",
        "```\n",
        "\n",
        "---\n",
        "Criação de **listas ordenadas e simples**:\n",
        "```markdown\n",
        "1. Um\n",
        "1. Dois\n",
        "1. Três\n",
        "```\n",
        "1. Um\n",
        "1. Dois\n",
        "1. Três\n",
        "\n",
        "---\n",
        "```markdown\n",
        "* Um\n",
        "* Dois\n",
        "* Três\n",
        "```\n",
        "* Um\n",
        "* Dois\n",
        "* Três\n",
        "---\n",
        "\n",
        "**Escrever equações**, o colab tem uma integração com $\\LaTeX$:\n",
        "\n",
        "```markdown\n",
        "$y=x^2$\n",
        "\n",
        "$e^{i\\pi} + 1 = 0$\n",
        "\n",
        "$e^x=\\sum_{i=0}^\\infty \\frac{1}{i!}x^i$\n",
        "\n",
        "$\\frac{n!}{k!(n-k)!} = {n \\choose k}$\n",
        "\n",
        "$A_{m,n} =\n",
        " \\begin{pmatrix}\n",
        "  a_{1,1} & a_{1,2} & \\cdots & a_{1,n} \\\\\n",
        "  a_{2,1} & a_{2,2} & \\cdots & a_{2,n} \\\\\n",
        "  \\vdots  & \\vdots  & \\ddots & \\vdots  \\\\\n",
        "  a_{m,1} & a_{m,2} & \\cdots & a_{m,n}\n",
        " \\end{pmatrix}$\n",
        "```\n",
        "\n",
        "$y=x^2$\n",
        "\n",
        "$e^{i\\pi} + 1 = 0$\n",
        "\n",
        "$e^x=\\sum_{i=0}^\\infty \\frac{1}{i!}x^i$\n",
        "\n",
        "$\\frac{n!}{k!(n-k)!} = {n \\choose k}$\n",
        "\n",
        "$A_{m,n} =\n",
        " \\begin{pmatrix}\n",
        "  a_{1,1} & a_{1,2} & \\cdots & a_{1,n} \\\\\n",
        "  a_{2,1} & a_{2,2} & \\cdots & a_{2,n} \\\\\n",
        "  \\vdots  & \\vdots  & \\ddots & \\vdots  \\\\\n",
        "  a_{m,1} & a_{m,2} & \\cdots & a_{m,n}\n",
        " \\end{pmatrix}$\n",
        "\n",
        "\n",
        " ---\n",
        "\n",
        "Criação de **Tabelas**:\n",
        "```markdown\n",
        "Coluna 1  | Coluna 2 \n",
        "-------------------|------------------\n",
        "Row 1, Col 1       | Row 1, Col 2 \n",
        "Row 2, Col 1       | Row 2, Col 2 \n",
        "\n",
        "```\n",
        "\n",
        "Coluna 1  | Coluna 2 \n",
        "-------------------|------------------\n",
        "Row 1, Col 1       | Row 1, Col 2 \n",
        "Row 2, Col 1       | Row 2, Col 2 \n",
        "\n",
        "---\n",
        "Para inserir imanges:\n",
        "```markdown\n",
        "<img alt=\"Logo ITA\" width=\"500\" src=\"https://logodownload.org/wp-content/uploads/2018/01/ita-logo.png\">\n",
        "```\n",
        "<img alt=\"Logo ITA\" width=\"500\" src=\"https://logodownload.org/wp-content/uploads/2018/01/ita-logo.png\">\n",
        "\n",
        "---\n"
      ]
    },
    {
      "cell_type": "markdown",
      "metadata": {
        "id": "sGjEJ9M2rmUd"
      },
      "source": [
        "# Fundamento Python"
      ]
    },
    {
      "cell_type": "markdown",
      "metadata": {
        "id": "v2YuHg1iJlYS"
      },
      "source": [
        "## Variáveis\n",
        "\n",
        "Em python existem três tipos de variáveis `integers` (inteiros), `strings` (caracteres) ou `floats` (flutuantes ou decimais).\n",
        "\n",
        "Diferente de outras linguagens, o Python entende qual o tipo de variável, sem precisar declará-la anteriormente."
      ]
    },
    {
      "cell_type": "markdown",
      "metadata": {
        "id": "82Dw7isSKSnG"
      },
      "source": [
        "### Integers\n"
      ]
    },
    {
      "cell_type": "code",
      "metadata": {
        "id": "zX3CRTx6IfLV",
        "colab": {
          "base_uri": "https://localhost:8080/"
        },
        "outputId": "33e23b50-6077-45d7-9477-767b0b47a9d0"
      },
      "source": [
        "x = 100\n",
        "print(x)"
      ],
      "execution_count": 22,
      "outputs": [
        {
          "output_type": "stream",
          "text": [
            "100\n"
          ],
          "name": "stdout"
        }
      ]
    },
    {
      "cell_type": "code",
      "metadata": {
        "colab": {
          "base_uri": "https://localhost:8080/"
        },
        "id": "WmmXVaH41X-H",
        "outputId": "18870022-2653-4c90-9627-39c452393637"
      },
      "source": [
        "type(x)"
      ],
      "execution_count": 23,
      "outputs": [
        {
          "output_type": "execute_result",
          "data": {
            "text/plain": [
              "int"
            ]
          },
          "metadata": {
            "tags": []
          },
          "execution_count": 23
        }
      ]
    },
    {
      "cell_type": "markdown",
      "metadata": {
        "id": "eF8QT6OFKdBF"
      },
      "source": [
        "### Floats\n"
      ]
    },
    {
      "cell_type": "code",
      "metadata": {
        "id": "A7QseAg_J_vV",
        "colab": {
          "base_uri": "https://localhost:8080/"
        },
        "outputId": "948d2263-8f80-4c0e-bb0c-fbad407f0e07"
      },
      "source": [
        "x = 25.0\n",
        "print(x)\n",
        "print(type(x))"
      ],
      "execution_count": 24,
      "outputs": [
        {
          "output_type": "stream",
          "text": [
            "25.0\n",
            "<class 'float'>\n"
          ],
          "name": "stdout"
        }
      ]
    },
    {
      "cell_type": "code",
      "metadata": {
        "colab": {
          "base_uri": "https://localhost:8080/"
        },
        "id": "aBtVoKNn15R-",
        "outputId": "3697eed3-0740-4bb1-d868-cf463e9d5331"
      },
      "source": [
        "type(25)"
      ],
      "execution_count": 25,
      "outputs": [
        {
          "output_type": "execute_result",
          "data": {
            "text/plain": [
              "int"
            ]
          },
          "metadata": {
            "tags": []
          },
          "execution_count": 25
        }
      ]
    },
    {
      "cell_type": "markdown",
      "metadata": {
        "id": "T1gTB698LGfN"
      },
      "source": [
        "### Strings"
      ]
    },
    {
      "cell_type": "code",
      "metadata": {
        "id": "G_iJjopFKEDO",
        "colab": {
          "base_uri": "https://localhost:8080/"
        },
        "outputId": "a2f0875c-4c03-4e70-dd88-5d6456038458"
      },
      "source": [
        "x = \"CT-600 Estágio Docência.\"\n",
        "print(x)\n",
        "print(type(x))"
      ],
      "execution_count": 26,
      "outputs": [
        {
          "output_type": "stream",
          "text": [
            "CT-600 Estágio Docência.\n",
            "<class 'str'>\n"
          ],
          "name": "stdout"
        }
      ]
    },
    {
      "cell_type": "markdown",
      "metadata": {
        "id": "qKSEFEK02MHk"
      },
      "source": [
        "## Operações com variáveis\n",
        "\n",
        "Os operadores aritméticos do Python são:\n",
        "\n",
        "* `+` Adição\n",
        "* `-` Subtração\n",
        "* `*` Multiplicação\n",
        "* `/` Divisão\n",
        "* `**` Exponenciação\n",
        "* `//` Divisão inteira\n",
        "* `%` Resto de divisão\n",
        "\n",
        "Lembrando que a ordem de precedência das operações matemáticas são:\n",
        "\n",
        "* 1º Parêntesis;\n",
        "* 2º Expoentes;\n",
        "* 3º Multiplicações e Divisões; (da esquerda para a direita)\n",
        "* 4º Somas e Subtrações. (da esquerda para a direita)"
      ]
    },
    {
      "cell_type": "code",
      "metadata": {
        "colab": {
          "base_uri": "https://localhost:8080/"
        },
        "id": "aTovqBx42w0Z",
        "outputId": "7db30aee-023f-4326-908b-0a1d6a61d3d1"
      },
      "source": [
        "x = 10\n",
        "print('Variável de teste:\\nx = ',x)\n",
        "\n",
        "\n",
        "# Soma\n",
        "y = x + 10\n",
        "print('\\nSoma: x + 10 = ',y)\n",
        "\n",
        "# Subtração\n",
        "y = x - 10\n",
        "print('\\nSubtração: x - 10 = ',y)\n",
        "\n",
        "# Multiplicação\n",
        "y = x*3\n",
        "print('\\nMultiplicação: x*3 = ',y)\n",
        "\n",
        "# Divisão\n",
        "y = x/5\n",
        "print('\\nDivisão Ex1:: x/5 = ',y)\n",
        "y = x/3\n",
        "print('\\nDivisão Ex2:: x/3 = ',y)\n",
        "\n",
        "# Exponenciação\n",
        "y = x**2\n",
        "print('\\nExponenciação: x**2 = ',y)\n",
        "\n",
        "# Divisão inteira\n",
        "y = x//6\n",
        "print('\\nDivisão inteira: x//6 = ',y)\n",
        "\n",
        "# Resto de divisão\n",
        "y = x%6\n",
        "print('\\nResto divisão: x%6 = ',y)"
      ],
      "execution_count": 27,
      "outputs": [
        {
          "output_type": "stream",
          "text": [
            "Variável de teste:\n",
            "x =  10\n",
            "\n",
            "Soma: x + 10 =  20\n",
            "\n",
            "Subtração: x - 10 =  0\n",
            "\n",
            "Multiplicação: x*3 =  30\n",
            "\n",
            "Divisão Ex1:: x/5 =  2.0\n",
            "\n",
            "Divisão Ex2:: x/3 =  3.3333333333333335\n",
            "\n",
            "Exponenciação: x**2 =  100\n",
            "\n",
            "Divisão inteira: x//6 =  1\n",
            "\n",
            "Resto divisão: x%6 =  4\n"
          ],
          "name": "stdout"
        }
      ]
    },
    {
      "cell_type": "markdown",
      "metadata": {
        "id": "8fYHDjRe28Bm"
      },
      "source": [
        "## Funções Nativas\n",
        "\n",
        "Funções nativas da linguagem ou  **built-in** são funções internas que já vem incorporadas na linguagem e estão sempre disponíveis para utilização. Diferente de outras funções que será necessário download e importação de suas bibliotecas. \n",
        "\n",
        "Para maiores consultas e dúvidas, recomenda-se o link: https://stefanilima.com.br/2018/04/27/funcoes-built-in-do-python/"
      ]
    },
    {
      "cell_type": "code",
      "metadata": {
        "id": "-hMsRVpe-R2G",
        "colab": {
          "base_uri": "https://localhost:8080/"
        },
        "outputId": "c7d21f73-cf10-4980-c372-c075ffe87c56"
      },
      "source": [
        "# Imprimir uma variável \n",
        "print(\"O texto irá aqui\")\n",
        "print(2)"
      ],
      "execution_count": 28,
      "outputs": [
        {
          "output_type": "stream",
          "text": [
            "O texto irá aqui\n",
            "2\n"
          ],
          "name": "stdout"
        }
      ]
    },
    {
      "cell_type": "code",
      "metadata": {
        "colab": {
          "base_uri": "https://localhost:8080/"
        },
        "id": "FUwXCct1lQxl",
        "outputId": "1feb4fb2-5311-4033-9e79-3b310d2a3580"
      },
      "source": [
        "# Tipo da variável\n",
        "print(type(\"String\"),type(2),type(2.0))"
      ],
      "execution_count": 29,
      "outputs": [
        {
          "output_type": "stream",
          "text": [
            "<class 'str'> <class 'int'> <class 'float'>\n"
          ],
          "name": "stdout"
        }
      ]
    },
    {
      "cell_type": "code",
      "metadata": {
        "colab": {
          "base_uri": "https://localhost:8080/"
        },
        "id": "5lH0KQTvlY35",
        "outputId": "660de55a-71f2-4137-e6ae-91eec0f2029e"
      },
      "source": [
        "# Procurar documentação de uma função\n",
        "help(print)"
      ],
      "execution_count": 30,
      "outputs": [
        {
          "output_type": "stream",
          "text": [
            "Help on built-in function print in module builtins:\n",
            "\n",
            "print(...)\n",
            "    print(value, ..., sep=' ', end='\\n', file=sys.stdout, flush=False)\n",
            "    \n",
            "    Prints the values to a stream, or to sys.stdout by default.\n",
            "    Optional keyword arguments:\n",
            "    file:  a file-like object (stream); defaults to the current sys.stdout.\n",
            "    sep:   string inserted between values, default a space.\n",
            "    end:   string appended after the last value, default a newline.\n",
            "    flush: whether to forcibly flush the stream.\n",
            "\n"
          ],
          "name": "stdout"
        }
      ]
    },
    {
      "cell_type": "code",
      "metadata": {
        "colab": {
          "base_uri": "https://localhost:8080/"
        },
        "id": "mWWGSrsIlsfJ",
        "outputId": "7d21d9ba-f15b-41a7-97e0-7de90af8f950"
      },
      "source": [
        "# Transforma uma variável em formato booleano\n",
        "print(bool(0),bool(1),bool(50))\n",
        "print(bool(0.0),bool(0.01))\n",
        "print(bool(\"\"),bool(\"Oi\"))"
      ],
      "execution_count": 31,
      "outputs": [
        {
          "output_type": "stream",
          "text": [
            "False True True\n",
            "False True\n",
            "False True\n"
          ],
          "name": "stdout"
        }
      ]
    },
    {
      "cell_type": "code",
      "metadata": {
        "colab": {
          "base_uri": "https://localhost:8080/"
        },
        "id": "swWWtM8jmCEX",
        "outputId": "9bc357ae-97cb-4fc9-b55b-37aaa64c666e"
      },
      "source": [
        "# Função de arredondamento\n",
        "print(round(0.9812))\n",
        "print(round(0.9812,2)) #-> Delimita a casa decimal a ser arredondada"
      ],
      "execution_count": 32,
      "outputs": [
        {
          "output_type": "stream",
          "text": [
            "1\n",
            "0.98\n"
          ],
          "name": "stdout"
        }
      ]
    },
    {
      "cell_type": "markdown",
      "metadata": {
        "id": "I-tsyrSzmcJS"
      },
      "source": [
        "Existem outras funções nativas importantes que serão utilizadas várias vezes. Será melhor explicá-las através de exemplos."
      ]
    },
    {
      "cell_type": "markdown",
      "metadata": {
        "id": "PEzuNl3TsTR8"
      },
      "source": [
        "## IF, FOR, WHILE\n",
        "**IF, FOR, WHILE** são as principais e mais usuais funções ou estruturas lógicas condicionais que permitem maior funcionalidades nos algoritmos.\n",
        "\n",
        "Eles utilizam a matemática booleano para tomar ou não uma decisão. Os 6 operadores são:\n",
        "\n",
        "\n",
        "| **OPERADOR** | **DESCRIÇÃO**    |\n",
        "|:------------:|:----------------:|\n",
        "| <            | Menor que        |\n",
        "| >            | Maior que        |\n",
        "| <=           | Menor or igual a |\n",
        "| >=           | Maior ou igual a |\n",
        "| ==           | Igual a          |\n",
        "| \\!=          | Diferente de     |\n",
        "\n",
        "É importante ressaltar estas estruturas no Python trabalham usando a identação. Muitos erros no código estão ligados a identação errada."
      ]
    },
    {
      "cell_type": "markdown",
      "metadata": {
        "id": "Q5ZWZtFBsbGQ"
      },
      "source": [
        "## Estruturas de dados"
      ]
    },
    {
      "cell_type": "markdown",
      "metadata": {
        "id": "z7BNSfCwtwSu"
      },
      "source": [
        "## Funções"
      ]
    },
    {
      "cell_type": "markdown",
      "metadata": {
        "id": "ej4Cl0RgutOK"
      },
      "source": [
        "## Bibliotecas"
      ]
    }
  ]
}