{
  "nbformat": 4,
  "nbformat_minor": 0,
  "metadata": {
    "colab": {
      "name": "Aula1-IntroPython_Colab.ipynb",
      "provenance": [],
      "collapsed_sections": [],
      "toc_visible": true,
      "authorship_tag": "ABX9TyPeIkhPOEK5wmb265den0Oz",
      "include_colab_link": true
    },
    "kernelspec": {
      "name": "python3",
      "display_name": "Python 3"
    }
  },
  "cells": [
    {
      "cell_type": "markdown",
      "metadata": {
        "id": "view-in-github",
        "colab_type": "text"
      },
      "source": [
        "<a href=\"https://colab.research.google.com/github/thiagolopes97/ITA/blob/main/Aula1_IntroPython_Colab.ipynb\" target=\"_parent\"><img src=\"https://colab.research.google.com/assets/colab-badge.svg\" alt=\"Open In Colab\"/></a>"
      ]
    },
    {
      "cell_type": "markdown",
      "metadata": {
        "id": "R-xpxrGrRGBk"
      },
      "source": [
        "<img alt=\"Logo ITA\" width=\"500\" src=\"https://logodownload.org/wp-content/uploads/2018/01/ita-logo.png\">\n",
        "\n",
        "*Autor do material:* **Thiago Gonçalves Guimarães Lopes**\n",
        "\n",
        "*Desenvovlido para a Disciplina:* **CT-600 Estágio Docência**\n",
        "\n",
        "#### **Aula 1 - Introdução a Linguagem Python e ao Ambiente Google Colab**\n",
        "\n",
        "---\n",
        "\n",
        "<h1>Ambiente para aprendizagem e execução de códigos</h1>\n",
        "\n",
        "**O que é Python?**\n",
        "Python é uma linguagem de programação de alto nível, dinâmica, interpretada e  orientada a objetos. Os procedimentos são divididos e dependentes de classes. \n",
        "\n",
        "As vantagens de se utilizar essa linguagem é sua  sintaxe relativamente simples e de fácil compreensão, ser uma linguagem OpenSource. Mas sua principal vantagem é  uma comunidade gigantesca de profissionais de diversas áreas: indústria, programadores, engenheiros, matemáticos, cientistas de dados, pesquisadores e outros.\n",
        "\n",
        "Essa comunidade desenvolveu diversos **Frameworks** que são denominados como **Biliotecas**. Estes conjuntos de funçôes permite que realizar contas, manipular dados ou treinar modelos de Aprendizado de Máquina (*Machine Learning*) sem que precisemos escrever um extenso código.\n",
        "\n",
        "<img alt=\"Logo ITA\" width=\"450\" src=\"https://cio.com.br/wp-content/uploads/2020/10/linguagem-programacao-python.jpg\">\n",
        "\n",
        "**O que é o Colab?**\n",
        "Google Colab é uma IDE (Integrated Development Environment ou Ambiente de Desenvolvimento Integrado) com o ambiente Jupyter Notebook que roda inteiramente na nuvem. Ou seja, você consegue criar e rodar seus projetos de Data Science sem perder tempo configurando sua máquina local.\n",
        "\n",
        "Os notebooks do Colab são notebooks do Jupyter hospedados no Colab. Para saber mais sobre o projeto Jupyter, acesse <a href=\"https://www.jupyter.org\">jupyter.org</a>.\n",
        "\n",
        "Os notebooks do Colab permitem combinar <strong>código executável</strong> e <strong>rich text</strong> em um só documento, além de <strong>imagens</strong>, <strong>HTML</strong>, <strong>LaTeX</strong> e muito mais. Quando você cria seus próprios notebooks do Colab, eles são armazenados na sua conta do Google Drive. É possível compartilhar os notebooks do Colab facilmente com colegas de trabalho ou amigos e permitir que eles façam comentários ou até editem o documento. Para saber mais, consulte a <a href=\"/notebooks/basic_features_overview.ipynb\">Visão Geral do Colab</a> (Criação própria do Colab)."
      ]
    },
    {
      "cell_type": "markdown",
      "metadata": {
        "id": "VRElnxx_rqTH"
      },
      "source": [
        "# Fundamento Jupyter Notebook\n",
        "\n",
        "---\n",
        "\n",
        "Você pode escrever direto. Utilizando a linguagem **Markdown** do Colab para estilizar e ressaltar partes do seu texto.\n",
        "\n",
        "## Guia **Markdown**\n",
        "\n",
        "Markdown | Resultado\n",
        "--- | ---\n",
        "`**Negrito**` | **Negrito**\n",
        "`*Itálico*` or `_Itálico_` | *Itálico*\n",
        "`` `Monospace` `` | `Monospace`\n",
        "`~~Tachado~~` | ~~Tachado~~\n",
        "`[Link direto](https://www.google.com)` | [Link direto](https://www.google.com)\n",
        "`![Imagem](https://www.google.com/images/rss.png)` | ![Imagem](https://www.google.com/images/rss.png)\n",
        "\n",
        "\n",
        "---\n",
        "Para escrever **Capítulos, Seçõs, Subseções**:\n",
        "\n",
        "```markdown\n",
        "# Capítulo 1\n",
        "# Seção 1\n",
        "## Subseção 2\n",
        "### Subseção 3\n",
        "# Capítulo 2\n",
        "```\n",
        "\n",
        "# Capítulo 1\n",
        "# Seção 1\n",
        "## Subseção 2\n",
        "### Subseção 3\n",
        "# Capítulo 2\n",
        "\n",
        "---\n",
        "\n",
        "Criar um bloco recuado (**Identação**):\n",
        "\n",
        "```markdown\n",
        ">Recuo simples\n",
        "```\n",
        "\n",
        ">Recuo simples\n",
        "\n",
        "\n",
        "```markdown\n",
        ">>Recuo duplo\n",
        "```\n",
        "\n",
        ">>Recuo duplo\n",
        "\n",
        "---\n",
        "\n",
        "Escrever **células de código** em formato texto\n",
        "Code blocks:\n",
        "````\n",
        "```python\n",
        "print(\"a\")\n",
        "```\n",
        "````\n",
        "\n",
        "```python\n",
        "print(\"a\")\n",
        "```\n",
        "\n",
        "---\n",
        "Criação de **listas ordenadas e simples**:\n",
        "```markdown\n",
        "1. Um\n",
        "1. Dois\n",
        "1. Três\n",
        "```\n",
        "1. Um\n",
        "1. Dois\n",
        "1. Três\n",
        "\n",
        "---\n",
        "```markdown\n",
        "* Um\n",
        "* Dois\n",
        "* Três\n",
        "```\n",
        "* Um\n",
        "* Dois\n",
        "* Três\n",
        "---\n",
        "\n",
        "**Escrever equações**, o colab tem uma integração com $\\LaTeX$:\n",
        "\n",
        "```markdown\n",
        "$y=x^2$\n",
        "\n",
        "$e^{i\\pi} + 1 = 0$\n",
        "\n",
        "$e^x=\\sum_{i=0}^\\infty \\frac{1}{i!}x^i$\n",
        "\n",
        "$\\frac{n!}{k!(n-k)!} = {n \\choose k}$\n",
        "\n",
        "$A_{m,n} =\n",
        " \\begin{pmatrix}\n",
        "  a_{1,1} & a_{1,2} & \\cdots & a_{1,n} \\\\\n",
        "  a_{2,1} & a_{2,2} & \\cdots & a_{2,n} \\\\\n",
        "  \\vdots  & \\vdots  & \\ddots & \\vdots  \\\\\n",
        "  a_{m,1} & a_{m,2} & \\cdots & a_{m,n}\n",
        " \\end{pmatrix}$\n",
        "```\n",
        "\n",
        "$y=x^2$\n",
        "\n",
        "$e^{i\\pi} + 1 = 0$\n",
        "\n",
        "$e^x=\\sum_{i=0}^\\infty \\frac{1}{i!}x^i$\n",
        "\n",
        "$\\frac{n!}{k!(n-k)!} = {n \\choose k}$\n",
        "\n",
        "$A_{m,n} =\n",
        " \\begin{pmatrix}\n",
        "  a_{1,1} & a_{1,2} & \\cdots & a_{1,n} \\\\\n",
        "  a_{2,1} & a_{2,2} & \\cdots & a_{2,n} \\\\\n",
        "  \\vdots  & \\vdots  & \\ddots & \\vdots  \\\\\n",
        "  a_{m,1} & a_{m,2} & \\cdots & a_{m,n}\n",
        " \\end{pmatrix}$\n",
        "\n",
        "\n",
        " ---\n",
        "\n",
        "Criação de **Tabelas**:\n",
        "```markdown\n",
        "Coluna 1  | Coluna 2 \n",
        "-------------------|------------------\n",
        "Row 1, Col 1       | Row 1, Col 2 \n",
        "Row 2, Col 1       | Row 2, Col 2 \n",
        "\n",
        "```\n",
        "\n",
        "Coluna 1  | Coluna 2 \n",
        "-------------------|------------------\n",
        "Row 1, Col 1       | Row 1, Col 2 \n",
        "Row 2, Col 1       | Row 2, Col 2 \n",
        "\n",
        "---\n",
        "Para inserir imanges:\n",
        "```markdown\n",
        "<img alt=\"Logo ITA\" width=\"500\" src=\"https://logodownload.org/wp-content/uploads/2018/01/ita-logo.png\">\n",
        "```\n",
        "<img alt=\"Logo ITA\" width=\"500\" src=\"https://logodownload.org/wp-content/uploads/2018/01/ita-logo.png\">\n",
        "\n",
        "---\n"
      ]
    },
    {
      "cell_type": "markdown",
      "metadata": {
        "id": "sGjEJ9M2rmUd"
      },
      "source": [
        "# Fundamento Python"
      ]
    },
    {
      "cell_type": "markdown",
      "metadata": {
        "id": "v2YuHg1iJlYS"
      },
      "source": [
        "## Variáveis\n",
        "\n",
        "Em python existem três tipos de variáveis `integers` (inteiros), `strings` (caracteres) ou `floats` (flutuantes ou decimais).\n",
        "\n",
        "Diferente de outras linguagens, o Python entende qual o tipo de variável, sem precisar declará-la anteriormente."
      ]
    },
    {
      "cell_type": "markdown",
      "metadata": {
        "id": "82Dw7isSKSnG"
      },
      "source": [
        "### Integers\n"
      ]
    },
    {
      "cell_type": "code",
      "metadata": {
        "id": "zX3CRTx6IfLV",
        "colab": {
          "base_uri": "https://localhost:8080/"
        },
        "outputId": "04dedd60-815a-40c0-eda1-b0ffd5d82350"
      },
      "source": [
        "# Números inteiros\n",
        "x = 100\n",
        "print(x)"
      ],
      "execution_count": 1,
      "outputs": [
        {
          "output_type": "stream",
          "text": [
            "100\n"
          ],
          "name": "stdout"
        }
      ]
    },
    {
      "cell_type": "code",
      "metadata": {
        "colab": {
          "base_uri": "https://localhost:8080/"
        },
        "id": "WmmXVaH41X-H",
        "outputId": "3596ef5f-6211-4921-e9c5-682c16c1ad13"
      },
      "source": [
        "type(x)"
      ],
      "execution_count": 2,
      "outputs": [
        {
          "output_type": "execute_result",
          "data": {
            "text/plain": [
              "int"
            ]
          },
          "metadata": {
            "tags": []
          },
          "execution_count": 2
        }
      ]
    },
    {
      "cell_type": "markdown",
      "metadata": {
        "id": "eF8QT6OFKdBF"
      },
      "source": [
        "### Floats\n"
      ]
    },
    {
      "cell_type": "code",
      "metadata": {
        "id": "A7QseAg_J_vV",
        "colab": {
          "base_uri": "https://localhost:8080/"
        },
        "outputId": "6465c856-5ab2-420d-f855-e802ded4a5ec"
      },
      "source": [
        "# Números decimais\n",
        "x = 25.0\n",
        "print(x)\n",
        "print(type(x))"
      ],
      "execution_count": 3,
      "outputs": [
        {
          "output_type": "stream",
          "text": [
            "25.0\n",
            "<class 'float'>\n"
          ],
          "name": "stdout"
        }
      ]
    },
    {
      "cell_type": "code",
      "metadata": {
        "colab": {
          "base_uri": "https://localhost:8080/"
        },
        "id": "aBtVoKNn15R-",
        "outputId": "9d785e45-a668-49ec-a5d0-37c0cb3d8fd0"
      },
      "source": [
        "type(25)"
      ],
      "execution_count": 4,
      "outputs": [
        {
          "output_type": "execute_result",
          "data": {
            "text/plain": [
              "int"
            ]
          },
          "metadata": {
            "tags": []
          },
          "execution_count": 4
        }
      ]
    },
    {
      "cell_type": "markdown",
      "metadata": {
        "id": "T1gTB698LGfN"
      },
      "source": [
        "### Strings"
      ]
    },
    {
      "cell_type": "code",
      "metadata": {
        "id": "G_iJjopFKEDO",
        "colab": {
          "base_uri": "https://localhost:8080/"
        },
        "outputId": "cea96166-6bdf-41f8-f88f-f44b85ad7f3e"
      },
      "source": [
        "# Uma lista contendo caracteres\n",
        "x = \"CT-600 Estágio Docência.\"\n",
        "print(x)\n",
        "print(type(x))"
      ],
      "execution_count": 5,
      "outputs": [
        {
          "output_type": "stream",
          "text": [
            "CT-600 Estágio Docência.\n",
            "<class 'str'>\n"
          ],
          "name": "stdout"
        }
      ]
    },
    {
      "cell_type": "code",
      "metadata": {
        "colab": {
          "base_uri": "https://localhost:8080/"
        },
        "id": "eqs30HCu5leg",
        "outputId": "13881da6-aebf-4bad-ae80-c8099a10c7c0"
      },
      "source": [
        "# Acessar uma letra específica\n",
        "print(x[0]) # C\n",
        "print(x[2]) # -"
      ],
      "execution_count": 6,
      "outputs": [
        {
          "output_type": "stream",
          "text": [
            "C\n",
            "-\n"
          ],
          "name": "stdout"
        }
      ]
    },
    {
      "cell_type": "markdown",
      "metadata": {
        "id": "qKSEFEK02MHk"
      },
      "source": [
        "## Operações com variáveis\n",
        "\n",
        "Os operadores aritméticos do Python são:\n",
        "\n",
        "* `+` Adição\n",
        "* `-` Subtração\n",
        "* `*` Multiplicação\n",
        "* `/` Divisão\n",
        "* `**` Exponenciação\n",
        "* `//` Divisão inteira\n",
        "* `%` Resto de divisão\n",
        "\n",
        "Lembrando que a ordem de precedência das operações matemáticas são:\n",
        "\n",
        "* 1º Parêntesis;\n",
        "* 2º Expoentes;\n",
        "* 3º Multiplicações e Divisões; (da esquerda para a direita)\n",
        "* 4º Somas e Subtrações. (da esquerda para a direita)"
      ]
    },
    {
      "cell_type": "code",
      "metadata": {
        "colab": {
          "base_uri": "https://localhost:8080/"
        },
        "id": "aTovqBx42w0Z",
        "outputId": "5a6640e2-f08e-4ca3-92e4-e3e8473e833c"
      },
      "source": [
        "x = 10\n",
        "print('Variável de teste:\\nx = ',x)\n",
        "\n",
        "\n",
        "# Soma\n",
        "y = x + 10\n",
        "print('\\nSoma: x + 10 = ',y)\n",
        "\n",
        "# Subtração\n",
        "y = x - 10\n",
        "print('\\nSubtração: x - 10 = ',y)\n",
        "\n",
        "# Multiplicação\n",
        "y = x*3\n",
        "print('\\nMultiplicação: x*3 = ',y)\n",
        "\n",
        "# Divisão\n",
        "y = x/5\n",
        "print('\\nDivisão Ex1:: x/5 = ',y)\n",
        "y = x/3\n",
        "print('\\nDivisão Ex2:: x/3 = ',y)\n",
        "\n",
        "# Exponenciação\n",
        "y = x**2\n",
        "print('\\nExponenciação: x**2 = ',y)\n",
        "\n",
        "# Divisão inteira\n",
        "y = x//6\n",
        "print('\\nDivisão inteira: x//6 = ',y)\n",
        "\n",
        "# Resto de divisão\n",
        "y = x%6\n",
        "print('\\nResto divisão: x%6 = ',y)\n",
        "\n",
        "# Resultado do polinômio\n",
        "y = (x**2)/2 - 10/(3*5)\n",
        "print('\\nResultado: (x**2)/2 - 10/(3*5) = ',y)"
      ],
      "execution_count": 7,
      "outputs": [
        {
          "output_type": "stream",
          "text": [
            "Variável de teste:\n",
            "x =  10\n",
            "\n",
            "Soma: x + 10 =  20\n",
            "\n",
            "Subtração: x - 10 =  0\n",
            "\n",
            "Multiplicação: x*3 =  30\n",
            "\n",
            "Divisão Ex1:: x/5 =  2.0\n",
            "\n",
            "Divisão Ex2:: x/3 =  3.3333333333333335\n",
            "\n",
            "Exponenciação: x**2 =  100\n",
            "\n",
            "Divisão inteira: x//6 =  1\n",
            "\n",
            "Resto divisão: x%6 =  4\n",
            "\n",
            "Resultado: (x**2)/2 - 10/(3*5) =  49.333333333333336\n"
          ],
          "name": "stdout"
        }
      ]
    },
    {
      "cell_type": "markdown",
      "metadata": {
        "id": "8fYHDjRe28Bm"
      },
      "source": [
        "## Funções Nativas\n",
        "\n",
        "Funções nativas da linguagem ou  **built-in** são funções internas que já vem incorporadas na linguagem e estão sempre disponíveis para utilização. Diferente de outras funções que será necessário download e importação de suas bibliotecas. \n",
        "\n",
        "Para maiores consultas e dúvidas, recomenda-se o link: https://stefanilima.com.br/2018/04/27/funcoes-built-in-do-python/"
      ]
    },
    {
      "cell_type": "code",
      "metadata": {
        "id": "-hMsRVpe-R2G",
        "colab": {
          "base_uri": "https://localhost:8080/"
        },
        "outputId": "192ce306-a70e-4a64-95a9-a8305aef1eec"
      },
      "source": [
        "# Imprimir uma variável \n",
        "print(\"O texto irá aqui\")\n",
        "print(2)"
      ],
      "execution_count": 8,
      "outputs": [
        {
          "output_type": "stream",
          "text": [
            "O texto irá aqui\n",
            "2\n"
          ],
          "name": "stdout"
        }
      ]
    },
    {
      "cell_type": "code",
      "metadata": {
        "colab": {
          "base_uri": "https://localhost:8080/"
        },
        "id": "FUwXCct1lQxl",
        "outputId": "367be168-fde1-4bc3-d286-50b22fc39be4"
      },
      "source": [
        "# Tipo da variável\n",
        "print(type(\"String\"),type(2),type(2.0))"
      ],
      "execution_count": 9,
      "outputs": [
        {
          "output_type": "stream",
          "text": [
            "<class 'str'> <class 'int'> <class 'float'>\n"
          ],
          "name": "stdout"
        }
      ]
    },
    {
      "cell_type": "code",
      "metadata": {
        "colab": {
          "base_uri": "https://localhost:8080/"
        },
        "id": "5lH0KQTvlY35",
        "outputId": "9449175f-a5e5-4c68-bd07-e1e6a92b89b1"
      },
      "source": [
        "# Procurar documentação de uma função\n",
        "help(print)"
      ],
      "execution_count": 10,
      "outputs": [
        {
          "output_type": "stream",
          "text": [
            "Help on built-in function print in module builtins:\n",
            "\n",
            "print(...)\n",
            "    print(value, ..., sep=' ', end='\\n', file=sys.stdout, flush=False)\n",
            "    \n",
            "    Prints the values to a stream, or to sys.stdout by default.\n",
            "    Optional keyword arguments:\n",
            "    file:  a file-like object (stream); defaults to the current sys.stdout.\n",
            "    sep:   string inserted between values, default a space.\n",
            "    end:   string appended after the last value, default a newline.\n",
            "    flush: whether to forcibly flush the stream.\n",
            "\n"
          ],
          "name": "stdout"
        }
      ]
    },
    {
      "cell_type": "code",
      "metadata": {
        "colab": {
          "base_uri": "https://localhost:8080/"
        },
        "id": "mWWGSrsIlsfJ",
        "outputId": "9e276110-8671-434d-bc15-2d4a80ea4575"
      },
      "source": [
        "# Transforma uma variável em formato booleano\n",
        "print(bool(0),bool(1),bool(50))\n",
        "print(bool(0.0),bool(0.01))\n",
        "print(bool(\"\"),bool(\"Oi\"))"
      ],
      "execution_count": 11,
      "outputs": [
        {
          "output_type": "stream",
          "text": [
            "False True True\n",
            "False True\n",
            "False True\n"
          ],
          "name": "stdout"
        }
      ]
    },
    {
      "cell_type": "code",
      "metadata": {
        "colab": {
          "base_uri": "https://localhost:8080/"
        },
        "id": "swWWtM8jmCEX",
        "outputId": "0dc77ec7-bfd2-4f7f-b718-4fdeafa24b57"
      },
      "source": [
        "# Função de arredondamento\n",
        "print(round(0.9812))\n",
        "print(round(0.9812,2)) #-> Delimita a casa decimal a ser arredondada"
      ],
      "execution_count": 12,
      "outputs": [
        {
          "output_type": "stream",
          "text": [
            "1\n",
            "0.98\n"
          ],
          "name": "stdout"
        }
      ]
    },
    {
      "cell_type": "markdown",
      "metadata": {
        "id": "I-tsyrSzmcJS"
      },
      "source": [
        "Existem outras funções nativas importantes que serão utilizadas várias vezes. Será melhor explicá-las através de exemplos."
      ]
    },
    {
      "cell_type": "markdown",
      "metadata": {
        "id": "PEzuNl3TsTR8"
      },
      "source": [
        "## IF, FOR, WHILE\n",
        "**IF, FOR, WHILE** são as principais e mais usuais funções ou estruturas lógicas condicionais que permitem maior funcionalidades nos algoritmos.\n",
        "\n",
        "Eles utilizam a matemática booleano para tomar ou não uma decisão. Os 6 operadores são:\n",
        "\n",
        "\n",
        "| **OPERADOR** | **DESCRIÇÃO**    |\n",
        "|:------------:|:----------------:|\n",
        "| <            | Menor que        |\n",
        "| >            | Maior que        |\n",
        "| <=           | Menor or igual a |\n",
        "| >=           | Maior ou igual a |\n",
        "| ==           | Igual a          |\n",
        "| \\!=          | Diferente de     |\n",
        "\n",
        "É importante ressaltar estas estruturas no Python trabalham usando a identação. Muitos erros no código estão ligados a identação errada."
      ]
    },
    {
      "cell_type": "code",
      "metadata": {
        "colab": {
          "base_uri": "https://localhost:8080/"
        },
        "id": "3PPYsZ7n-yvc",
        "outputId": "d73a958a-5370-4089-9495-525d947454f9"
      },
      "source": [
        "# Exemplo de IF\n",
        "\n",
        "a = 10\n",
        "b = 5\n",
        "\n",
        "if a > b:\n",
        "  print('{} maior que {}'.format(a,b))\n",
        "elif a == b:\n",
        "  print('{} igual a {}'.format(a,b))\n",
        "else:\n",
        "  print('{} menor que {}'.format(a,b))\n",
        "\n",
        "# Observe que todos os 'print' estão alinhados."
      ],
      "execution_count": 13,
      "outputs": [
        {
          "output_type": "stream",
          "text": [
            "10 maior que 5\n"
          ],
          "name": "stdout"
        }
      ]
    },
    {
      "cell_type": "code",
      "metadata": {
        "colab": {
          "base_uri": "https://localhost:8080/"
        },
        "id": "91ITc_BI_dD4",
        "outputId": "777b4bd7-f826-4c13-fb38-1d256a50add7"
      },
      "source": [
        "# Exemplo FOR\n",
        "\n",
        "# Range é outra função nativa do python\n",
        "# Diferente do Matlab/ R a numeração do Python vai de 0 até um valor antes do final\n",
        "\n",
        "for i in range(0,10):\n",
        "  print(i)\n",
        "  i += 1\n"
      ],
      "execution_count": 14,
      "outputs": [
        {
          "output_type": "stream",
          "text": [
            "0\n",
            "1\n",
            "2\n",
            "3\n",
            "4\n",
            "5\n",
            "6\n",
            "7\n",
            "8\n",
            "9\n"
          ],
          "name": "stdout"
        }
      ]
    },
    {
      "cell_type": "code",
      "metadata": {
        "colab": {
          "base_uri": "https://localhost:8080/"
        },
        "id": "25YYvAWP_8VI",
        "outputId": "57ba5128-4d47-4158-b53a-7e05cc36cc2a"
      },
      "source": [
        "# Exemplo WHILE\n",
        "\n",
        "cond = 10\n",
        "\n",
        "while cond >= 0:\n",
        "  print('Condição: {}'.format(cond))\n",
        "  cond -= 1"
      ],
      "execution_count": 15,
      "outputs": [
        {
          "output_type": "stream",
          "text": [
            "Condição: 10\n",
            "Condição: 9\n",
            "Condição: 8\n",
            "Condição: 7\n",
            "Condição: 6\n",
            "Condição: 5\n",
            "Condição: 4\n",
            "Condição: 3\n",
            "Condição: 2\n",
            "Condição: 1\n",
            "Condição: 0\n"
          ],
          "name": "stdout"
        }
      ]
    },
    {
      "cell_type": "markdown",
      "metadata": {
        "id": "Q5ZWZtFBsbGQ"
      },
      "source": [
        "## Estruturas de dados"
      ]
    },
    {
      "cell_type": "markdown",
      "metadata": {
        "id": "1v8jEIJPfoxg"
      },
      "source": [
        "### Listas\n",
        "\n",
        "Listas são sequências de informações indicadas por um índice (posição na lista). A lista permite guardar qualer tipo de item: string, float, int, um objeto."
      ]
    },
    {
      "cell_type": "code",
      "metadata": {
        "id": "XkHmR-gwp1If",
        "colab": {
          "base_uri": "https://localhost:8080/"
        },
        "outputId": "c43afc68-9f46-4210-966f-3c72820c74a0"
      },
      "source": [
        "# Criar uma lista\n",
        "\n",
        "lista = []\n",
        "print(lista)\n",
        "print(type(lista),\"\\n\\n\")\n",
        "\n",
        "# Criar a lista com os valores dentro\n",
        "\n",
        "lista = ['Cachorro','Gato', 10, 0.5, True]\n",
        "print(lista)\n",
        "print(type(lista))"
      ],
      "execution_count": 16,
      "outputs": [
        {
          "output_type": "stream",
          "text": [
            "[]\n",
            "<class 'list'> \n",
            "\n",
            "\n",
            "['Cachorro', 'Gato', 10, 0.5, True]\n",
            "<class 'list'>\n"
          ],
          "name": "stdout"
        }
      ]
    },
    {
      "cell_type": "code",
      "metadata": {
        "colab": {
          "base_uri": "https://localhost:8080/"
        },
        "id": "tPE48EEcGwsM",
        "outputId": "7b1446d2-1a42-43c2-d8fb-f405624dedb1"
      },
      "source": [
        "# Acessar um valor da lista\n",
        "print(lista[0])\n",
        "print(lista[1])\n",
        "\n",
        "# Aplicar operações com os valores da lista\n",
        "print(lista[2] + lista[3])"
      ],
      "execution_count": 17,
      "outputs": [
        {
          "output_type": "stream",
          "text": [
            "Cachorro\n",
            "Gato\n",
            "10.5\n"
          ],
          "name": "stdout"
        }
      ]
    },
    {
      "cell_type": "code",
      "metadata": {
        "colab": {
          "base_uri": "https://localhost:8080/"
        },
        "id": "tlVMv6p9HBke",
        "outputId": "13c7bc5d-47b5-4dd3-a116-66ab4a81ca3e"
      },
      "source": [
        "# Variáveis tipo string, são armazenadas em listas\n",
        "\n",
        "nome = \"Thiago Lopes\"\n",
        "print(nome[0])\n",
        "\n",
        "# Selecionar uma parte da lista (Slicing)\n",
        "print(nome[0:6]) # Do item na posição 0 até a posição 6\n",
        "print(nome[:6]) # Todos os itens até a posição 5\n",
        "print(nome[-5:]) # Os 5 últimos itens"
      ],
      "execution_count": 18,
      "outputs": [
        {
          "output_type": "stream",
          "text": [
            "T\n",
            "Thiago\n",
            "Thiago\n",
            "Lopes\n"
          ],
          "name": "stdout"
        }
      ]
    },
    {
      "cell_type": "code",
      "metadata": {
        "colab": {
          "base_uri": "https://localhost:8080/"
        },
        "id": "0odZfVBmHvbq",
        "outputId": "025907ba-1eb3-47e5-887a-57de62a17639"
      },
      "source": [
        "# Verificação de um item na lista\n",
        "\n",
        "nome = [\"Thiago\",\"Luiz\",\"Paulo\",\"Pedro\"]\n",
        "teste = \"Thiago\"\n",
        "\n",
        "teste in nome"
      ],
      "execution_count": 19,
      "outputs": [
        {
          "output_type": "execute_result",
          "data": {
            "text/plain": [
              "True"
            ]
          },
          "metadata": {
            "tags": []
          },
          "execution_count": 19
        }
      ]
    },
    {
      "cell_type": "code",
      "metadata": {
        "colab": {
          "base_uri": "https://localhost:8080/"
        },
        "id": "fw6l3NUzIMYJ",
        "outputId": "a975ad87-6b1d-4531-d5f7-c390dd962432"
      },
      "source": [
        "# Python é uma linguagem casesensitive\n",
        "\n",
        "teste = \"thiago\"\n",
        "teste in nome"
      ],
      "execution_count": 20,
      "outputs": [
        {
          "output_type": "execute_result",
          "data": {
            "text/plain": [
              "False"
            ]
          },
          "metadata": {
            "tags": []
          },
          "execution_count": 20
        }
      ]
    },
    {
      "cell_type": "code",
      "metadata": {
        "colab": {
          "base_uri": "https://localhost:8080/"
        },
        "id": "HCOT3clRIS77",
        "outputId": "6a86cda8-b901-48b0-f677-43634f62e7c9"
      },
      "source": [
        "print(nome)"
      ],
      "execution_count": 21,
      "outputs": [
        {
          "output_type": "stream",
          "text": [
            "['Thiago', 'Luiz', 'Paulo', 'Pedro']\n"
          ],
          "name": "stdout"
        }
      ]
    },
    {
      "cell_type": "code",
      "metadata": {
        "colab": {
          "base_uri": "https://localhost:8080/"
        },
        "id": "Wz5eQ1S7IajA",
        "outputId": "e2a7ce44-c88c-499b-a400-5fd1f8b00396"
      },
      "source": [
        "nome[3] = \"José\"\n",
        "print(nome) "
      ],
      "execution_count": 22,
      "outputs": [
        {
          "output_type": "stream",
          "text": [
            "['Thiago', 'Luiz', 'Paulo', 'José']\n"
          ],
          "name": "stdout"
        }
      ]
    },
    {
      "cell_type": "code",
      "metadata": {
        "colab": {
          "base_uri": "https://localhost:8080/",
          "height": 194
        },
        "id": "F21Fs4IcIm5p",
        "outputId": "f64dfab6-b0be-48c0-f278-1c6f2a19d57e"
      },
      "source": [
        "# Forma errada de adicionar um novo item na lista\n",
        "\n",
        "nome[4] = \"Marcelo\""
      ],
      "execution_count": 23,
      "outputs": [
        {
          "output_type": "error",
          "ename": "IndexError",
          "evalue": "ignored",
          "traceback": [
            "\u001b[0;31m---------------------------------------------------------------------------\u001b[0m",
            "\u001b[0;31mIndexError\u001b[0m                                Traceback (most recent call last)",
            "\u001b[0;32m<ipython-input-23-b3298df689a3>\u001b[0m in \u001b[0;36m<module>\u001b[0;34m()\u001b[0m\n\u001b[1;32m      1\u001b[0m \u001b[0;31m# Forma errada de adicionar um novo item na lista\u001b[0m\u001b[0;34m\u001b[0m\u001b[0;34m\u001b[0m\u001b[0;34m\u001b[0m\u001b[0m\n\u001b[1;32m      2\u001b[0m \u001b[0;34m\u001b[0m\u001b[0m\n\u001b[0;32m----> 3\u001b[0;31m \u001b[0mnome\u001b[0m\u001b[0;34m[\u001b[0m\u001b[0;36m4\u001b[0m\u001b[0;34m]\u001b[0m \u001b[0;34m=\u001b[0m \u001b[0;34m\"Marcelo\"\u001b[0m\u001b[0;34m\u001b[0m\u001b[0;34m\u001b[0m\u001b[0m\n\u001b[0m",
            "\u001b[0;31mIndexError\u001b[0m: list assignment index out of range"
          ]
        }
      ]
    },
    {
      "cell_type": "code",
      "metadata": {
        "id": "vvclKzgXIrOY",
        "colab": {
          "base_uri": "https://localhost:8080/"
        },
        "outputId": "0d235e10-13a2-44ed-dae6-cb5fb2dcf451"
      },
      "source": [
        "# Adicionar um novo item a lista\n",
        "\n",
        "nome.append(\"Marcelo\")\n",
        "nome.append(2)\n",
        "print(nome)"
      ],
      "execution_count": 24,
      "outputs": [
        {
          "output_type": "stream",
          "text": [
            "['Thiago', 'Luiz', 'Paulo', 'José', 'Marcelo', 2]\n"
          ],
          "name": "stdout"
        }
      ]
    },
    {
      "cell_type": "code",
      "metadata": {
        "id": "n6LwBGB5IwRq",
        "colab": {
          "base_uri": "https://localhost:8080/"
        },
        "outputId": "a5516fe7-de05-484f-d685-9b5edafc6158"
      },
      "source": [
        "# Remover da lista POR POSIÇÃO\n",
        "\n",
        "nome.pop(0)\n",
        "print(nome)"
      ],
      "execution_count": 25,
      "outputs": [
        {
          "output_type": "stream",
          "text": [
            "['Luiz', 'Paulo', 'José', 'Marcelo', 2]\n"
          ],
          "name": "stdout"
        }
      ]
    },
    {
      "cell_type": "code",
      "metadata": {
        "id": "kqLg4l5EI4Oy",
        "colab": {
          "base_uri": "https://localhost:8080/"
        },
        "outputId": "3cc2aa68-58b3-4b47-cf45-3b5f2cd626fa"
      },
      "source": [
        "# Remover da lista POR VALOR\n",
        "\n",
        "nome.remove(\"Marcelo\")\n",
        "nome.remove(2)\n",
        "print(nome)"
      ],
      "execution_count": 26,
      "outputs": [
        {
          "output_type": "stream",
          "text": [
            "['Luiz', 'Paulo', 'José']\n"
          ],
          "name": "stdout"
        }
      ]
    },
    {
      "cell_type": "markdown",
      "metadata": {
        "id": "xkin5RCOr8Ds"
      },
      "source": [
        "### Dicionários\n",
        "\n",
        "Dicionários também são outra estrutura de dados que permitem um mapeamento de uma variável/ objeto em outra (Chaves e Valores).\n",
        "\n",
        "![alt text](https://developers.google.com/edu/python/images/dict.png)"
      ]
    },
    {
      "cell_type": "code",
      "metadata": {
        "id": "bLMqp1UaxCkQ",
        "colab": {
          "base_uri": "https://localhost:8080/"
        },
        "outputId": "c96bccca-165a-43f3-a8b3-3f2d1ad089d3"
      },
      "source": [
        "# Criando um dicionário vazio\n",
        "\n",
        "dict = {}\n",
        "print(dict)\n",
        "print(type(dict))"
      ],
      "execution_count": 27,
      "outputs": [
        {
          "output_type": "stream",
          "text": [
            "{}\n",
            "<class 'dict'>\n"
          ],
          "name": "stdout"
        }
      ]
    },
    {
      "cell_type": "code",
      "metadata": {
        "id": "WYU1oc2pxJJG"
      },
      "source": [
        "# Criando o exemplo da imagem\n",
        "exemplo = {\"a\": \"Alpha\", \"o\": \"Omega\", \"g\": \"Gamma\"}"
      ],
      "execution_count": 28,
      "outputs": []
    },
    {
      "cell_type": "code",
      "metadata": {
        "id": "RYdhnPCndyAg",
        "colab": {
          "base_uri": "https://localhost:8080/"
        },
        "outputId": "6aebd434-17ec-45d5-f5fb-040d5765a5b9"
      },
      "source": [
        "exemplo"
      ],
      "execution_count": 29,
      "outputs": [
        {
          "output_type": "execute_result",
          "data": {
            "text/plain": [
              "{'a': 'Alpha', 'g': 'Gamma', 'o': 'Omega'}"
            ]
          },
          "metadata": {
            "tags": []
          },
          "execution_count": 29
        }
      ]
    },
    {
      "cell_type": "markdown",
      "metadata": {
        "id": "FeuEeMuFmeIe"
      },
      "source": [
        "Para acessar os valores por chave, chamamos o nome do dicionário, e colocamos entre colchetes o nome da chave entre aspas, simples ou duplas."
      ]
    },
    {
      "cell_type": "code",
      "metadata": {
        "id": "Tj4_SHeid66G",
        "colab": {
          "base_uri": "https://localhost:8080/"
        },
        "outputId": "0f6e9751-715d-4f21-8adc-d1d6ad5f99ac"
      },
      "source": [
        "exemplo.keys()"
      ],
      "execution_count": 30,
      "outputs": [
        {
          "output_type": "execute_result",
          "data": {
            "text/plain": [
              "dict_keys(['a', 'o', 'g'])"
            ]
          },
          "metadata": {
            "tags": []
          },
          "execution_count": 30
        }
      ]
    },
    {
      "cell_type": "code",
      "metadata": {
        "id": "ZNEwJIBXxYoi",
        "colab": {
          "base_uri": "https://localhost:8080/",
          "height": 34
        },
        "outputId": "02457ece-15df-4057-eb05-a34dd7b4e7c1"
      },
      "source": [
        "exemplo[\"a\"]"
      ],
      "execution_count": 31,
      "outputs": [
        {
          "output_type": "execute_result",
          "data": {
            "application/vnd.google.colaboratory.intrinsic+json": {
              "type": "string"
            },
            "text/plain": [
              "'Alpha'"
            ]
          },
          "metadata": {
            "tags": []
          },
          "execution_count": 31
        }
      ]
    },
    {
      "cell_type": "code",
      "metadata": {
        "id": "jIS0XcvUxeDW",
        "colab": {
          "base_uri": "https://localhost:8080/"
        },
        "outputId": "b13c9e9f-5a70-4bf2-a28b-5aa820513dd4"
      },
      "source": [
        "# Adicionando itens ao dicionário\n",
        "exemplo[\"z\"] = \"Zeta\"\n",
        "\n",
        "print(exemplo)"
      ],
      "execution_count": 32,
      "outputs": [
        {
          "output_type": "stream",
          "text": [
            "{'a': 'Alpha', 'o': 'Omega', 'g': 'Gamma', 'z': 'Zeta'}\n"
          ],
          "name": "stdout"
        }
      ]
    },
    {
      "cell_type": "code",
      "metadata": {
        "id": "i2m67z2NeD7C",
        "colab": {
          "base_uri": "https://localhost:8080/",
          "height": 34
        },
        "outputId": "7274052f-0704-4735-9e10-7e47fe312f74"
      },
      "source": [
        "exemplo[\"z\"]"
      ],
      "execution_count": 33,
      "outputs": [
        {
          "output_type": "execute_result",
          "data": {
            "application/vnd.google.colaboratory.intrinsic+json": {
              "type": "string"
            },
            "text/plain": [
              "'Zeta'"
            ]
          },
          "metadata": {
            "tags": []
          },
          "execution_count": 33
        }
      ]
    },
    {
      "cell_type": "code",
      "metadata": {
        "id": "F7odrV-jKmDp",
        "colab": {
          "base_uri": "https://localhost:8080/",
          "height": 194
        },
        "outputId": "790155f4-96a9-4a7c-c6e6-4738ce5b3a14"
      },
      "source": [
        "# No caso dos dicionários, a função pop não funciona com numeração\n",
        "exemplo.pop(0)\n",
        "print(exemplo)"
      ],
      "execution_count": 34,
      "outputs": [
        {
          "output_type": "error",
          "ename": "KeyError",
          "evalue": "ignored",
          "traceback": [
            "\u001b[0;31m---------------------------------------------------------------------------\u001b[0m",
            "\u001b[0;31mKeyError\u001b[0m                                  Traceback (most recent call last)",
            "\u001b[0;32m<ipython-input-34-d17b381ffec4>\u001b[0m in \u001b[0;36m<module>\u001b[0;34m()\u001b[0m\n\u001b[1;32m      1\u001b[0m \u001b[0;31m# No caso dos dicionários, a função pop não funciona com numeração\u001b[0m\u001b[0;34m\u001b[0m\u001b[0;34m\u001b[0m\u001b[0;34m\u001b[0m\u001b[0m\n\u001b[0;32m----> 2\u001b[0;31m \u001b[0mexemplo\u001b[0m\u001b[0;34m.\u001b[0m\u001b[0mpop\u001b[0m\u001b[0;34m(\u001b[0m\u001b[0;36m0\u001b[0m\u001b[0;34m)\u001b[0m\u001b[0;34m\u001b[0m\u001b[0;34m\u001b[0m\u001b[0m\n\u001b[0m\u001b[1;32m      3\u001b[0m \u001b[0mprint\u001b[0m\u001b[0;34m(\u001b[0m\u001b[0mexemplo\u001b[0m\u001b[0;34m)\u001b[0m\u001b[0;34m\u001b[0m\u001b[0;34m\u001b[0m\u001b[0m\n",
            "\u001b[0;31mKeyError\u001b[0m: 0"
          ]
        }
      ]
    },
    {
      "cell_type": "code",
      "metadata": {
        "id": "xJ16Qak7KqeJ",
        "colab": {
          "base_uri": "https://localhost:8080/"
        },
        "outputId": "8a53114e-569b-4569-da07-3b7c10d6afc2"
      },
      "source": [
        "# É preciso selecionar utilizando a chave\n",
        "\n",
        "exemplo.pop(\"a\")\n",
        "print(exemplo)"
      ],
      "execution_count": 35,
      "outputs": [
        {
          "output_type": "stream",
          "text": [
            "{'o': 'Omega', 'g': 'Gamma', 'z': 'Zeta'}\n"
          ],
          "name": "stdout"
        }
      ]
    },
    {
      "cell_type": "code",
      "metadata": {
        "id": "kOIFVCJXKz7T",
        "colab": {
          "base_uri": "https://localhost:8080/"
        },
        "outputId": "622b3912-a2c1-4476-8b2c-ebbbd251a196"
      },
      "source": [
        "# Se quiser acessar um valor do dicionário, basta utilizar o função  get\n",
        "# Mas preste atenção ela atribiu um valor mesmo que não exista aquela chave\n",
        "print(exemplo.get(\"y\"))\n",
        "print(exemplo.get(\"z\"))"
      ],
      "execution_count": 36,
      "outputs": [
        {
          "output_type": "stream",
          "text": [
            "None\n",
            "Zeta\n"
          ],
          "name": "stdout"
        }
      ]
    },
    {
      "cell_type": "code",
      "metadata": {
        "id": "8fUL3ZJmLDtj",
        "colab": {
          "base_uri": "https://localhost:8080/"
        },
        "outputId": "033633f5-bc2b-4697-ba67-a5c9fb5e84fa"
      },
      "source": [
        "exemplo.items()"
      ],
      "execution_count": 37,
      "outputs": [
        {
          "output_type": "execute_result",
          "data": {
            "text/plain": [
              "dict_items([('o', 'Omega'), ('g', 'Gamma'), ('z', 'Zeta')])"
            ]
          },
          "metadata": {
            "tags": []
          },
          "execution_count": 37
        }
      ]
    },
    {
      "cell_type": "code",
      "metadata": {
        "id": "3swTQAt5LHHy",
        "colab": {
          "base_uri": "https://localhost:8080/"
        },
        "outputId": "987bd5a7-c8d6-40bd-f0fb-f79e8a5888d5"
      },
      "source": [
        "exemplo.keys()"
      ],
      "execution_count": 38,
      "outputs": [
        {
          "output_type": "execute_result",
          "data": {
            "text/plain": [
              "dict_keys(['o', 'g', 'z'])"
            ]
          },
          "metadata": {
            "tags": []
          },
          "execution_count": 38
        }
      ]
    },
    {
      "cell_type": "code",
      "metadata": {
        "id": "4hXZvN5nLIpD",
        "colab": {
          "base_uri": "https://localhost:8080/"
        },
        "outputId": "76981208-4b7e-4f7b-9b96-4ff7bdd523b2"
      },
      "source": [
        "exemplo.values()"
      ],
      "execution_count": 39,
      "outputs": [
        {
          "output_type": "execute_result",
          "data": {
            "text/plain": [
              "dict_values(['Omega', 'Gamma', 'Zeta'])"
            ]
          },
          "metadata": {
            "tags": []
          },
          "execution_count": 39
        }
      ]
    },
    {
      "cell_type": "markdown",
      "metadata": {
        "id": "EO0cXXy93Aid"
      },
      "source": [
        "### Tuplas\n",
        "\n",
        "Tupla é uma espécie de lista imutável. Dados organizados em sequência ordenada. É uma estrutura comum em conjunto de dados."
      ]
    },
    {
      "cell_type": "code",
      "metadata": {
        "id": "MkugBG8j3iiA",
        "colab": {
          "base_uri": "https://localhost:8080/"
        },
        "outputId": "4adecb0c-0c4a-4948-cff1-d2d4c4b5eecb"
      },
      "source": [
        "# Criação de uma tupla\n",
        "\n",
        "tupla = ()\n",
        "print(type(tupla))\n",
        "tupla = (0,1,2,3,4,5)\n",
        "print(type(tupla))"
      ],
      "execution_count": 40,
      "outputs": [
        {
          "output_type": "stream",
          "text": [
            "<class 'tuple'>\n",
            "<class 'tuple'>\n"
          ],
          "name": "stdout"
        }
      ]
    },
    {
      "cell_type": "code",
      "metadata": {
        "id": "fVXPIfjhMFvZ",
        "colab": {
          "base_uri": "https://localhost:8080/"
        },
        "outputId": "d2779e76-6256-4cf9-8709-4f8480f8c736"
      },
      "source": [
        "idade = (10,25,40)\n",
        "print(idade)"
      ],
      "execution_count": 41,
      "outputs": [
        {
          "output_type": "stream",
          "text": [
            "(10, 25, 40)\n"
          ],
          "name": "stdout"
        }
      ]
    },
    {
      "cell_type": "code",
      "metadata": {
        "id": "peS5ogo6MSBF",
        "colab": {
          "base_uri": "https://localhost:8080/"
        },
        "outputId": "32c7fd07-754a-4569-99b1-e3eb4c32064c"
      },
      "source": [
        "# Pode-se atribuir diretamente variáveis aos dados da tupla\n",
        "\n",
        "novo, meio, velho = idade\n",
        "print(\"Idade do mais novo:\",novo)\n",
        "print(\"Idade do meio:\",meio)\n",
        "print(\"Idade do mais velho:\",velho)"
      ],
      "execution_count": 42,
      "outputs": [
        {
          "output_type": "stream",
          "text": [
            "Idade do mais novo: 10\n",
            "Idade do meio: 25\n",
            "Idade do mais velho: 40\n"
          ],
          "name": "stdout"
        }
      ]
    },
    {
      "cell_type": "code",
      "metadata": {
        "id": "4vVXgqRxr_Mx",
        "colab": {
          "base_uri": "https://localhost:8080/"
        },
        "outputId": "42dc274a-f2c5-48f5-d7ce-b81b850ec3e8"
      },
      "source": [
        "# No caso das tuplas, elas são acessadas utilizando indexação\n",
        "print(idade[0])\n",
        "\n",
        "print(idade[-1])\n"
      ],
      "execution_count": 43,
      "outputs": [
        {
          "output_type": "stream",
          "text": [
            "10\n",
            "40\n"
          ],
          "name": "stdout"
        }
      ]
    },
    {
      "cell_type": "markdown",
      "metadata": {
        "id": "z7BNSfCwtwSu"
      },
      "source": [
        "## Funções\n",
        "\n",
        "O python permite a criação de funções que podem facilitar processos repetitivos. E serem utilizadas quantas vezes quiser sem que repita todas as linhas de código."
      ]
    },
    {
      "cell_type": "code",
      "metadata": {
        "id": "5O7UeoQeMsUx"
      },
      "source": [
        "# Criando uma função\n",
        "\n",
        "def nome_func(argumento1,argumento2):\n",
        "  valor = argumento1 + argumento2\n",
        "  return valor"
      ],
      "execution_count": 44,
      "outputs": []
    },
    {
      "cell_type": "code",
      "metadata": {
        "id": "6UfNn4_iNJnu",
        "colab": {
          "base_uri": "https://localhost:8080/"
        },
        "outputId": "69312a8d-363a-495f-b9cc-8f81bc3c9fc3"
      },
      "source": [
        "nome_func(10,5)"
      ],
      "execution_count": 45,
      "outputs": [
        {
          "output_type": "execute_result",
          "data": {
            "text/plain": [
              "15"
            ]
          },
          "metadata": {
            "tags": []
          },
          "execution_count": 45
        }
      ]
    },
    {
      "cell_type": "code",
      "metadata": {
        "id": "kk3bqIOuNOIc",
        "colab": {
          "base_uri": "https://localhost:8080/"
        },
        "outputId": "2f4395de-266e-47dd-bed7-71edea17561e"
      },
      "source": [
        "teste = nome_func(10,5)\n",
        "print(teste)"
      ],
      "execution_count": 46,
      "outputs": [
        {
          "output_type": "stream",
          "text": [
            "15\n"
          ],
          "name": "stdout"
        }
      ]
    },
    {
      "cell_type": "code",
      "metadata": {
        "id": "tJLpOg9fNSk7"
      },
      "source": [
        "# Criando uma que printa o valor\n",
        "\n",
        "def nome_func(argumento1,argumento2):\n",
        "  valor = argumento1 + argumento2\n",
        "  return print(valor)"
      ],
      "execution_count": 47,
      "outputs": []
    },
    {
      "cell_type": "code",
      "metadata": {
        "id": "OMd5ymevNU0W",
        "colab": {
          "base_uri": "https://localhost:8080/"
        },
        "outputId": "cb4e4c9f-5135-4e3c-adc4-2092be232cb9"
      },
      "source": [
        "teste = nome_func(10,5)\n",
        "print(teste)"
      ],
      "execution_count": 48,
      "outputs": [
        {
          "output_type": "stream",
          "text": [
            "15\n",
            "None\n"
          ],
          "name": "stdout"
        }
      ]
    },
    {
      "cell_type": "code",
      "metadata": {
        "id": "4s99aD90FiXM",
        "colab": {
          "base_uri": "https://localhost:8080/"
        },
        "outputId": "af29e00e-9258-4254-8b7d-244110f3d42e"
      },
      "source": [
        "# Outra forma utilizada para criar funções é utilizando a função lambda\n",
        "\n",
        "elevar2 = lambda x: x ** 2 \n",
        "elevar2(4)"
      ],
      "execution_count": 49,
      "outputs": [
        {
          "output_type": "execute_result",
          "data": {
            "text/plain": [
              "16"
            ]
          },
          "metadata": {
            "tags": []
          },
          "execution_count": 49
        }
      ]
    },
    {
      "cell_type": "code",
      "metadata": {
        "id": "4kPBfwHMNgjH",
        "colab": {
          "base_uri": "https://localhost:8080/"
        },
        "outputId": "39d61dd7-f5df-4595-d4a4-4a14fa5567f7"
      },
      "source": [
        "elevar3 = lambda x: x **3\n",
        "elevar3(4)"
      ],
      "execution_count": 50,
      "outputs": [
        {
          "output_type": "execute_result",
          "data": {
            "text/plain": [
              "64"
            ]
          },
          "metadata": {
            "tags": []
          },
          "execution_count": 50
        }
      ]
    },
    {
      "cell_type": "markdown",
      "metadata": {
        "id": "ej4Cl0RgutOK"
      },
      "source": [
        "## Bibliotecas\n",
        "\n",
        "Bibliotecas são Frameworks de outras organizações que disponibilizam funções poderosas e com diversas funcionalidades. Vamos explicá-las utilizando exemplos."
      ]
    },
    {
      "cell_type": "code",
      "metadata": {
        "id": "zcU6Ek9RFsyB"
      },
      "source": [
        "import numpy as np # Biblioteca focada em cálculo\n",
        "import math # Biblioteca para operações não básicas\n",
        "import pandas as pd # Biblioteca focada em manipulação de dados\n",
        "import matplotlib.pyplot as plt # Biblioteca focada em visualização de dados"
      ],
      "execution_count": 51,
      "outputs": []
    },
    {
      "cell_type": "code",
      "metadata": {
        "colab": {
          "base_uri": "https://localhost:8080/"
        },
        "id": "SSzgq1NePe0m",
        "outputId": "a9eca440-4af6-457b-925d-de5c0bea72be"
      },
      "source": [
        "# Carregar algumas constantes\n",
        "\n",
        "pi = math.pi\n",
        "euler = math.e\n",
        "print(pi)\n",
        "print(euler)"
      ],
      "execution_count": 52,
      "outputs": [
        {
          "output_type": "stream",
          "text": [
            "3.141592653589793\n",
            "2.718281828459045\n"
          ],
          "name": "stdout"
        }
      ]
    },
    {
      "cell_type": "code",
      "metadata": {
        "colab": {
          "base_uri": "https://localhost:8080/"
        },
        "id": "c9qbeyZIP0tq",
        "outputId": "da825c38-b8f3-4819-f0fa-cadfe487675e"
      },
      "source": [
        "# Realizar operações não triviais\n",
        "math.cos(0)"
      ],
      "execution_count": 53,
      "outputs": [
        {
          "output_type": "execute_result",
          "data": {
            "text/plain": [
              "1.0"
            ]
          },
          "metadata": {
            "tags": []
          },
          "execution_count": 53
        }
      ]
    },
    {
      "cell_type": "code",
      "metadata": {
        "id": "nXod_uyBQGz0"
      },
      "source": [
        "# Criação de matrizes\n",
        "\n",
        "mat1 = np.array([2,1,1])\n",
        "mat2 = np.array([1,1,2])"
      ],
      "execution_count": 54,
      "outputs": []
    },
    {
      "cell_type": "code",
      "metadata": {
        "colab": {
          "base_uri": "https://localhost:8080/"
        },
        "id": "j5q2jIN1QPlc",
        "outputId": "f7191a0e-7215-4f83-9175-f88e0ba9ef44"
      },
      "source": [
        " # Operações com matrizes\n",
        "mult = mat1*mat2\n",
        "mult"
      ],
      "execution_count": 55,
      "outputs": [
        {
          "output_type": "execute_result",
          "data": {
            "text/plain": [
              "array([2, 1, 2])"
            ]
          },
          "metadata": {
            "tags": []
          },
          "execution_count": 55
        }
      ]
    },
    {
      "cell_type": "code",
      "metadata": {
        "id": "QcnnWuT0QjPE"
      },
      "source": [
        "mat1 = np.array([2,1,1])\n",
        "mat2 = np.array([[1]\n",
        "                ,[1]\n",
        "                ,[2]])"
      ],
      "execution_count": 56,
      "outputs": []
    },
    {
      "cell_type": "code",
      "metadata": {
        "colab": {
          "base_uri": "https://localhost:8080/"
        },
        "id": "FYM18anIQtMe",
        "outputId": "d9224797-9444-4e30-d58c-aa9a4b262023"
      },
      "source": [
        "mult = mat1*mat2\n",
        "mult"
      ],
      "execution_count": 57,
      "outputs": [
        {
          "output_type": "execute_result",
          "data": {
            "text/plain": [
              "array([[2, 1, 1],\n",
              "       [2, 1, 1],\n",
              "       [4, 2, 2]])"
            ]
          },
          "metadata": {
            "tags": []
          },
          "execution_count": 57
        }
      ]
    },
    {
      "cell_type": "code",
      "metadata": {
        "colab": {
          "base_uri": "https://localhost:8080/",
          "height": 197
        },
        "id": "jaqppJ1ZQyqg",
        "outputId": "711969a8-20ee-45f1-e26e-291ad1ccb00c"
      },
      "source": [
        "# Carregar e manipular conjunto de dados\n",
        "\n",
        "df = pd.read_csv('https://raw.githubusercontent.com/thiagolopes97/ITA/main/iris.csv')\n",
        "df.head()"
      ],
      "execution_count": 58,
      "outputs": [
        {
          "output_type": "execute_result",
          "data": {
            "text/html": [
              "<div>\n",
              "<style scoped>\n",
              "    .dataframe tbody tr th:only-of-type {\n",
              "        vertical-align: middle;\n",
              "    }\n",
              "\n",
              "    .dataframe tbody tr th {\n",
              "        vertical-align: top;\n",
              "    }\n",
              "\n",
              "    .dataframe thead th {\n",
              "        text-align: right;\n",
              "    }\n",
              "</style>\n",
              "<table border=\"1\" class=\"dataframe\">\n",
              "  <thead>\n",
              "    <tr style=\"text-align: right;\">\n",
              "      <th></th>\n",
              "      <th>sepal length</th>\n",
              "      <th>sepal width</th>\n",
              "      <th>petal length</th>\n",
              "      <th>petal width</th>\n",
              "      <th>class</th>\n",
              "    </tr>\n",
              "  </thead>\n",
              "  <tbody>\n",
              "    <tr>\n",
              "      <th>0</th>\n",
              "      <td>5.1</td>\n",
              "      <td>3.5</td>\n",
              "      <td>1.4</td>\n",
              "      <td>0.2</td>\n",
              "      <td>Iris-setosa</td>\n",
              "    </tr>\n",
              "    <tr>\n",
              "      <th>1</th>\n",
              "      <td>4.9</td>\n",
              "      <td>3.0</td>\n",
              "      <td>1.4</td>\n",
              "      <td>0.2</td>\n",
              "      <td>Iris-setosa</td>\n",
              "    </tr>\n",
              "    <tr>\n",
              "      <th>2</th>\n",
              "      <td>4.7</td>\n",
              "      <td>3.2</td>\n",
              "      <td>1.3</td>\n",
              "      <td>0.2</td>\n",
              "      <td>Iris-setosa</td>\n",
              "    </tr>\n",
              "    <tr>\n",
              "      <th>3</th>\n",
              "      <td>4.6</td>\n",
              "      <td>3.1</td>\n",
              "      <td>1.5</td>\n",
              "      <td>0.2</td>\n",
              "      <td>Iris-setosa</td>\n",
              "    </tr>\n",
              "    <tr>\n",
              "      <th>4</th>\n",
              "      <td>5.0</td>\n",
              "      <td>3.6</td>\n",
              "      <td>1.4</td>\n",
              "      <td>0.2</td>\n",
              "      <td>Iris-setosa</td>\n",
              "    </tr>\n",
              "  </tbody>\n",
              "</table>\n",
              "</div>"
            ],
            "text/plain": [
              "   sepal length  sepal width  petal length  petal width        class\n",
              "0           5.1          3.5           1.4          0.2  Iris-setosa\n",
              "1           4.9          3.0           1.4          0.2  Iris-setosa\n",
              "2           4.7          3.2           1.3          0.2  Iris-setosa\n",
              "3           4.6          3.1           1.5          0.2  Iris-setosa\n",
              "4           5.0          3.6           1.4          0.2  Iris-setosa"
            ]
          },
          "metadata": {
            "tags": []
          },
          "execution_count": 58
        }
      ]
    },
    {
      "cell_type": "code",
      "metadata": {
        "colab": {
          "base_uri": "https://localhost:8080/"
        },
        "id": "j-vOYSKvRKaJ",
        "outputId": "cd3e54a2-389b-4b2c-af93-0b024208dad0"
      },
      "source": [
        "df.columns"
      ],
      "execution_count": 59,
      "outputs": [
        {
          "output_type": "execute_result",
          "data": {
            "text/plain": [
              "Index(['sepal length', 'sepal width', 'petal length', 'petal width', 'class'], dtype='object')"
            ]
          },
          "metadata": {
            "tags": []
          },
          "execution_count": 59
        }
      ]
    },
    {
      "cell_type": "code",
      "metadata": {
        "colab": {
          "base_uri": "https://localhost:8080/"
        },
        "id": "iecafDJ8RQCJ",
        "outputId": "f45de119-c7fe-45cf-bb83-13f26e1c8d50"
      },
      "source": [
        "df['petal length'].head()"
      ],
      "execution_count": 60,
      "outputs": [
        {
          "output_type": "execute_result",
          "data": {
            "text/plain": [
              "0    1.4\n",
              "1    1.4\n",
              "2    1.3\n",
              "3    1.5\n",
              "4    1.4\n",
              "Name: petal length, dtype: float64"
            ]
          },
          "metadata": {
            "tags": []
          },
          "execution_count": 60
        }
      ]
    },
    {
      "cell_type": "code",
      "metadata": {
        "colab": {
          "base_uri": "https://localhost:8080/"
        },
        "id": "C7EULHwtRVu-",
        "outputId": "67b803fb-258f-44d6-deac-d8c6ae6c7c0f"
      },
      "source": [
        "df['class'].value_counts()"
      ],
      "execution_count": 61,
      "outputs": [
        {
          "output_type": "execute_result",
          "data": {
            "text/plain": [
              "Iris-setosa        50\n",
              "Iris-versicolor    50\n",
              "Iris-virginica     50\n",
              "Name: class, dtype: int64"
            ]
          },
          "metadata": {
            "tags": []
          },
          "execution_count": 61
        }
      ]
    },
    {
      "cell_type": "code",
      "metadata": {
        "colab": {
          "base_uri": "https://localhost:8080/",
          "height": 284
        },
        "id": "eJIlppbVRZ3F",
        "outputId": "288bf927-5552-4a99-8133-9a898c6ad350"
      },
      "source": [
        "plt.scatter(df['sepal length'],df['sepal width'],c=\"#00DF00\")"
      ],
      "execution_count": 62,
      "outputs": [
        {
          "output_type": "execute_result",
          "data": {
            "text/plain": [
              "<matplotlib.collections.PathCollection at 0x7f29a17f1160>"
            ]
          },
          "metadata": {
            "tags": []
          },
          "execution_count": 62
        },
        {
          "output_type": "display_data",
          "data": {
            "image/png": "[encoded data removed]",
            "text/plain": [
              "<Figure size 432x288 with 1 Axes>"
            ]
          },
          "metadata": {
            "tags": [],
            "needs_background": "light"
          }
        }
      ]
    },
    {
      "cell_type": "code",
      "metadata": {
        "colab": {
          "base_uri": "https://localhost:8080/",
          "height": 281
        },
        "id": "GjsoXuRXd3QT",
        "outputId": "a5efd174-110e-4eb2-baa1-547e22ec7dd1"
      },
      "source": [
        "plt.bar(df['class'].value_counts().index,df['class'].value_counts())"
      ],
      "execution_count": 63,
      "outputs": [
        {
          "output_type": "execute_result",
          "data": {
            "text/plain": [
              "<BarContainer object of 3 artists>"
            ]
          },
          "metadata": {
            "tags": []
          },
          "execution_count": 63
        },
        {
          "output_type": "display_data",
          "data": {
            "image/png": "[encoded data removed]",
            "text/plain": [
              "<Figure size 432x288 with 1 Axes>"
            ]
          },
          "metadata": {
            "tags": [],
            "needs_background": "light"
          }
        }
      ]
    }
  ]
}