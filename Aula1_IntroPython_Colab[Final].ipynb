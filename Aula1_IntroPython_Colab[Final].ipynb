{
  "nbformat": 4,
  "nbformat_minor": 0,
  "metadata": {
    "colab": {
      "name": "Aula1-IntroPython_Colab[Final].ipynb",
      "provenance": [],
      "collapsed_sections": [],
      "authorship_tag": "ABX9TyME2fZf/9Pvyy1+UVW89Seq",
      "include_colab_link": true
    },
    "kernelspec": {
      "name": "python3",
      "display_name": "Python 3"
    }
  },
  "cells": [
    {
      "cell_type": "markdown",
      "metadata": {
        "id": "view-in-github",
        "colab_type": "text"
      },
      "source": [
        "<a href=\"https://colab.research.google.com/github/thiagolopes97/ITA/blob/main/Aula1_IntroPython_Colab%5BFinal%5D.ipynb\" target=\"_parent\"><img src=\"https://colab.research.google.com/assets/colab-badge.svg\" alt=\"Open In Colab\"/></a>"
      ]
    },
    {
      "cell_type": "markdown",
      "metadata": {
        "id": "R-xpxrGrRGBk"
      },
      "source": [
        "<img alt=\"Logo ITA\" width=\"500\" src=\"https://logodownload.org/wp-content/uploads/2018/01/ita-logo.png\">\n",
        "\n",
        "*Autor do material:* **Thiago Gonçalves Guimarães Lopes**\n",
        "\n",
        "*Desenvovlido para a Disciplina:* **CT-600 Estágio Docência**\n",
        "\n",
        "#### **Aula 1 - Introdução a Linguagem Python e ao Ambiente Google Colab**\n",
        "\n",
        "---\n",
        "\n",
        "<h1>Ambiente para aprendizagem e execução de códigos</h1>\n",
        "\n",
        "**O que é Python?**\n",
        "Python é uma linguagem de programação de alto nível, dinâmica, interpretada e  orientada a objetos. Os procedimentos são divididos e dependentes de classes. \n",
        "\n",
        "As vantagens de se utilizar essa linguagem é sua  sintaxe relativamente simples e de fácil compreensão, ser uma linguagem OpenSource. Mas sua principal vantagem é  uma comunidade gigantesca de profissionais de diversas áreas: indústria, programadores, engenheiros, matemáticos, cientistas de dados, pesquisadores e outros.\n",
        "\n",
        "Essa comunidade desenvolveu diversos **Frameworks** que são denominados como **Biliotecas**. Estes conjuntos de funçôes permite que realizar contas, manipular dados ou treinar modelos de Aprendizado de Máquina (*Machine Learning*) sem que precisemos escrever um extenso código.\n",
        "\n",
        "<img alt=\"Logo ITA\" width=\"450\" src=\"https://cio.com.br/wp-content/uploads/2020/10/linguagem-programacao-python.jpg\">\n",
        "\n",
        "**O que é o Colab?**\n",
        "Google Colab é uma IDE (Integrated Development Environment ou Ambiente de Desenvolvimento Integrado) com o ambiente Jupyter Notebook que roda inteiramente na nuvem. Ou seja, você consegue criar e rodar seus projetos de Data Science sem perder tempo configurando sua máquina local.\n",
        "\n",
        "Os notebooks do Colab são notebooks do Jupyter hospedados no Colab. Para saber mais sobre o projeto Jupyter, acesse <a href=\"https://www.jupyter.org\">jupyter.org</a>.\n",
        "\n",
        "Os notebooks do Colab permitem combinar <strong>código executável</strong> e <strong>rich text</strong> em um só documento, além de <strong>imagens</strong>, <strong>HTML</strong>, <strong>LaTeX</strong> e muito mais. Quando você cria seus próprios notebooks do Colab, eles são armazenados na sua conta do Google Drive. É possível compartilhar os notebooks do Colab facilmente com colegas de trabalho ou amigos e permitir que eles façam comentários ou até editem o documento. Para saber mais, consulte a <a href=\"/notebooks/basic_features_overview.ipynb\">Visão Geral do Colab</a> (Criação própria do Colab)."
      ]
    },
    {
      "cell_type": "markdown",
      "metadata": {
        "id": "VRElnxx_rqTH"
      },
      "source": [
        "# Fundamento Jupyter Notebook\n",
        "\n",
        "---\n",
        "\n",
        "Você pode escrever direto. Utilizando a linguagem **Markdown** do Colab para estilizar e ressaltar partes do seu texto.\n",
        "\n",
        "## Guia **Markdown**\n",
        "\n",
        "Markdown | Resultado\n",
        "--- | ---\n",
        "`**Negrito**` | **Negrito**\n",
        "`*Itálico*` or `_Itálico_` | *Itálico*\n",
        "`` `Monospace` `` | `Monospace`\n",
        "`~~Tachado~~` | ~~Tachado~~\n",
        "`[Link direto](https://www.google.com)` | [Link direto](https://www.google.com)\n",
        "`![Imagem](https://www.google.com/images/rss.png)` | ![Imagem](https://www.google.com/images/rss.png)\n",
        "\n",
        "\n",
        "---\n",
        "Para escrever **Capítulos, Seçõs, Subseções**:\n",
        "\n",
        "```markdown\n",
        "# Capítulo 1\n",
        "# Seção 1\n",
        "## Subseção 2\n",
        "### Subseção 3\n",
        "# Capítulo 2\n",
        "```\n",
        "\n",
        "# Capítulo 1\n",
        "# Seção 1\n",
        "## Subseção 2\n",
        "### Subseção 3\n",
        "# Capítulo 2\n",
        "\n",
        "---\n",
        "\n",
        "Criar um bloco recuado (**Identação**):\n",
        "\n",
        "```markdown\n",
        ">Recuo simples\n",
        "```\n",
        "\n",
        ">Recuo simples\n",
        "\n",
        "\n",
        "```markdown\n",
        ">>Recuo duplo\n",
        "```\n",
        "\n",
        ">>Recuo duplo\n",
        "\n",
        "---\n",
        "\n",
        "Escrever **células de código** em formato texto\n",
        "Code blocks:\n",
        "````\n",
        "```python\n",
        "print(\"a\")\n",
        "```\n",
        "````\n",
        "\n",
        "```python\n",
        "print(\"a\")\n",
        "```\n",
        "\n",
        "---\n",
        "Criação de **listas ordenadas e simples**:\n",
        "```markdown\n",
        "1. Um\n",
        "1. Dois\n",
        "1. Três\n",
        "```\n",
        "1. Um\n",
        "1. Dois\n",
        "1. Três\n",
        "\n",
        "---\n",
        "```markdown\n",
        "* Um\n",
        "* Dois\n",
        "* Três\n",
        "```\n",
        "* Um\n",
        "* Dois\n",
        "* Três\n",
        "---\n",
        "\n",
        "**Escrever equações**, o colab tem uma integração com $\\LaTeX$:\n",
        "\n",
        "```markdown\n",
        "$y=x^2$\n",
        "\n",
        "$e^{i\\pi} + 1 = 0$\n",
        "\n",
        "$e^x=\\sum_{i=0}^\\infty \\frac{1}{i!}x^i$\n",
        "\n",
        "$\\frac{n!}{k!(n-k)!} = {n \\choose k}$\n",
        "\n",
        "$A_{m,n} =\n",
        " \\begin{pmatrix}\n",
        "  a_{1,1} & a_{1,2} & \\cdots & a_{1,n} \\\\\n",
        "  a_{2,1} & a_{2,2} & \\cdots & a_{2,n} \\\\\n",
        "  \\vdots  & \\vdots  & \\ddots & \\vdots  \\\\\n",
        "  a_{m,1} & a_{m,2} & \\cdots & a_{m,n}\n",
        " \\end{pmatrix}$\n",
        "```\n",
        "\n",
        "$y=x^2$\n",
        "\n",
        "$e^{i\\pi} + 1 = 0$\n",
        "\n",
        "$e^x=\\sum_{i=0}^\\infty \\frac{1}{i!}x^i$\n",
        "\n",
        "$\\frac{n!}{k!(n-k)!} = {n \\choose k}$\n",
        "\n",
        "$A_{m,n} =\n",
        " \\begin{pmatrix}\n",
        "  a_{1,1} & a_{1,2} & \\cdots & a_{1,n} \\\\\n",
        "  a_{2,1} & a_{2,2} & \\cdots & a_{2,n} \\\\\n",
        "  \\vdots  & \\vdots  & \\ddots & \\vdots  \\\\\n",
        "  a_{m,1} & a_{m,2} & \\cdots & a_{m,n}\n",
        " \\end{pmatrix}$\n",
        "\n",
        "\n",
        " ---\n",
        "\n",
        "Criação de **Tabelas**:\n",
        "```markdown\n",
        "Coluna 1  | Coluna 2 \n",
        "-------------------|------------------\n",
        "Row 1, Col 1       | Row 1, Col 2 \n",
        "Row 2, Col 1       | Row 2, Col 2 \n",
        "\n",
        "```\n",
        "\n",
        "Coluna 1  | Coluna 2 \n",
        "-------------------|------------------\n",
        "Row 1, Col 1       | Row 1, Col 2 \n",
        "Row 2, Col 1       | Row 2, Col 2 \n",
        "\n",
        "---\n",
        "Para inserir imanges:\n",
        "```markdown\n",
        "<img alt=\"Logo ITA\" width=\"500\" src=\"https://logodownload.org/wp-content/uploads/2018/01/ita-logo.png\">\n",
        "```\n",
        "<img alt=\"Logo ITA\" width=\"500\" src=\"https://logodownload.org/wp-content/uploads/2018/01/ita-logo.png\">\n",
        "\n",
        "---\n"
      ]
    },
    {
      "cell_type": "markdown",
      "metadata": {
        "id": "sGjEJ9M2rmUd"
      },
      "source": [
        "# Fundamento Python"
      ]
    },
    {
      "cell_type": "markdown",
      "metadata": {
        "id": "v2YuHg1iJlYS"
      },
      "source": [
        "## Variáveis\n",
        "\n",
        "Em python existem três tipos de variáveis `integers` (inteiros), `strings` (caracteres), `floats` (flutuantes ou decimais) ou `booleanos`(Veradeiro ou Falso).\n",
        "\n",
        "Diferente de outras linguagens, o Python entende qual o tipo de variável, sem precisar declará-la anteriormente."
      ]
    },
    {
      "cell_type": "markdown",
      "metadata": {
        "id": "82Dw7isSKSnG"
      },
      "source": [
        "### Integers\n"
      ]
    },
    {
      "cell_type": "code",
      "metadata": {
        "id": "zX3CRTx6IfLV",
        "colab": {
          "base_uri": "https://localhost:8080/"
        },
        "outputId": "ee514b42-2bc3-4e6b-a838-5986a7e34369"
      },
      "source": [
        "# Números inteiros\n",
        "x = 100\n",
        "print(x)"
      ],
      "execution_count": 1,
      "outputs": [
        {
          "output_type": "stream",
          "text": [
            "100\n"
          ],
          "name": "stdout"
        }
      ]
    },
    {
      "cell_type": "code",
      "metadata": {
        "colab": {
          "base_uri": "https://localhost:8080/"
        },
        "id": "WmmXVaH41X-H",
        "outputId": "aafcdedf-a8c6-4fd2-d3a8-67c5c228c840"
      },
      "source": [
        "type(x)"
      ],
      "execution_count": 2,
      "outputs": [
        {
          "output_type": "execute_result",
          "data": {
            "text/plain": [
              "int"
            ]
          },
          "metadata": {
            "tags": []
          },
          "execution_count": 2
        }
      ]
    },
    {
      "cell_type": "markdown",
      "metadata": {
        "id": "eF8QT6OFKdBF"
      },
      "source": [
        "### Floats\n"
      ]
    },
    {
      "cell_type": "code",
      "metadata": {
        "id": "A7QseAg_J_vV",
        "colab": {
          "base_uri": "https://localhost:8080/"
        },
        "outputId": "6c0941f3-802f-4595-83ef-024bd2feeef4"
      },
      "source": [
        "# Números decimais\n",
        "x = 25.0\n",
        "print(x)\n",
        "print(type(x))"
      ],
      "execution_count": 3,
      "outputs": [
        {
          "output_type": "stream",
          "text": [
            "25.0\n",
            "<class 'float'>\n"
          ],
          "name": "stdout"
        }
      ]
    },
    {
      "cell_type": "code",
      "metadata": {
        "colab": {
          "base_uri": "https://localhost:8080/"
        },
        "id": "aBtVoKNn15R-",
        "outputId": "1754f7bc-84e5-4687-9952-08227ae1ca59"
      },
      "source": [
        "type(25)"
      ],
      "execution_count": 4,
      "outputs": [
        {
          "output_type": "execute_result",
          "data": {
            "text/plain": [
              "int"
            ]
          },
          "metadata": {
            "tags": []
          },
          "execution_count": 4
        }
      ]
    },
    {
      "cell_type": "markdown",
      "metadata": {
        "id": "T1gTB698LGfN"
      },
      "source": [
        "### Strings"
      ]
    },
    {
      "cell_type": "code",
      "metadata": {
        "id": "G_iJjopFKEDO",
        "colab": {
          "base_uri": "https://localhost:8080/"
        },
        "outputId": "8a42b503-a612-4c95-965a-b8a6f640e06f"
      },
      "source": [
        "# Uma lista contendo caracteres\n",
        "x = \"CT-600 Estágio Docência.\"\n",
        "print(x)\n",
        "print(type(x))"
      ],
      "execution_count": 5,
      "outputs": [
        {
          "output_type": "stream",
          "text": [
            "CT-600 Estágio Docência.\n",
            "<class 'str'>\n"
          ],
          "name": "stdout"
        }
      ]
    },
    {
      "cell_type": "code",
      "metadata": {
        "colab": {
          "base_uri": "https://localhost:8080/"
        },
        "id": "eqs30HCu5leg",
        "outputId": "57a9a59c-da9e-4999-962a-2b95943b3cc3"
      },
      "source": [
        "# Acessar uma letra específica\n",
        "print(x[0]) # C\n",
        "print(x[2]) # -"
      ],
      "execution_count": 6,
      "outputs": [
        {
          "output_type": "stream",
          "text": [
            "C\n",
            "-\n"
          ],
          "name": "stdout"
        }
      ]
    },
    {
      "cell_type": "markdown",
      "metadata": {
        "id": "a6c943U_la1d"
      },
      "source": [
        "### Booleanos"
      ]
    },
    {
      "cell_type": "code",
      "metadata": {
        "colab": {
          "base_uri": "https://localhost:8080/"
        },
        "id": "nMRsbwbslX8d",
        "outputId": "daee8d76-71cb-4b13-d2d5-5cb261337bc9"
      },
      "source": [
        "x = True\n",
        "y = False\n",
        "type(x)"
      ],
      "execution_count": 7,
      "outputs": [
        {
          "output_type": "execute_result",
          "data": {
            "text/plain": [
              "bool"
            ]
          },
          "metadata": {
            "tags": []
          },
          "execution_count": 7
        }
      ]
    },
    {
      "cell_type": "code",
      "metadata": {
        "colab": {
          "base_uri": "https://localhost:8080/"
        },
        "id": "P0BBoeO0loBv",
        "outputId": "12bfd6e9-3610-464d-9b99-c7bb742b97df"
      },
      "source": [
        "print(x + y)"
      ],
      "execution_count": 8,
      "outputs": [
        {
          "output_type": "stream",
          "text": [
            "1\n"
          ],
          "name": "stdout"
        }
      ]
    },
    {
      "cell_type": "code",
      "metadata": {
        "colab": {
          "base_uri": "https://localhost:8080/"
        },
        "id": "dypPzs1AltLI",
        "outputId": "43cf42ec-570f-4c7f-82fa-00f8c55800d0"
      },
      "source": [
        "print(x*y)"
      ],
      "execution_count": 9,
      "outputs": [
        {
          "output_type": "stream",
          "text": [
            "0\n"
          ],
          "name": "stdout"
        }
      ]
    },
    {
      "cell_type": "code",
      "metadata": {
        "colab": {
          "base_uri": "https://localhost:8080/"
        },
        "id": "T60RUrUglyCl",
        "outputId": "536dcb84-57fc-4a73-db27-41753e8f74ec"
      },
      "source": [
        "print(x)"
      ],
      "execution_count": 10,
      "outputs": [
        {
          "output_type": "stream",
          "text": [
            "True\n"
          ],
          "name": "stdout"
        }
      ]
    },
    {
      "cell_type": "markdown",
      "metadata": {
        "id": "qKSEFEK02MHk"
      },
      "source": [
        "## Operações com variáveis\n",
        "\n",
        "Os operadores aritméticos do Python são:\n",
        "\n",
        "* `+` Adição\n",
        "* `-` Subtração\n",
        "* `*` Multiplicação\n",
        "* `/` Divisão\n",
        "* `**` Exponenciação\n",
        "* `//` Divisão inteira\n",
        "* `%` Resto de divisão\n",
        "\n",
        "Lembrando que a ordem de precedência das operações matemáticas são:\n",
        "\n",
        "* 1º Parêntesis;\n",
        "* 2º Expoentes;\n",
        "* 3º Multiplicações e Divisões; (da esquerda para a direita)\n",
        "* 4º Somas e Subtrações. (da esquerda para a direita)"
      ]
    },
    {
      "cell_type": "code",
      "metadata": {
        "colab": {
          "base_uri": "https://localhost:8080/"
        },
        "id": "aTovqBx42w0Z",
        "outputId": "fe299035-4e5b-4476-cc80-7ca801426d6f"
      },
      "source": [
        "x = 10\n",
        "print('Variável de teste:\\nx = ',x)\n",
        "\n",
        "\n",
        "# Soma\n",
        "y = x + 10\n",
        "print('\\nSoma: x + 10 = ',y)\n",
        "\n",
        "# Subtração\n",
        "y = x - 10\n",
        "print('\\nSubtração: x - 10 = ',y)\n",
        "\n",
        "# Multiplicação\n",
        "y = x*3\n",
        "print('\\nMultiplicação: x*3 = ',y)\n",
        "\n",
        "# Divisão\n",
        "y = x/5\n",
        "print('\\nDivisão Ex1:: x/5 = ',y)\n",
        "y = x/3\n",
        "print('\\nDivisão Ex2:: x/3 = ',y)\n",
        "\n",
        "# Exponenciação\n",
        "y = x**2\n",
        "print('\\nExponenciação: x**2 = ',y)\n",
        "\n",
        "# Divisão inteira\n",
        "y = x//6\n",
        "print('\\nDivisão inteira: x//6 = ',y)\n",
        "\n",
        "# Resto de divisão\n",
        "y = x%6\n",
        "print('\\nResto divisão: x%6 = ',y)\n",
        "\n",
        "# Resultado do polinômio\n",
        "y = (x**2)/2 - 10/(3*5)\n",
        "print('\\nResultado: (x**2)/2 - 10/(3*5) = ',y)"
      ],
      "execution_count": 11,
      "outputs": [
        {
          "output_type": "stream",
          "text": [
            "Variável de teste:\n",
            "x =  10\n",
            "\n",
            "Soma: x + 10 =  20\n",
            "\n",
            "Subtração: x - 10 =  0\n",
            "\n",
            "Multiplicação: x*3 =  30\n",
            "\n",
            "Divisão Ex1:: x/5 =  2.0\n",
            "\n",
            "Divisão Ex2:: x/3 =  3.3333333333333335\n",
            "\n",
            "Exponenciação: x**2 =  100\n",
            "\n",
            "Divisão inteira: x//6 =  1\n",
            "\n",
            "Resto divisão: x%6 =  4\n",
            "\n",
            "Resultado: (x**2)/2 - 10/(3*5) =  49.333333333333336\n"
          ],
          "name": "stdout"
        }
      ]
    },
    {
      "cell_type": "markdown",
      "metadata": {
        "id": "8fYHDjRe28Bm"
      },
      "source": [
        "## Funções Nativas\n",
        "\n",
        "Funções nativas da linguagem ou  **built-in** são funções internas que já vem incorporadas na linguagem e estão sempre disponíveis para utilização. Diferente de outras funções que será necessário download e importação de suas bibliotecas. \n",
        "\n",
        "Para maiores consultas e dúvidas, recomenda-se o link: https://stefanilima.com.br/2018/04/27/funcoes-built-in-do-python/"
      ]
    },
    {
      "cell_type": "code",
      "metadata": {
        "id": "-hMsRVpe-R2G",
        "colab": {
          "base_uri": "https://localhost:8080/"
        },
        "outputId": "8a0715c3-bd55-4bf8-e10a-29c8ffdc3ca6"
      },
      "source": [
        "# Imprimir uma variável \n",
        "print(\"O texto irá aqui\")\n",
        "print(2)"
      ],
      "execution_count": 12,
      "outputs": [
        {
          "output_type": "stream",
          "text": [
            "O texto irá aqui\n",
            "2\n"
          ],
          "name": "stdout"
        }
      ]
    },
    {
      "cell_type": "code",
      "metadata": {
        "colab": {
          "base_uri": "https://localhost:8080/"
        },
        "id": "FUwXCct1lQxl",
        "outputId": "63fd3151-cd24-4125-8f67-f496fe902523"
      },
      "source": [
        "# Tipo da variável\n",
        "print(type(\"String\"),type(2),type(2.0))"
      ],
      "execution_count": 13,
      "outputs": [
        {
          "output_type": "stream",
          "text": [
            "<class 'str'> <class 'int'> <class 'float'>\n"
          ],
          "name": "stdout"
        }
      ]
    },
    {
      "cell_type": "code",
      "metadata": {
        "colab": {
          "base_uri": "https://localhost:8080/"
        },
        "id": "5lH0KQTvlY35",
        "outputId": "754d315d-2385-46a2-84bb-2948e58f2776"
      },
      "source": [
        "# Procurar documentação de uma função\n",
        "help(print)"
      ],
      "execution_count": 14,
      "outputs": [
        {
          "output_type": "stream",
          "text": [
            "Help on built-in function print in module builtins:\n",
            "\n",
            "print(...)\n",
            "    print(value, ..., sep=' ', end='\\n', file=sys.stdout, flush=False)\n",
            "    \n",
            "    Prints the values to a stream, or to sys.stdout by default.\n",
            "    Optional keyword arguments:\n",
            "    file:  a file-like object (stream); defaults to the current sys.stdout.\n",
            "    sep:   string inserted between values, default a space.\n",
            "    end:   string appended after the last value, default a newline.\n",
            "    flush: whether to forcibly flush the stream.\n",
            "\n"
          ],
          "name": "stdout"
        }
      ]
    },
    {
      "cell_type": "code",
      "metadata": {
        "colab": {
          "base_uri": "https://localhost:8080/"
        },
        "id": "mWWGSrsIlsfJ",
        "outputId": "383ad1e8-ea51-41f9-d223-f760d2313d72"
      },
      "source": [
        "# Transforma uma variável em formato booleano\n",
        "print(bool(0),bool(1),bool(50))\n",
        "print(bool(0.0),bool(0.01))\n",
        "print(bool(\"\"),bool(\"Oi\"))"
      ],
      "execution_count": 15,
      "outputs": [
        {
          "output_type": "stream",
          "text": [
            "False True True\n",
            "False True\n",
            "False True\n"
          ],
          "name": "stdout"
        }
      ]
    },
    {
      "cell_type": "code",
      "metadata": {
        "colab": {
          "base_uri": "https://localhost:8080/"
        },
        "id": "swWWtM8jmCEX",
        "outputId": "7169f0c6-b07e-4035-f8f4-be125e952b75"
      },
      "source": [
        "# Função de arredondamento\n",
        "print(round(0.9812))\n",
        "print(round(0.9812,2)) #-> Delimita a casa decimal a ser arredondada"
      ],
      "execution_count": 16,
      "outputs": [
        {
          "output_type": "stream",
          "text": [
            "1\n",
            "0.98\n"
          ],
          "name": "stdout"
        }
      ]
    },
    {
      "cell_type": "code",
      "metadata": {
        "id": "DTW_UGDlmIKt"
      },
      "source": [
        "# Transformações entre variáveis\n",
        "inteiro = 10\n",
        "decimal1 = 5.23\n",
        "decimal2 = 10.98\n",
        "string = \"20.5\""
      ],
      "execution_count": 17,
      "outputs": []
    },
    {
      "cell_type": "code",
      "metadata": {
        "colab": {
          "base_uri": "https://localhost:8080/"
        },
        "id": "I2H3kTJamYDC",
        "outputId": "c14dd6e7-84f5-4646-d259-848975eb967b"
      },
      "source": [
        "x = float(string)\n",
        "print(x)"
      ],
      "execution_count": 18,
      "outputs": [
        {
          "output_type": "stream",
          "text": [
            "20.5\n"
          ],
          "name": "stdout"
        }
      ]
    },
    {
      "cell_type": "code",
      "metadata": {
        "colab": {
          "base_uri": "https://localhost:8080/",
          "height": 35
        },
        "id": "DLX-klzenOx_",
        "outputId": "a6976acb-6b2f-4bd1-9835-2aaac4f95a30"
      },
      "source": [
        "# Mudança na estrutura da String\n",
        "nome = \"thiago gonçalves guimarães lopes\"\n",
        "nome.upper()"
      ],
      "execution_count": 19,
      "outputs": [
        {
          "output_type": "execute_result",
          "data": {
            "application/vnd.google.colaboratory.intrinsic+json": {
              "type": "string"
            },
            "text/plain": [
              "'THIAGO GONÇALVES GUIMARÃES LOPES'"
            ]
          },
          "metadata": {
            "tags": []
          },
          "execution_count": 19
        }
      ]
    },
    {
      "cell_type": "markdown",
      "metadata": {
        "id": "I-tsyrSzmcJS"
      },
      "source": [
        "Existem outras funções nativas importantes que serão utilizadas várias vezes. Será melhor explicá-las através de exemplos."
      ]
    },
    {
      "cell_type": "markdown",
      "metadata": {
        "id": "PEzuNl3TsTR8"
      },
      "source": [
        "## IF, FOR, WHILE\n",
        "**IF, FOR, WHILE** são as principais e mais usuais funções ou estruturas lógicas condicionais que permitem maior funcionalidades nos algoritmos.\n",
        "\n",
        "Eles utilizam a matemática booleano para tomar ou não uma decisão. Os 6 operadores são:\n",
        "\n",
        "\n",
        "| **OPERADOR** | **DESCRIÇÃO**    |\n",
        "|:------------:|:----------------:|\n",
        "| <            | Menor que        |\n",
        "| >            | Maior que        |\n",
        "| <=           | Menor or igual a |\n",
        "| >=           | Maior ou igual a |\n",
        "| ==           | Igual a          |\n",
        "| \\!=          | Diferente de     |\n",
        "\n",
        "É importante ressaltar estas estruturas no Python trabalham usando a identação. Muitos erros no código estão ligados a identação errada."
      ]
    },
    {
      "cell_type": "code",
      "metadata": {
        "colab": {
          "base_uri": "https://localhost:8080/"
        },
        "id": "3PPYsZ7n-yvc",
        "outputId": "f79190d8-4864-4ebf-fdc6-3f2125bf62ae"
      },
      "source": [
        "# Exemplo de IF\n",
        "\n",
        "a = 5\n",
        "b = 2\n",
        "c = 1\n",
        "\n",
        "if a >= b:\n",
        "  if a >= c:\n",
        "    if b >= c:\n",
        "      print('{} > {} > {}'.format(a,b,c))\n",
        "    else:\n",
        "      print('{} > {} > {}'.format(a,c,b))\n",
        "  else:\n",
        "    print('{} > {} > {}'.format(c,a,b))\n",
        "else:\n",
        "  if b < c:\n",
        "    print('{} > {} > {}'.format(c,b,a))\n",
        "  else:\n",
        "    if a > c:\n",
        "      print('{} > {} > {}'.format(b,a,c))\n",
        "    else:\n",
        "      print('{} > {} > {}'.format(b,c,a))\n",
        "\n",
        "   \n",
        "\n",
        "\n",
        "# Observe que todos os 'print' estão alinhados."
      ],
      "execution_count": 20,
      "outputs": [
        {
          "output_type": "stream",
          "text": [
            "5 > 2 > 1\n"
          ],
          "name": "stdout"
        }
      ]
    },
    {
      "cell_type": "code",
      "metadata": {
        "colab": {
          "base_uri": "https://localhost:8080/"
        },
        "id": "91ITc_BI_dD4",
        "outputId": "d6290844-486e-49d9-92a7-9820d8acd292"
      },
      "source": [
        "# Exemplo FOR\n",
        "\n",
        "# Range é outra função nativa do python\n",
        "# Diferente do Matlab/ R a numeração do Python vai de 0 até um valor antes do final\n",
        "\n",
        "for i in range(0,10):\n",
        "  print(i)\n",
        "  i += 1\n"
      ],
      "execution_count": 21,
      "outputs": [
        {
          "output_type": "stream",
          "text": [
            "0\n",
            "1\n",
            "2\n",
            "3\n",
            "4\n",
            "5\n",
            "6\n",
            "7\n",
            "8\n",
            "9\n"
          ],
          "name": "stdout"
        }
      ]
    },
    {
      "cell_type": "code",
      "metadata": {
        "colab": {
          "base_uri": "https://localhost:8080/"
        },
        "id": "JWcbZCPVqqwX",
        "outputId": "ad4f3647-e435-41cb-87df-80cf8b239fc8"
      },
      "source": [
        "lista = [1,2,3,4,5,10]\n",
        "num = 0\n",
        "for i in lista:\n",
        "  num += i\n",
        "  print('{} \\\\\\ {}'.format(i,num))"
      ],
      "execution_count": 22,
      "outputs": [
        {
          "output_type": "stream",
          "text": [
            "1 \\\\ 1\n",
            "2 \\\\ 3\n",
            "3 \\\\ 6\n",
            "4 \\\\ 10\n",
            "5 \\\\ 15\n",
            "10 \\\\ 25\n"
          ],
          "name": "stdout"
        }
      ]
    },
    {
      "cell_type": "code",
      "metadata": {
        "colab": {
          "base_uri": "https://localhost:8080/"
        },
        "id": "25YYvAWP_8VI",
        "outputId": "dfb80d48-8d64-479c-8604-3b53dc164285"
      },
      "source": [
        "# Exemplo WHILE\n",
        "\n",
        "cond = 10\n",
        "\n",
        "while cond >= 0:\n",
        "  print('Condição: {}'.format(cond))\n",
        "  cond -= 1"
      ],
      "execution_count": 23,
      "outputs": [
        {
          "output_type": "stream",
          "text": [
            "Condição: 10\n",
            "Condição: 9\n",
            "Condição: 8\n",
            "Condição: 7\n",
            "Condição: 6\n",
            "Condição: 5\n",
            "Condição: 4\n",
            "Condição: 3\n",
            "Condição: 2\n",
            "Condição: 1\n",
            "Condição: 0\n"
          ],
          "name": "stdout"
        }
      ]
    },
    {
      "cell_type": "code",
      "metadata": {
        "id": "E77OBoOt2YUo",
        "colab": {
          "base_uri": "https://localhost:8080/"
        },
        "outputId": "64e0e2f3-cb88-4ab1-a5c1-472371cbaf3a"
      },
      "source": [
        "# Série de Fibonacci\n",
        "\n",
        "a = 1\n",
        "b = 0\n",
        "cont = 0\n",
        "n = int(input('Quantos termos da série de Fibonacci deseja?: '));\n",
        "teste = 0\n",
        "while teste < n:\n",
        "  cont = a + b\n",
        "  print(cont)\n",
        "  a = b\n",
        "  b = cont\n",
        "  teste += 1\n"
      ],
      "execution_count": 24,
      "outputs": [
        {
          "output_type": "stream",
          "text": [
            "Quantos termos da série de Fibonacci deseja?: 15\n",
            "1\n",
            "1\n",
            "2\n",
            "3\n",
            "5\n",
            "8\n",
            "13\n",
            "21\n",
            "34\n",
            "55\n",
            "89\n",
            "144\n",
            "233\n",
            "377\n",
            "610\n"
          ],
          "name": "stdout"
        }
      ]
    },
    {
      "cell_type": "markdown",
      "metadata": {
        "id": "Q5ZWZtFBsbGQ"
      },
      "source": [
        "## Estruturas de dados"
      ]
    },
    {
      "cell_type": "markdown",
      "metadata": {
        "id": "1v8jEIJPfoxg"
      },
      "source": [
        "### Listas\n",
        "\n",
        "Listas são sequências de informações indicadas por um índice (posição na lista). A lista permite guardar qualer tipo de item: string, float, int, um objeto."
      ]
    },
    {
      "cell_type": "code",
      "metadata": {
        "id": "XkHmR-gwp1If",
        "colab": {
          "base_uri": "https://localhost:8080/"
        },
        "outputId": "3eb60ef8-bab7-4406-c7e3-da53f5692665"
      },
      "source": [
        "# Criar uma lista\n",
        "\n",
        "lista = []\n",
        "print(lista)\n",
        "print(type(lista),\"\\n\\n\")\n",
        "\n",
        "# Criar a lista com os valores dentro\n",
        "\n",
        "lista = ['Cachorro','Gato', 10, 0.5, True]\n",
        "print(lista)\n",
        "print(type(lista))"
      ],
      "execution_count": 25,
      "outputs": [
        {
          "output_type": "stream",
          "text": [
            "[]\n",
            "<class 'list'> \n",
            "\n",
            "\n",
            "['Cachorro', 'Gato', 10, 0.5, True]\n",
            "<class 'list'>\n"
          ],
          "name": "stdout"
        }
      ]
    },
    {
      "cell_type": "code",
      "metadata": {
        "colab": {
          "base_uri": "https://localhost:8080/"
        },
        "id": "tPE48EEcGwsM",
        "outputId": "70985291-34ca-445e-aa6f-c7d6916211a6"
      },
      "source": [
        "# Acessar um valor da lista\n",
        "print(lista[0])\n",
        "print(lista[1])\n",
        "\n",
        "# Aplicar operações com os valores da lista\n",
        "print(lista[2] + lista[3])"
      ],
      "execution_count": 26,
      "outputs": [
        {
          "output_type": "stream",
          "text": [
            "Cachorro\n",
            "Gato\n",
            "10.5\n"
          ],
          "name": "stdout"
        }
      ]
    },
    {
      "cell_type": "code",
      "metadata": {
        "colab": {
          "base_uri": "https://localhost:8080/"
        },
        "id": "tlVMv6p9HBke",
        "outputId": "027816ed-2211-4953-a306-01a15b88a11d"
      },
      "source": [
        "# Variáveis tipo string, são armazenadas em listas\n",
        "\n",
        "nome = \"Thiago Lopes\"\n",
        "print(nome[0])\n",
        "\n",
        "# Selecionar uma parte da lista (Slicing)\n",
        "print(nome[0:6]) # Do item na posição 0 até a posição 6\n",
        "print(nome[:6]) # Todos os itens até a posição 5\n",
        "print(nome[-5:]) # Os 5 últimos itens"
      ],
      "execution_count": 27,
      "outputs": [
        {
          "output_type": "stream",
          "text": [
            "T\n",
            "Thiago\n",
            "Thiago\n",
            "Lopes\n"
          ],
          "name": "stdout"
        }
      ]
    },
    {
      "cell_type": "code",
      "metadata": {
        "colab": {
          "base_uri": "https://localhost:8080/"
        },
        "id": "0odZfVBmHvbq",
        "outputId": "2a097767-bc32-4a74-bc98-a83426996c51"
      },
      "source": [
        "# Verificação de um item na lista\n",
        "\n",
        "nome = [\"Thiago\",\"Luiz\",\"Paulo\",\"Pedro\"]\n",
        "teste = \"Thiago\"\n",
        "\n",
        "teste in nome"
      ],
      "execution_count": 28,
      "outputs": [
        {
          "output_type": "execute_result",
          "data": {
            "text/plain": [
              "True"
            ]
          },
          "metadata": {
            "tags": []
          },
          "execution_count": 28
        }
      ]
    },
    {
      "cell_type": "code",
      "metadata": {
        "colab": {
          "base_uri": "https://localhost:8080/"
        },
        "id": "fw6l3NUzIMYJ",
        "outputId": "d92bf928-736e-410f-903e-c80ed42994e6"
      },
      "source": [
        "# Python é uma linguagem casesensitive\n",
        "\n",
        "teste = \"thiago\"\n",
        "teste in nome"
      ],
      "execution_count": 29,
      "outputs": [
        {
          "output_type": "execute_result",
          "data": {
            "text/plain": [
              "False"
            ]
          },
          "metadata": {
            "tags": []
          },
          "execution_count": 29
        }
      ]
    },
    {
      "cell_type": "code",
      "metadata": {
        "colab": {
          "base_uri": "https://localhost:8080/"
        },
        "id": "HCOT3clRIS77",
        "outputId": "b3237c4e-9bf6-44e6-ef4d-72753e660623"
      },
      "source": [
        "print(nome)"
      ],
      "execution_count": 30,
      "outputs": [
        {
          "output_type": "stream",
          "text": [
            "['Thiago', 'Luiz', 'Paulo', 'Pedro']\n"
          ],
          "name": "stdout"
        }
      ]
    },
    {
      "cell_type": "code",
      "metadata": {
        "colab": {
          "base_uri": "https://localhost:8080/"
        },
        "id": "Wz5eQ1S7IajA",
        "outputId": "b7babfe3-f1e6-4067-a0dc-533cea59d053"
      },
      "source": [
        "nome[3] = \"José\"\n",
        "print(nome) "
      ],
      "execution_count": 31,
      "outputs": [
        {
          "output_type": "stream",
          "text": [
            "['Thiago', 'Luiz', 'Paulo', 'José']\n"
          ],
          "name": "stdout"
        }
      ]
    },
    {
      "cell_type": "code",
      "metadata": {
        "colab": {
          "base_uri": "https://localhost:8080/",
          "height": 198
        },
        "id": "F21Fs4IcIm5p",
        "outputId": "8fa8b84b-68d5-4dcd-f289-8037ba3cada7"
      },
      "source": [
        "# Forma errada de adicionar um novo item na lista\n",
        "\n",
        "nome[4] = \"Marcelo\""
      ],
      "execution_count": 32,
      "outputs": [
        {
          "output_type": "error",
          "ename": "IndexError",
          "evalue": "ignored",
          "traceback": [
            "\u001b[0;31m---------------------------------------------------------------------------\u001b[0m",
            "\u001b[0;31mIndexError\u001b[0m                                Traceback (most recent call last)",
            "\u001b[0;32m<ipython-input-32-b3298df689a3>\u001b[0m in \u001b[0;36m<module>\u001b[0;34m()\u001b[0m\n\u001b[1;32m      1\u001b[0m \u001b[0;31m# Forma errada de adicionar um novo item na lista\u001b[0m\u001b[0;34m\u001b[0m\u001b[0;34m\u001b[0m\u001b[0;34m\u001b[0m\u001b[0m\n\u001b[1;32m      2\u001b[0m \u001b[0;34m\u001b[0m\u001b[0m\n\u001b[0;32m----> 3\u001b[0;31m \u001b[0mnome\u001b[0m\u001b[0;34m[\u001b[0m\u001b[0;36m4\u001b[0m\u001b[0;34m]\u001b[0m \u001b[0;34m=\u001b[0m \u001b[0;34m\"Marcelo\"\u001b[0m\u001b[0;34m\u001b[0m\u001b[0;34m\u001b[0m\u001b[0m\n\u001b[0m",
            "\u001b[0;31mIndexError\u001b[0m: list assignment index out of range"
          ]
        }
      ]
    },
    {
      "cell_type": "code",
      "metadata": {
        "id": "vvclKzgXIrOY",
        "colab": {
          "base_uri": "https://localhost:8080/"
        },
        "outputId": "d7d87c18-4674-4eb3-b359-69752ae9997c"
      },
      "source": [
        "# Adicionar um novo item a lista\n",
        "\n",
        "nome.append(\"Marcelo\")\n",
        "nome.append(2)\n",
        "print(nome)"
      ],
      "execution_count": 33,
      "outputs": [
        {
          "output_type": "stream",
          "text": [
            "['Thiago', 'Luiz', 'Paulo', 'José', 'Marcelo', 2]\n"
          ],
          "name": "stdout"
        }
      ]
    },
    {
      "cell_type": "code",
      "metadata": {
        "id": "n6LwBGB5IwRq",
        "colab": {
          "base_uri": "https://localhost:8080/"
        },
        "outputId": "59969c8c-196f-4e0a-8644-ce1cfdf095af"
      },
      "source": [
        "# Remover da lista POR POSIÇÃO\n",
        "\n",
        "nome.pop(0)\n",
        "print(nome)"
      ],
      "execution_count": 34,
      "outputs": [
        {
          "output_type": "stream",
          "text": [
            "['Luiz', 'Paulo', 'José', 'Marcelo', 2]\n"
          ],
          "name": "stdout"
        }
      ]
    },
    {
      "cell_type": "code",
      "metadata": {
        "id": "kqLg4l5EI4Oy",
        "colab": {
          "base_uri": "https://localhost:8080/"
        },
        "outputId": "27fd5f01-8cec-48a2-c67a-e3826453c964"
      },
      "source": [
        "# Remover da lista POR VALOR\n",
        "\n",
        "nome.remove(\"Marcelo\")\n",
        "nome.remove(2)\n",
        "print(nome)"
      ],
      "execution_count": 35,
      "outputs": [
        {
          "output_type": "stream",
          "text": [
            "['Luiz', 'Paulo', 'José']\n"
          ],
          "name": "stdout"
        }
      ]
    },
    {
      "cell_type": "markdown",
      "metadata": {
        "id": "xkin5RCOr8Ds"
      },
      "source": [
        "### Dicionários\n",
        "\n",
        "Dicionários também são outra estrutura de dados que permitem um mapeamento de uma variável/ objeto em outra (Chaves e Valores).\n",
        "\n",
        "![alt text](https://developers.google.com/edu/python/images/dict.png)"
      ]
    },
    {
      "cell_type": "code",
      "metadata": {
        "id": "bLMqp1UaxCkQ",
        "colab": {
          "base_uri": "https://localhost:8080/"
        },
        "outputId": "e5b0b86b-14b4-45bb-fd34-8de6a7abf9af"
      },
      "source": [
        "# Criando um dicionário vazio\n",
        "\n",
        "dict = {}\n",
        "print(dict)\n",
        "print(type(dict))"
      ],
      "execution_count": 36,
      "outputs": [
        {
          "output_type": "stream",
          "text": [
            "{}\n",
            "<class 'dict'>\n"
          ],
          "name": "stdout"
        }
      ]
    },
    {
      "cell_type": "code",
      "metadata": {
        "id": "WYU1oc2pxJJG"
      },
      "source": [
        "# Criando o exemplo da imagem\n",
        "exemplo = {\"a\": \"Alpha\", \"o\": \"Omega\", \"g\": \"Gamma\"}"
      ],
      "execution_count": 37,
      "outputs": []
    },
    {
      "cell_type": "code",
      "metadata": {
        "id": "RYdhnPCndyAg",
        "colab": {
          "base_uri": "https://localhost:8080/"
        },
        "outputId": "94415291-5070-46a7-dda6-dcd2cec3cd9a"
      },
      "source": [
        "exemplo"
      ],
      "execution_count": 38,
      "outputs": [
        {
          "output_type": "execute_result",
          "data": {
            "text/plain": [
              "{'a': 'Alpha', 'g': 'Gamma', 'o': 'Omega'}"
            ]
          },
          "metadata": {
            "tags": []
          },
          "execution_count": 38
        }
      ]
    },
    {
      "cell_type": "markdown",
      "metadata": {
        "id": "FeuEeMuFmeIe"
      },
      "source": [
        "Para acessar os valores por chave, chamamos o nome do dicionário, e colocamos entre colchetes o nome da chave entre aspas, simples ou duplas."
      ]
    },
    {
      "cell_type": "code",
      "metadata": {
        "id": "Tj4_SHeid66G",
        "colab": {
          "base_uri": "https://localhost:8080/"
        },
        "outputId": "58eea408-e4ab-4cb1-935c-f9f4e7163a14"
      },
      "source": [
        "exemplo.keys()"
      ],
      "execution_count": 39,
      "outputs": [
        {
          "output_type": "execute_result",
          "data": {
            "text/plain": [
              "dict_keys(['a', 'o', 'g'])"
            ]
          },
          "metadata": {
            "tags": []
          },
          "execution_count": 39
        }
      ]
    },
    {
      "cell_type": "code",
      "metadata": {
        "id": "ZNEwJIBXxYoi",
        "colab": {
          "base_uri": "https://localhost:8080/",
          "height": 35
        },
        "outputId": "7b832767-344b-4980-8100-72d031527f93"
      },
      "source": [
        "exemplo[\"a\"]"
      ],
      "execution_count": 40,
      "outputs": [
        {
          "output_type": "execute_result",
          "data": {
            "application/vnd.google.colaboratory.intrinsic+json": {
              "type": "string"
            },
            "text/plain": [
              "'Alpha'"
            ]
          },
          "metadata": {
            "tags": []
          },
          "execution_count": 40
        }
      ]
    },
    {
      "cell_type": "code",
      "metadata": {
        "id": "jIS0XcvUxeDW",
        "colab": {
          "base_uri": "https://localhost:8080/"
        },
        "outputId": "53406e04-0953-4648-ecfa-19aadcad8d7c"
      },
      "source": [
        "# Adicionando itens ao dicionário\n",
        "exemplo[\"z\"] = \"Zeta\"\n",
        "\n",
        "print(exemplo)"
      ],
      "execution_count": 41,
      "outputs": [
        {
          "output_type": "stream",
          "text": [
            "{'a': 'Alpha', 'o': 'Omega', 'g': 'Gamma', 'z': 'Zeta'}\n"
          ],
          "name": "stdout"
        }
      ]
    },
    {
      "cell_type": "code",
      "metadata": {
        "id": "i2m67z2NeD7C",
        "colab": {
          "base_uri": "https://localhost:8080/",
          "height": 35
        },
        "outputId": "f0bf9131-0e9c-48c7-9197-462ceaaa2eec"
      },
      "source": [
        "exemplo[\"z\"]"
      ],
      "execution_count": 42,
      "outputs": [
        {
          "output_type": "execute_result",
          "data": {
            "application/vnd.google.colaboratory.intrinsic+json": {
              "type": "string"
            },
            "text/plain": [
              "'Zeta'"
            ]
          },
          "metadata": {
            "tags": []
          },
          "execution_count": 42
        }
      ]
    },
    {
      "cell_type": "code",
      "metadata": {
        "id": "F7odrV-jKmDp",
        "colab": {
          "base_uri": "https://localhost:8080/",
          "height": 198
        },
        "outputId": "ff7886c6-38ca-4e63-ccbe-4b3517ab3d96"
      },
      "source": [
        "# No caso dos dicionários, a função pop não funciona com numeração\n",
        "exemplo.pop(0)\n",
        "print(exemplo)"
      ],
      "execution_count": 43,
      "outputs": [
        {
          "output_type": "error",
          "ename": "KeyError",
          "evalue": "ignored",
          "traceback": [
            "\u001b[0;31m---------------------------------------------------------------------------\u001b[0m",
            "\u001b[0;31mKeyError\u001b[0m                                  Traceback (most recent call last)",
            "\u001b[0;32m<ipython-input-43-d17b381ffec4>\u001b[0m in \u001b[0;36m<module>\u001b[0;34m()\u001b[0m\n\u001b[1;32m      1\u001b[0m \u001b[0;31m# No caso dos dicionários, a função pop não funciona com numeração\u001b[0m\u001b[0;34m\u001b[0m\u001b[0;34m\u001b[0m\u001b[0;34m\u001b[0m\u001b[0m\n\u001b[0;32m----> 2\u001b[0;31m \u001b[0mexemplo\u001b[0m\u001b[0;34m.\u001b[0m\u001b[0mpop\u001b[0m\u001b[0;34m(\u001b[0m\u001b[0;36m0\u001b[0m\u001b[0;34m)\u001b[0m\u001b[0;34m\u001b[0m\u001b[0;34m\u001b[0m\u001b[0m\n\u001b[0m\u001b[1;32m      3\u001b[0m \u001b[0mprint\u001b[0m\u001b[0;34m(\u001b[0m\u001b[0mexemplo\u001b[0m\u001b[0;34m)\u001b[0m\u001b[0;34m\u001b[0m\u001b[0;34m\u001b[0m\u001b[0m\n",
            "\u001b[0;31mKeyError\u001b[0m: 0"
          ]
        }
      ]
    },
    {
      "cell_type": "code",
      "metadata": {
        "id": "xJ16Qak7KqeJ",
        "colab": {
          "base_uri": "https://localhost:8080/"
        },
        "outputId": "2781efd3-0b4a-46f7-bc45-04e32456134c"
      },
      "source": [
        "# É preciso selecionar utilizando a chave\n",
        "\n",
        "exemplo.pop(\"a\")\n",
        "print(exemplo)"
      ],
      "execution_count": 44,
      "outputs": [
        {
          "output_type": "stream",
          "text": [
            "{'o': 'Omega', 'g': 'Gamma', 'z': 'Zeta'}\n"
          ],
          "name": "stdout"
        }
      ]
    },
    {
      "cell_type": "code",
      "metadata": {
        "id": "kOIFVCJXKz7T",
        "colab": {
          "base_uri": "https://localhost:8080/"
        },
        "outputId": "039dfa12-cc01-4707-c085-7160d7b8bcf9"
      },
      "source": [
        "# Se quiser acessar um valor do dicionário, basta utilizar o função  get\n",
        "# Mas preste atenção ela atribiu um valor mesmo que não exista aquela chave\n",
        "print(exemplo.get(\"y\"))\n",
        "print(exemplo.get(\"z\"))"
      ],
      "execution_count": 45,
      "outputs": [
        {
          "output_type": "stream",
          "text": [
            "None\n",
            "Zeta\n"
          ],
          "name": "stdout"
        }
      ]
    },
    {
      "cell_type": "code",
      "metadata": {
        "id": "8fUL3ZJmLDtj",
        "colab": {
          "base_uri": "https://localhost:8080/"
        },
        "outputId": "8b491b67-61d7-49b1-8515-a901c9c7b0dd"
      },
      "source": [
        "exemplo.items()"
      ],
      "execution_count": 46,
      "outputs": [
        {
          "output_type": "execute_result",
          "data": {
            "text/plain": [
              "dict_items([('o', 'Omega'), ('g', 'Gamma'), ('z', 'Zeta')])"
            ]
          },
          "metadata": {
            "tags": []
          },
          "execution_count": 46
        }
      ]
    },
    {
      "cell_type": "code",
      "metadata": {
        "id": "3swTQAt5LHHy",
        "colab": {
          "base_uri": "https://localhost:8080/"
        },
        "outputId": "e16fcb1f-83c7-4b16-ff86-cb51bb5858b0"
      },
      "source": [
        "exemplo.keys()"
      ],
      "execution_count": 47,
      "outputs": [
        {
          "output_type": "execute_result",
          "data": {
            "text/plain": [
              "dict_keys(['o', 'g', 'z'])"
            ]
          },
          "metadata": {
            "tags": []
          },
          "execution_count": 47
        }
      ]
    },
    {
      "cell_type": "code",
      "metadata": {
        "id": "4hXZvN5nLIpD",
        "colab": {
          "base_uri": "https://localhost:8080/"
        },
        "outputId": "93efac42-1d55-4594-bfc1-f997ac55f1ef"
      },
      "source": [
        "exemplo.values()"
      ],
      "execution_count": 48,
      "outputs": [
        {
          "output_type": "execute_result",
          "data": {
            "text/plain": [
              "dict_values(['Omega', 'Gamma', 'Zeta'])"
            ]
          },
          "metadata": {
            "tags": []
          },
          "execution_count": 48
        }
      ]
    },
    {
      "cell_type": "markdown",
      "metadata": {
        "id": "EO0cXXy93Aid"
      },
      "source": [
        "### Tuplas\n",
        "\n",
        "Tupla é uma espécie de lista imutável. Dados organizados em sequência ordenada. É uma estrutura comum em conjunto de dados."
      ]
    },
    {
      "cell_type": "code",
      "metadata": {
        "id": "MkugBG8j3iiA",
        "colab": {
          "base_uri": "https://localhost:8080/"
        },
        "outputId": "717aa465-dea3-4bdc-99c0-2d3ffe7db55d"
      },
      "source": [
        "# Criação de uma tupla\n",
        "\n",
        "tupla = ()\n",
        "print(type(tupla))\n",
        "tupla = (0,1,2,3,4,5)\n",
        "print(type(tupla))"
      ],
      "execution_count": 49,
      "outputs": [
        {
          "output_type": "stream",
          "text": [
            "<class 'tuple'>\n",
            "<class 'tuple'>\n"
          ],
          "name": "stdout"
        }
      ]
    },
    {
      "cell_type": "code",
      "metadata": {
        "id": "fVXPIfjhMFvZ",
        "colab": {
          "base_uri": "https://localhost:8080/"
        },
        "outputId": "c3e7357f-b003-4423-8147-f665a4bc59d7"
      },
      "source": [
        "idade = (10,25,40)\n",
        "print(idade)"
      ],
      "execution_count": 50,
      "outputs": [
        {
          "output_type": "stream",
          "text": [
            "(10, 25, 40)\n"
          ],
          "name": "stdout"
        }
      ]
    },
    {
      "cell_type": "code",
      "metadata": {
        "id": "peS5ogo6MSBF",
        "colab": {
          "base_uri": "https://localhost:8080/"
        },
        "outputId": "908daec8-a108-4a5c-adbb-2e875079bab6"
      },
      "source": [
        "# Pode-se atribuir diretamente variáveis aos dados da tupla\n",
        "\n",
        "novo, meio, velho = idade\n",
        "print(\"Idade do mais novo:\",novo)\n",
        "print(\"Idade do meio:\",meio)\n",
        "print(\"Idade do mais velho:\",velho)"
      ],
      "execution_count": 51,
      "outputs": [
        {
          "output_type": "stream",
          "text": [
            "Idade do mais novo: 10\n",
            "Idade do meio: 25\n",
            "Idade do mais velho: 40\n"
          ],
          "name": "stdout"
        }
      ]
    },
    {
      "cell_type": "code",
      "metadata": {
        "id": "4vVXgqRxr_Mx",
        "colab": {
          "base_uri": "https://localhost:8080/"
        },
        "outputId": "c3f1fed3-e210-4be5-f802-bc35de856e49"
      },
      "source": [
        "# No caso das tuplas, elas são acessadas utilizando indexação\n",
        "print(idade[0])\n",
        "\n",
        "print(idade[-1])\n"
      ],
      "execution_count": 52,
      "outputs": [
        {
          "output_type": "stream",
          "text": [
            "10\n",
            "40\n"
          ],
          "name": "stdout"
        }
      ]
    },
    {
      "cell_type": "markdown",
      "metadata": {
        "id": "z7BNSfCwtwSu"
      },
      "source": [
        "## Funções\n",
        "\n",
        "O python permite a criação de funções que podem facilitar processos repetitivos. E serem utilizadas quantas vezes quiser sem que repita todas as linhas de código."
      ]
    },
    {
      "cell_type": "code",
      "metadata": {
        "id": "5O7UeoQeMsUx"
      },
      "source": [
        "# Criando uma função\n",
        "\n",
        "def nome_func(argumento1,argumento2):\n",
        "  valor = argumento1 + argumento2\n",
        "  return valor"
      ],
      "execution_count": 53,
      "outputs": []
    },
    {
      "cell_type": "code",
      "metadata": {
        "id": "6UfNn4_iNJnu",
        "colab": {
          "base_uri": "https://localhost:8080/"
        },
        "outputId": "f288691b-4e97-4c0f-efd3-58050389bf25"
      },
      "source": [
        "nome_func(10,5)"
      ],
      "execution_count": 54,
      "outputs": [
        {
          "output_type": "execute_result",
          "data": {
            "text/plain": [
              "15"
            ]
          },
          "metadata": {
            "tags": []
          },
          "execution_count": 54
        }
      ]
    },
    {
      "cell_type": "code",
      "metadata": {
        "id": "kk3bqIOuNOIc",
        "colab": {
          "base_uri": "https://localhost:8080/"
        },
        "outputId": "7eb18215-5d95-4b8c-ba2b-c9d0d2a1f293"
      },
      "source": [
        "teste = nome_func(10,5)\n",
        "print(teste)"
      ],
      "execution_count": 55,
      "outputs": [
        {
          "output_type": "stream",
          "text": [
            "15\n"
          ],
          "name": "stdout"
        }
      ]
    },
    {
      "cell_type": "code",
      "metadata": {
        "id": "tJLpOg9fNSk7"
      },
      "source": [
        "# Criando uma que printa o valor\n",
        "\n",
        "def nome_func(argumento1,argumento2):\n",
        "  valor = argumento1 + argumento2\n",
        "  return print(valor)"
      ],
      "execution_count": 56,
      "outputs": []
    },
    {
      "cell_type": "code",
      "metadata": {
        "id": "OMd5ymevNU0W",
        "colab": {
          "base_uri": "https://localhost:8080/"
        },
        "outputId": "f675c332-ba8b-4815-8630-6b79b4ee792c"
      },
      "source": [
        "teste = nome_func(10,5)\n",
        "print(teste)"
      ],
      "execution_count": 57,
      "outputs": [
        {
          "output_type": "stream",
          "text": [
            "15\n",
            "None\n"
          ],
          "name": "stdout"
        }
      ]
    },
    {
      "cell_type": "code",
      "metadata": {
        "id": "4s99aD90FiXM",
        "colab": {
          "base_uri": "https://localhost:8080/"
        },
        "outputId": "f202d231-91df-4dbc-ed99-05d2eec13895"
      },
      "source": [
        "# Outra forma utilizada para criar funções é utilizando a função lambda\n",
        "\n",
        "elevar2 = lambda x: x ** 2 \n",
        "elevar2(4)"
      ],
      "execution_count": 58,
      "outputs": [
        {
          "output_type": "execute_result",
          "data": {
            "text/plain": [
              "16"
            ]
          },
          "metadata": {
            "tags": []
          },
          "execution_count": 58
        }
      ]
    },
    {
      "cell_type": "code",
      "metadata": {
        "id": "4kPBfwHMNgjH",
        "colab": {
          "base_uri": "https://localhost:8080/"
        },
        "outputId": "80ea4974-f39c-4bb0-c56e-a70270e7f14a"
      },
      "source": [
        "elevar3 = lambda x: x **3\n",
        "elevar3(4)"
      ],
      "execution_count": 59,
      "outputs": [
        {
          "output_type": "execute_result",
          "data": {
            "text/plain": [
              "64"
            ]
          },
          "metadata": {
            "tags": []
          },
          "execution_count": 59
        }
      ]
    },
    {
      "cell_type": "markdown",
      "metadata": {
        "id": "ej4Cl0RgutOK"
      },
      "source": [
        "## Bibliotecas\n",
        "\n",
        "Bibliotecas são Frameworks de outras organizações que disponibilizam funções poderosas e com diversas funcionalidades. Vamos explicá-las utilizando exemplos."
      ]
    },
    {
      "cell_type": "code",
      "metadata": {
        "id": "zcU6Ek9RFsyB"
      },
      "source": [
        "import numpy as np # Biblioteca focada em cálculo\n",
        "import math # Biblioteca para operações não básicas\n",
        "import pandas as pd # Biblioteca focada em manipulação de dados\n",
        "import matplotlib.pyplot as plt # Biblioteca focada em visualização de dados"
      ],
      "execution_count": 60,
      "outputs": []
    },
    {
      "cell_type": "code",
      "metadata": {
        "id": "SSzgq1NePe0m",
        "colab": {
          "base_uri": "https://localhost:8080/"
        },
        "outputId": "93a1e8e7-df3d-4946-b749-14e052710c1a"
      },
      "source": [
        "# Carregar algumas constantes\n",
        "\n",
        "pi = math.pi\n",
        "euler = math.e\n",
        "print(pi)\n",
        "print(euler)"
      ],
      "execution_count": 61,
      "outputs": [
        {
          "output_type": "stream",
          "text": [
            "3.141592653589793\n",
            "2.718281828459045\n"
          ],
          "name": "stdout"
        }
      ]
    },
    {
      "cell_type": "code",
      "metadata": {
        "id": "c9qbeyZIP0tq",
        "colab": {
          "base_uri": "https://localhost:8080/"
        },
        "outputId": "e057c0dd-2509-4f52-c877-cbcd10aa7605"
      },
      "source": [
        "# Realizar operações não triviais\n",
        "math.cos(0)"
      ],
      "execution_count": 62,
      "outputs": [
        {
          "output_type": "execute_result",
          "data": {
            "text/plain": [
              "1.0"
            ]
          },
          "metadata": {
            "tags": []
          },
          "execution_count": 62
        }
      ]
    },
    {
      "cell_type": "code",
      "metadata": {
        "id": "nXod_uyBQGz0"
      },
      "source": [
        "# Criação de matrizes\n",
        "\n",
        "mat1 = np.array([2,1,1])\n",
        "mat2 = np.array([1,1,2])"
      ],
      "execution_count": 63,
      "outputs": []
    },
    {
      "cell_type": "code",
      "metadata": {
        "id": "j5q2jIN1QPlc",
        "colab": {
          "base_uri": "https://localhost:8080/"
        },
        "outputId": "103313d3-adfa-4de3-c7a6-fff27a7d430c"
      },
      "source": [
        " # Operações com matrizes\n",
        "mult = mat1*mat2\n",
        "mult"
      ],
      "execution_count": 64,
      "outputs": [
        {
          "output_type": "execute_result",
          "data": {
            "text/plain": [
              "array([2, 1, 2])"
            ]
          },
          "metadata": {
            "tags": []
          },
          "execution_count": 64
        }
      ]
    },
    {
      "cell_type": "code",
      "metadata": {
        "colab": {
          "base_uri": "https://localhost:8080/"
        },
        "id": "r7FgNJfDJx7R",
        "outputId": "b2143af2-0efa-4d12-ded1-819ed4770f18"
      },
      "source": [
        "type(mult)"
      ],
      "execution_count": 65,
      "outputs": [
        {
          "output_type": "execute_result",
          "data": {
            "text/plain": [
              "numpy.ndarray"
            ]
          },
          "metadata": {
            "tags": []
          },
          "execution_count": 65
        }
      ]
    },
    {
      "cell_type": "code",
      "metadata": {
        "id": "QcnnWuT0QjPE"
      },
      "source": [
        "mat1 = np.array([2,1,1])\n",
        "mat2 = np.array([[1]\n",
        "                ,[1]\n",
        "                ,[2]])"
      ],
      "execution_count": 66,
      "outputs": []
    },
    {
      "cell_type": "code",
      "metadata": {
        "id": "FYM18anIQtMe",
        "colab": {
          "base_uri": "https://localhost:8080/"
        },
        "outputId": "23113bd6-1cbc-4bc1-a7f5-e4b9b7596615"
      },
      "source": [
        "mult = mat1*mat2\n",
        "mult"
      ],
      "execution_count": 67,
      "outputs": [
        {
          "output_type": "execute_result",
          "data": {
            "text/plain": [
              "array([[2, 1, 1],\n",
              "       [2, 1, 1],\n",
              "       [4, 2, 2]])"
            ]
          },
          "metadata": {
            "tags": []
          },
          "execution_count": 67
        }
      ]
    },
    {
      "cell_type": "code",
      "metadata": {
        "colab": {
          "base_uri": "https://localhost:8080/"
        },
        "id": "1IWsN7E4JeU1",
        "outputId": "9100dca3-3e20-45e1-f76c-23215bbec502"
      },
      "source": [
        "mat1.reshape(-1,1)"
      ],
      "execution_count": 68,
      "outputs": [
        {
          "output_type": "execute_result",
          "data": {
            "text/plain": [
              "array([[2],\n",
              "       [1],\n",
              "       [1]])"
            ]
          },
          "metadata": {
            "tags": []
          },
          "execution_count": 68
        }
      ]
    },
    {
      "cell_type": "code",
      "metadata": {
        "colab": {
          "base_uri": "https://localhost:8080/"
        },
        "id": "BiLsD_kZJp1r",
        "outputId": "6a14158a-a871-46e6-b057-35f149edc466"
      },
      "source": [
        "mat1.argmax()"
      ],
      "execution_count": 69,
      "outputs": [
        {
          "output_type": "execute_result",
          "data": {
            "text/plain": [
              "0"
            ]
          },
          "metadata": {
            "tags": []
          },
          "execution_count": 69
        }
      ]
    },
    {
      "cell_type": "code",
      "metadata": {
        "id": "jaqppJ1ZQyqg",
        "colab": {
          "base_uri": "https://localhost:8080/",
          "height": 204
        },
        "outputId": "c3160731-a540-478f-f77a-709de270ce05"
      },
      "source": [
        "# Carregar e manipular conjunto de dados\n",
        "\n",
        "df = pd.read_csv('https://raw.githubusercontent.com/thiagolopes97/ITA/main/dataset/iris.csv')\n",
        "df.head()"
      ],
      "execution_count": 70,
      "outputs": [
        {
          "output_type": "execute_result",
          "data": {
            "text/html": [
              "<div>\n",
              "<style scoped>\n",
              "    .dataframe tbody tr th:only-of-type {\n",
              "        vertical-align: middle;\n",
              "    }\n",
              "\n",
              "    .dataframe tbody tr th {\n",
              "        vertical-align: top;\n",
              "    }\n",
              "\n",
              "    .dataframe thead th {\n",
              "        text-align: right;\n",
              "    }\n",
              "</style>\n",
              "<table border=\"1\" class=\"dataframe\">\n",
              "  <thead>\n",
              "    <tr style=\"text-align: right;\">\n",
              "      <th></th>\n",
              "      <th>sepal length</th>\n",
              "      <th>sepal width</th>\n",
              "      <th>petal length</th>\n",
              "      <th>petal width</th>\n",
              "      <th>class</th>\n",
              "    </tr>\n",
              "  </thead>\n",
              "  <tbody>\n",
              "    <tr>\n",
              "      <th>0</th>\n",
              "      <td>5.1</td>\n",
              "      <td>3.5</td>\n",
              "      <td>1.4</td>\n",
              "      <td>0.2</td>\n",
              "      <td>Iris-setosa</td>\n",
              "    </tr>\n",
              "    <tr>\n",
              "      <th>1</th>\n",
              "      <td>4.9</td>\n",
              "      <td>3.0</td>\n",
              "      <td>1.4</td>\n",
              "      <td>0.2</td>\n",
              "      <td>Iris-setosa</td>\n",
              "    </tr>\n",
              "    <tr>\n",
              "      <th>2</th>\n",
              "      <td>4.7</td>\n",
              "      <td>3.2</td>\n",
              "      <td>1.3</td>\n",
              "      <td>0.2</td>\n",
              "      <td>Iris-setosa</td>\n",
              "    </tr>\n",
              "    <tr>\n",
              "      <th>3</th>\n",
              "      <td>4.6</td>\n",
              "      <td>3.1</td>\n",
              "      <td>1.5</td>\n",
              "      <td>0.2</td>\n",
              "      <td>Iris-setosa</td>\n",
              "    </tr>\n",
              "    <tr>\n",
              "      <th>4</th>\n",
              "      <td>5.0</td>\n",
              "      <td>3.6</td>\n",
              "      <td>1.4</td>\n",
              "      <td>0.2</td>\n",
              "      <td>Iris-setosa</td>\n",
              "    </tr>\n",
              "  </tbody>\n",
              "</table>\n",
              "</div>"
            ],
            "text/plain": [
              "   sepal length  sepal width  petal length  petal width        class\n",
              "0           5.1          3.5           1.4          0.2  Iris-setosa\n",
              "1           4.9          3.0           1.4          0.2  Iris-setosa\n",
              "2           4.7          3.2           1.3          0.2  Iris-setosa\n",
              "3           4.6          3.1           1.5          0.2  Iris-setosa\n",
              "4           5.0          3.6           1.4          0.2  Iris-setosa"
            ]
          },
          "metadata": {
            "tags": []
          },
          "execution_count": 70
        }
      ]
    },
    {
      "cell_type": "code",
      "metadata": {
        "id": "j-vOYSKvRKaJ",
        "colab": {
          "base_uri": "https://localhost:8080/"
        },
        "outputId": "0252479e-57cf-42dc-cc2e-d811b365a6e0"
      },
      "source": [
        "df.columns"
      ],
      "execution_count": 71,
      "outputs": [
        {
          "output_type": "execute_result",
          "data": {
            "text/plain": [
              "Index(['sepal length', 'sepal width', 'petal length', 'petal width', 'class'], dtype='object')"
            ]
          },
          "metadata": {
            "tags": []
          },
          "execution_count": 71
        }
      ]
    },
    {
      "cell_type": "code",
      "metadata": {
        "id": "iecafDJ8RQCJ",
        "colab": {
          "base_uri": "https://localhost:8080/"
        },
        "outputId": "1a736940-14d2-411b-cadc-8ab4e1c9007b"
      },
      "source": [
        "df['petal length'].head()"
      ],
      "execution_count": 72,
      "outputs": [
        {
          "output_type": "execute_result",
          "data": {
            "text/plain": [
              "0    1.4\n",
              "1    1.4\n",
              "2    1.3\n",
              "3    1.5\n",
              "4    1.4\n",
              "Name: petal length, dtype: float64"
            ]
          },
          "metadata": {
            "tags": []
          },
          "execution_count": 72
        }
      ]
    },
    {
      "cell_type": "code",
      "metadata": {
        "id": "C7EULHwtRVu-",
        "colab": {
          "base_uri": "https://localhost:8080/"
        },
        "outputId": "241955e1-0df2-4827-9683-5d32948db385"
      },
      "source": [
        "df['class'].value_counts()"
      ],
      "execution_count": 73,
      "outputs": [
        {
          "output_type": "execute_result",
          "data": {
            "text/plain": [
              "Iris-versicolor    50\n",
              "Iris-setosa        50\n",
              "Iris-virginica     50\n",
              "Name: class, dtype: int64"
            ]
          },
          "metadata": {
            "tags": []
          },
          "execution_count": 73
        }
      ]
    },
    {
      "cell_type": "code",
      "metadata": {
        "id": "eJIlppbVRZ3F",
        "colab": {
          "base_uri": "https://localhost:8080/",
          "height": 285
        },
        "outputId": "ec21c488-1795-4672-90b3-403160311f49"
      },
      "source": [
        "plt.scatter(df['sepal length'],df['sepal width'],c=\"#00DF00\")"
      ],
      "execution_count": 74,
      "outputs": [
        {
          "output_type": "execute_result",
          "data": {
            "text/plain": [
              "<matplotlib.collections.PathCollection at 0x7f574e215c90>"
            ]
          },
          "metadata": {
            "tags": []
          },
          "execution_count": 74
        },
        {
          "output_type": "display_data",
          "data": {
            "image/png": "[encoded data removed]",
            "text/plain": [
              "<Figure size 432x288 with 1 Axes>"
            ]
          },
          "metadata": {
            "tags": [],
            "needs_background": "light"
          }
        }
      ]
    },
    {
      "cell_type": "code",
      "metadata": {
        "id": "GjsoXuRXd3QT",
        "colab": {
          "base_uri": "https://localhost:8080/",
          "height": 282
        },
        "outputId": "68beb934-e1df-4e4a-b953-1d48831da404"
      },
      "source": [
        "plt.bar(df['class'].value_counts().index,df['class'].value_counts())"
      ],
      "execution_count": 75,
      "outputs": [
        {
          "output_type": "execute_result",
          "data": {
            "text/plain": [
              "<BarContainer object of 3 artists>"
            ]
          },
          "metadata": {
            "tags": []
          },
          "execution_count": 75
        },
        {
          "output_type": "display_data",
          "data": {
            "image/png": "[encoded data removed]",
            "text/plain": [
              "<Figure size 432x288 with 1 Axes>"
            ]
          },
          "metadata": {
            "tags": [],
            "needs_background": "light"
          }
        }
      ]
    }
  ]
}