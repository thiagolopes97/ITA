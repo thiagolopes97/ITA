{
  "nbformat": 4,
  "nbformat_minor": 0,
  "metadata": {
    "colab": {
      "name": "Aula2-RegLin_Log.ipynb",
      "provenance": [],
      "collapsed_sections": [],
      "toc_visible": true,
      "authorship_tag": "ABX9TyPbAIikFJX2ZxgqEvLTDFmn",
      "include_colab_link": true
    },
    "kernelspec": {
      "name": "python3",
      "display_name": "Python 3"
    }
  },
  "cells": [
    {
      "cell_type": "markdown",
      "metadata": {
        "id": "view-in-github",
        "colab_type": "text"
      },
      "source": [
        "<a href=\"https://colab.research.google.com/github/thiagolopes97/ITA/blob/main/Aula2_RegLin_Log.ipynb\" target=\"_parent\"><img src=\"https://colab.research.google.com/assets/colab-badge.svg\" alt=\"Open In Colab\"/></a>"
      ]
    },
    {
      "cell_type": "markdown",
      "metadata": {
        "id": "R-xpxrGrRGBk"
      },
      "source": [
        "<img alt=\"Logo ITA\" width=\"500\" src=\"https://logodownload.org/wp-content/uploads/2018/01/ita-logo.png\">\n",
        "\n",
        "*Autor do material:* **Thiago Gonçalves Guimarães Lopes**\n",
        "\n",
        "*Desenvovlido para a Disciplina:* **CT-600 Estágio Docência**\n",
        "\n",
        "#### **Aula 2 - Regressão Linear e Regressão Logística**\n",
        "\n",
        "---"
      ]
    },
    {
      "cell_type": "markdown",
      "metadata": {
        "id": "VRElnxx_rqTH"
      },
      "source": [
        "# Fundamento da Regressão Linear e Logística\n",
        "\n",
        "---\n",
        "\n",
        "O modelo linear é uma modelo que utiliza commbinações lineares das características da base de dados. Este por sua vez é definindo como [1,2]:\n",
        "$$\\hat{f}(\\mathbf{x},\\mathbf{w})=w_0 + w_1x_1 + w_2x_2 + ... + w_nx_n  $$\n",
        "no qual $\\hat{f}$ é a função aproximadora do método, $n$ o número de características, $w = (w_1 , ..., w_n )$ o vetor\n",
        "com os coeficientes (ou pesos dos atributos) e $w_0$ é o termo escalar.\n",
        "\n",
        "![download1.png](data:image/png;base64,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)\n",
        "\n",
        "\n",
        "Existem diversos modelos lineares distintos, cada qual com sua especificidade e parâmetro distinto. Consultar [Linear Models](<https://scikit-learn.org/stable/modules/linear_model.html>) [2].\n",
        "\n",
        "A qualidade de um estimador em fazer previsões é mediada por uma função de custo, que avalia o quão bem uma estimativa se aproxima do esperado [3,4]. A função\n",
        "de custo é usada para aprimorar o modelo, que tende a minimizá-la [3]. \n",
        "\n",
        "Por mais que cada algoritmo possa possuir uma função de custo, em problemas de regressão geralmente ela está associada ao erro quadrático médio, representado abaixo [4]:\n",
        "$$ MSE\\left ( \\hat{f} \\right ) = \\frac{1}{n} \\sum_{i=1}^{n}\\left ( y_i - \\hat{f}(\\mathbf{x}_i) \\right )^2$$\n",
        "\n",
        "no qual $n$ é o número de entradas do conjunto avaliado, $y_i$ é o valor real e $\\hat{f}(\\mathbf{x}_i)$ o valor previsto pelo modelo.\n",
        "\n",
        "O $MSE$ está vinculado com o $RSME$, que é a medida de desempenho típica em problemas de regressão [3]. O $RSME$ é para quantificar os erros de um modelo de ML em suas previsões, dando um peso maior aos\n",
        "grandes erros [1]. \n",
        "$$RMSE(\\hat{f})=\\sqrt{MSE(\\hat{f})} $$\n",
        "\n",
        "Outra medida de desempenho empregada nesta projeto é o coeficiente de determinação $R^2$, que representa a proporção de variância explicada pelas variáveis[3,4]. Assim, o $R^2$ explica o quão bem as amostras nunca vistas pelos modelos serão previstas por ele. A expressão abaixo representa como o $R^2$ é calculado normalmente:\n",
        "$$R^{2}\\left ( y, \\hat{f} \\right ) = 1 - \\frac{\\sum_{i=1}^{n}\\left ( y_i - \\hat{f}\\left ( \\mathbf{x}_i \\right ) \\right )^2}{\\sum_{i=1}^{n}\\left ( y_i - \\overline{y} \\right )^2}$$\n",
        "\n",
        "no qual $\\overline{y} = \\frac{1}{n} \\sum_{i=1}^{n} y_i$.\n",
        "\n",
        "Já na regressão logística o modelo calcula a soma ponderada das características de entrada e soma-os a um termo olarizador ($w_0$) [5]. Esta função calcula a probabilidade em formato de uma função logística. Matematicamente, este modelo é descrito por [1]:\n",
        "$$ \\hat{f}(\\mathbf{x},\\mathbf{w}) = \\sigma (\\mathbf{x}.\\mathbf{w})$$\n",
        "\n",
        "sendo $\\mathbf{w}.\\mathbf{x}$ é o produto escalar\n",
        "entre o o vetor de pesos e de características e $\\sigma$ a função logística descrita por $\\sigma(x) = \\frac{1}{1+e^{-x}}$.\n",
        "\n",
        "**Referência:**\n",
        "* [1] GÉRON, A. **Mãos à Obra Aprendizado de Máquina com Scikit-Learn e TensorFlow: Conceitos, ferramentas e técnicas para construção de sistemas inteligentes**. [S.l.]: Alta Books, 2019. Traduzido por Rafael Contatori. ISBN 9788550803814.\n",
        "* [2] SCIKIT-LEARN. **Linear Models**. 2020. Disponível\n",
        "em: <https://scikit-learn.org/stable/modules/linear_model.html>\n",
        "* [3] BIGOTO, M. A. R. **Implementação de modelos de machine learning para predição de temperaturas críticas de supercondutores**. 2020. Disponível em: <https://github.com/muriloafonso/TG_ENG_FISICA>.\n",
        "* [4] FACELI, K. et al. **Inteligência artificial: Uma abordagem de aprendizado de máquina**. 2011.\n",
        "* [5] LOPES, T. G. G. **Análise comparativa de modelos de Machine Learning na predição de Câncer de pele**. 2020. Disponível em: <https://github.com/thiagolopes97/TCC-ThiagoLopes/blob/main/TCC_ThiagoLopes_Final.pdf>."
      ]
    },
    {
      "cell_type": "markdown",
      "metadata": {
        "id": "sGjEJ9M2rmUd"
      },
      "source": [
        "# Regressão Linear - Preço de casas em Boston"
      ]
    },
    {
      "cell_type": "code",
      "metadata": {
        "colab": {
          "base_uri": "https://localhost:8080/"
        },
        "id": "cLwq3L8tFSxr",
        "outputId": "d5cc8808-2c66-4141-bc08-3783e501e311"
      },
      "source": [
        "import pandas as pd\n",
        "import numpy as np\n",
        "from sklearn.linear_model import LinearRegression\n",
        "from sklearn.model_selection import train_test_split\n",
        "from sklearn.datasets import load_boston\n",
        "from sklearn import metrics\n",
        "import matplotlib.pyplot as plt\n",
        "\n",
        "%matplotlib inline\n",
        "\n",
        "\n",
        "# Normalmente as estruturas a serem analisadas veem em um formato CSV, EXCEL - Estes casos são mais fáceis de\n",
        "# lidar e será mostrado seus procedimentos posteriormente.\n",
        "dataset = load_boston()\n",
        "print(type(dataset))"
      ],
      "execution_count": 1,
      "outputs": [
        {
          "output_type": "stream",
          "text": [
            "<class 'sklearn.utils.Bunch'>\n"
          ],
          "name": "stdout"
        }
      ]
    },
    {
      "cell_type": "code",
      "metadata": {
        "colab": {
          "base_uri": "https://localhost:8080/"
        },
        "id": "e5MX6NynG2bZ",
        "outputId": "b7875daf-cc1c-4529-c6bc-1afe8a8bf631"
      },
      "source": [
        "dataset.keys()"
      ],
      "execution_count": 2,
      "outputs": [
        {
          "output_type": "execute_result",
          "data": {
            "text/plain": [
              "dict_keys(['data', 'target', 'feature_names', 'DESCR', 'filename'])"
            ]
          },
          "metadata": {
            "tags": []
          },
          "execution_count": 2
        }
      ]
    },
    {
      "cell_type": "code",
      "metadata": {
        "colab": {
          "base_uri": "https://localhost:8080/"
        },
        "id": "ZhpEVXsAHF10",
        "outputId": "e21cd456-8476-4689-dc3e-755e7994f168"
      },
      "source": [
        "dataset.get('data')"
      ],
      "execution_count": 3,
      "outputs": [
        {
          "output_type": "execute_result",
          "data": {
            "text/plain": [
              "array([[6.3200e-03, 1.8000e+01, 2.3100e+00, ..., 1.5300e+01, 3.9690e+02,\n",
              "        4.9800e+00],\n",
              "       [2.7310e-02, 0.0000e+00, 7.0700e+00, ..., 1.7800e+01, 3.9690e+02,\n",
              "        9.1400e+00],\n",
              "       [2.7290e-02, 0.0000e+00, 7.0700e+00, ..., 1.7800e+01, 3.9283e+02,\n",
              "        4.0300e+00],\n",
              "       ...,\n",
              "       [6.0760e-02, 0.0000e+00, 1.1930e+01, ..., 2.1000e+01, 3.9690e+02,\n",
              "        5.6400e+00],\n",
              "       [1.0959e-01, 0.0000e+00, 1.1930e+01, ..., 2.1000e+01, 3.9345e+02,\n",
              "        6.4800e+00],\n",
              "       [4.7410e-02, 0.0000e+00, 1.1930e+01, ..., 2.1000e+01, 3.9690e+02,\n",
              "        7.8800e+00]])"
            ]
          },
          "metadata": {
            "tags": []
          },
          "execution_count": 3
        }
      ]
    },
    {
      "cell_type": "code",
      "metadata": {
        "colab": {
          "base_uri": "https://localhost:8080/",
          "height": 197
        },
        "id": "q6-_PuU7FeS3",
        "outputId": "66dbd1f2-f4be-49f9-ff01-7b3842f716a5"
      },
      "source": [
        "# df = DataFrame\n",
        "df = pd.DataFrame(dataset.get('data'))\n",
        "df.head()"
      ],
      "execution_count": 4,
      "outputs": [
        {
          "output_type": "execute_result",
          "data": {
            "text/html": [
              "<div>\n",
              "<style scoped>\n",
              "    .dataframe tbody tr th:only-of-type {\n",
              "        vertical-align: middle;\n",
              "    }\n",
              "\n",
              "    .dataframe tbody tr th {\n",
              "        vertical-align: top;\n",
              "    }\n",
              "\n",
              "    .dataframe thead th {\n",
              "        text-align: right;\n",
              "    }\n",
              "</style>\n",
              "<table border=\"1\" class=\"dataframe\">\n",
              "  <thead>\n",
              "    <tr style=\"text-align: right;\">\n",
              "      <th></th>\n",
              "      <th>0</th>\n",
              "      <th>1</th>\n",
              "      <th>2</th>\n",
              "      <th>3</th>\n",
              "      <th>4</th>\n",
              "      <th>5</th>\n",
              "      <th>6</th>\n",
              "      <th>7</th>\n",
              "      <th>8</th>\n",
              "      <th>9</th>\n",
              "      <th>10</th>\n",
              "      <th>11</th>\n",
              "      <th>12</th>\n",
              "    </tr>\n",
              "  </thead>\n",
              "  <tbody>\n",
              "    <tr>\n",
              "      <th>0</th>\n",
              "      <td>0.00632</td>\n",
              "      <td>18.0</td>\n",
              "      <td>2.31</td>\n",
              "      <td>0.0</td>\n",
              "      <td>0.538</td>\n",
              "      <td>6.575</td>\n",
              "      <td>65.2</td>\n",
              "      <td>4.0900</td>\n",
              "      <td>1.0</td>\n",
              "      <td>296.0</td>\n",
              "      <td>15.3</td>\n",
              "      <td>396.90</td>\n",
              "      <td>4.98</td>\n",
              "    </tr>\n",
              "    <tr>\n",
              "      <th>1</th>\n",
              "      <td>0.02731</td>\n",
              "      <td>0.0</td>\n",
              "      <td>7.07</td>\n",
              "      <td>0.0</td>\n",
              "      <td>0.469</td>\n",
              "      <td>6.421</td>\n",
              "      <td>78.9</td>\n",
              "      <td>4.9671</td>\n",
              "      <td>2.0</td>\n",
              "      <td>242.0</td>\n",
              "      <td>17.8</td>\n",
              "      <td>396.90</td>\n",
              "      <td>9.14</td>\n",
              "    </tr>\n",
              "    <tr>\n",
              "      <th>2</th>\n",
              "      <td>0.02729</td>\n",
              "      <td>0.0</td>\n",
              "      <td>7.07</td>\n",
              "      <td>0.0</td>\n",
              "      <td>0.469</td>\n",
              "      <td>7.185</td>\n",
              "      <td>61.1</td>\n",
              "      <td>4.9671</td>\n",
              "      <td>2.0</td>\n",
              "      <td>242.0</td>\n",
              "      <td>17.8</td>\n",
              "      <td>392.83</td>\n",
              "      <td>4.03</td>\n",
              "    </tr>\n",
              "    <tr>\n",
              "      <th>3</th>\n",
              "      <td>0.03237</td>\n",
              "      <td>0.0</td>\n",
              "      <td>2.18</td>\n",
              "      <td>0.0</td>\n",
              "      <td>0.458</td>\n",
              "      <td>6.998</td>\n",
              "      <td>45.8</td>\n",
              "      <td>6.0622</td>\n",
              "      <td>3.0</td>\n",
              "      <td>222.0</td>\n",
              "      <td>18.7</td>\n",
              "      <td>394.63</td>\n",
              "      <td>2.94</td>\n",
              "    </tr>\n",
              "    <tr>\n",
              "      <th>4</th>\n",
              "      <td>0.06905</td>\n",
              "      <td>0.0</td>\n",
              "      <td>2.18</td>\n",
              "      <td>0.0</td>\n",
              "      <td>0.458</td>\n",
              "      <td>7.147</td>\n",
              "      <td>54.2</td>\n",
              "      <td>6.0622</td>\n",
              "      <td>3.0</td>\n",
              "      <td>222.0</td>\n",
              "      <td>18.7</td>\n",
              "      <td>396.90</td>\n",
              "      <td>5.33</td>\n",
              "    </tr>\n",
              "  </tbody>\n",
              "</table>\n",
              "</div>"
            ],
            "text/plain": [
              "        0     1     2    3      4   ...   8      9     10      11    12\n",
              "0  0.00632  18.0  2.31  0.0  0.538  ...  1.0  296.0  15.3  396.90  4.98\n",
              "1  0.02731   0.0  7.07  0.0  0.469  ...  2.0  242.0  17.8  396.90  9.14\n",
              "2  0.02729   0.0  7.07  0.0  0.469  ...  2.0  242.0  17.8  392.83  4.03\n",
              "3  0.03237   0.0  2.18  0.0  0.458  ...  3.0  222.0  18.7  394.63  2.94\n",
              "4  0.06905   0.0  2.18  0.0  0.458  ...  3.0  222.0  18.7  396.90  5.33\n",
              "\n",
              "[5 rows x 13 columns]"
            ]
          },
          "metadata": {
            "tags": []
          },
          "execution_count": 4
        }
      ]
    },
    {
      "cell_type": "code",
      "metadata": {
        "colab": {
          "base_uri": "https://localhost:8080/",
          "height": 197
        },
        "id": "W-LaSREFHZ_f",
        "outputId": "1c23046e-ad60-4447-8c04-5031bb1e33c4"
      },
      "source": [
        "# Nomear as colunas do Dataframde\n",
        "df.columns = dataset.get('feature_names')\n",
        "df.head()"
      ],
      "execution_count": 5,
      "outputs": [
        {
          "output_type": "execute_result",
          "data": {
            "text/html": [
              "<div>\n",
              "<style scoped>\n",
              "    .dataframe tbody tr th:only-of-type {\n",
              "        vertical-align: middle;\n",
              "    }\n",
              "\n",
              "    .dataframe tbody tr th {\n",
              "        vertical-align: top;\n",
              "    }\n",
              "\n",
              "    .dataframe thead th {\n",
              "        text-align: right;\n",
              "    }\n",
              "</style>\n",
              "<table border=\"1\" class=\"dataframe\">\n",
              "  <thead>\n",
              "    <tr style=\"text-align: right;\">\n",
              "      <th></th>\n",
              "      <th>CRIM</th>\n",
              "      <th>ZN</th>\n",
              "      <th>INDUS</th>\n",
              "      <th>CHAS</th>\n",
              "      <th>NOX</th>\n",
              "      <th>RM</th>\n",
              "      <th>AGE</th>\n",
              "      <th>DIS</th>\n",
              "      <th>RAD</th>\n",
              "      <th>TAX</th>\n",
              "      <th>PTRATIO</th>\n",
              "      <th>B</th>\n",
              "      <th>LSTAT</th>\n",
              "    </tr>\n",
              "  </thead>\n",
              "  <tbody>\n",
              "    <tr>\n",
              "      <th>0</th>\n",
              "      <td>0.00632</td>\n",
              "      <td>18.0</td>\n",
              "      <td>2.31</td>\n",
              "      <td>0.0</td>\n",
              "      <td>0.538</td>\n",
              "      <td>6.575</td>\n",
              "      <td>65.2</td>\n",
              "      <td>4.0900</td>\n",
              "      <td>1.0</td>\n",
              "      <td>296.0</td>\n",
              "      <td>15.3</td>\n",
              "      <td>396.90</td>\n",
              "      <td>4.98</td>\n",
              "    </tr>\n",
              "    <tr>\n",
              "      <th>1</th>\n",
              "      <td>0.02731</td>\n",
              "      <td>0.0</td>\n",
              "      <td>7.07</td>\n",
              "      <td>0.0</td>\n",
              "      <td>0.469</td>\n",
              "      <td>6.421</td>\n",
              "      <td>78.9</td>\n",
              "      <td>4.9671</td>\n",
              "      <td>2.0</td>\n",
              "      <td>242.0</td>\n",
              "      <td>17.8</td>\n",
              "      <td>396.90</td>\n",
              "      <td>9.14</td>\n",
              "    </tr>\n",
              "    <tr>\n",
              "      <th>2</th>\n",
              "      <td>0.02729</td>\n",
              "      <td>0.0</td>\n",
              "      <td>7.07</td>\n",
              "      <td>0.0</td>\n",
              "      <td>0.469</td>\n",
              "      <td>7.185</td>\n",
              "      <td>61.1</td>\n",
              "      <td>4.9671</td>\n",
              "      <td>2.0</td>\n",
              "      <td>242.0</td>\n",
              "      <td>17.8</td>\n",
              "      <td>392.83</td>\n",
              "      <td>4.03</td>\n",
              "    </tr>\n",
              "    <tr>\n",
              "      <th>3</th>\n",
              "      <td>0.03237</td>\n",
              "      <td>0.0</td>\n",
              "      <td>2.18</td>\n",
              "      <td>0.0</td>\n",
              "      <td>0.458</td>\n",
              "      <td>6.998</td>\n",
              "      <td>45.8</td>\n",
              "      <td>6.0622</td>\n",
              "      <td>3.0</td>\n",
              "      <td>222.0</td>\n",
              "      <td>18.7</td>\n",
              "      <td>394.63</td>\n",
              "      <td>2.94</td>\n",
              "    </tr>\n",
              "    <tr>\n",
              "      <th>4</th>\n",
              "      <td>0.06905</td>\n",
              "      <td>0.0</td>\n",
              "      <td>2.18</td>\n",
              "      <td>0.0</td>\n",
              "      <td>0.458</td>\n",
              "      <td>7.147</td>\n",
              "      <td>54.2</td>\n",
              "      <td>6.0622</td>\n",
              "      <td>3.0</td>\n",
              "      <td>222.0</td>\n",
              "      <td>18.7</td>\n",
              "      <td>396.90</td>\n",
              "      <td>5.33</td>\n",
              "    </tr>\n",
              "  </tbody>\n",
              "</table>\n",
              "</div>"
            ],
            "text/plain": [
              "      CRIM    ZN  INDUS  CHAS    NOX  ...  RAD    TAX  PTRATIO       B  LSTAT\n",
              "0  0.00632  18.0   2.31   0.0  0.538  ...  1.0  296.0     15.3  396.90   4.98\n",
              "1  0.02731   0.0   7.07   0.0  0.469  ...  2.0  242.0     17.8  396.90   9.14\n",
              "2  0.02729   0.0   7.07   0.0  0.469  ...  2.0  242.0     17.8  392.83   4.03\n",
              "3  0.03237   0.0   2.18   0.0  0.458  ...  3.0  222.0     18.7  394.63   2.94\n",
              "4  0.06905   0.0   2.18   0.0  0.458  ...  3.0  222.0     18.7  396.90   5.33\n",
              "\n",
              "[5 rows x 13 columns]"
            ]
          },
          "metadata": {
            "tags": []
          },
          "execution_count": 5
        }
      ]
    },
    {
      "cell_type": "code",
      "metadata": {
        "colab": {
          "base_uri": "https://localhost:8080/",
          "height": 197
        },
        "id": "O23uKWdeHm3A",
        "outputId": "1bc9fd0e-0be9-4384-f205-543f7b6745ca"
      },
      "source": [
        "#Adicionar uma coluna ao Dataframe\n",
        "df['target'] = dataset.get('target')\n",
        "df.head()"
      ],
      "execution_count": 6,
      "outputs": [
        {
          "output_type": "execute_result",
          "data": {
            "text/html": [
              "<div>\n",
              "<style scoped>\n",
              "    .dataframe tbody tr th:only-of-type {\n",
              "        vertical-align: middle;\n",
              "    }\n",
              "\n",
              "    .dataframe tbody tr th {\n",
              "        vertical-align: top;\n",
              "    }\n",
              "\n",
              "    .dataframe thead th {\n",
              "        text-align: right;\n",
              "    }\n",
              "</style>\n",
              "<table border=\"1\" class=\"dataframe\">\n",
              "  <thead>\n",
              "    <tr style=\"text-align: right;\">\n",
              "      <th></th>\n",
              "      <th>CRIM</th>\n",
              "      <th>ZN</th>\n",
              "      <th>INDUS</th>\n",
              "      <th>CHAS</th>\n",
              "      <th>NOX</th>\n",
              "      <th>RM</th>\n",
              "      <th>AGE</th>\n",
              "      <th>DIS</th>\n",
              "      <th>RAD</th>\n",
              "      <th>TAX</th>\n",
              "      <th>PTRATIO</th>\n",
              "      <th>B</th>\n",
              "      <th>LSTAT</th>\n",
              "      <th>target</th>\n",
              "    </tr>\n",
              "  </thead>\n",
              "  <tbody>\n",
              "    <tr>\n",
              "      <th>0</th>\n",
              "      <td>0.00632</td>\n",
              "      <td>18.0</td>\n",
              "      <td>2.31</td>\n",
              "      <td>0.0</td>\n",
              "      <td>0.538</td>\n",
              "      <td>6.575</td>\n",
              "      <td>65.2</td>\n",
              "      <td>4.0900</td>\n",
              "      <td>1.0</td>\n",
              "      <td>296.0</td>\n",
              "      <td>15.3</td>\n",
              "      <td>396.90</td>\n",
              "      <td>4.98</td>\n",
              "      <td>24.0</td>\n",
              "    </tr>\n",
              "    <tr>\n",
              "      <th>1</th>\n",
              "      <td>0.02731</td>\n",
              "      <td>0.0</td>\n",
              "      <td>7.07</td>\n",
              "      <td>0.0</td>\n",
              "      <td>0.469</td>\n",
              "      <td>6.421</td>\n",
              "      <td>78.9</td>\n",
              "      <td>4.9671</td>\n",
              "      <td>2.0</td>\n",
              "      <td>242.0</td>\n",
              "      <td>17.8</td>\n",
              "      <td>396.90</td>\n",
              "      <td>9.14</td>\n",
              "      <td>21.6</td>\n",
              "    </tr>\n",
              "    <tr>\n",
              "      <th>2</th>\n",
              "      <td>0.02729</td>\n",
              "      <td>0.0</td>\n",
              "      <td>7.07</td>\n",
              "      <td>0.0</td>\n",
              "      <td>0.469</td>\n",
              "      <td>7.185</td>\n",
              "      <td>61.1</td>\n",
              "      <td>4.9671</td>\n",
              "      <td>2.0</td>\n",
              "      <td>242.0</td>\n",
              "      <td>17.8</td>\n",
              "      <td>392.83</td>\n",
              "      <td>4.03</td>\n",
              "      <td>34.7</td>\n",
              "    </tr>\n",
              "    <tr>\n",
              "      <th>3</th>\n",
              "      <td>0.03237</td>\n",
              "      <td>0.0</td>\n",
              "      <td>2.18</td>\n",
              "      <td>0.0</td>\n",
              "      <td>0.458</td>\n",
              "      <td>6.998</td>\n",
              "      <td>45.8</td>\n",
              "      <td>6.0622</td>\n",
              "      <td>3.0</td>\n",
              "      <td>222.0</td>\n",
              "      <td>18.7</td>\n",
              "      <td>394.63</td>\n",
              "      <td>2.94</td>\n",
              "      <td>33.4</td>\n",
              "    </tr>\n",
              "    <tr>\n",
              "      <th>4</th>\n",
              "      <td>0.06905</td>\n",
              "      <td>0.0</td>\n",
              "      <td>2.18</td>\n",
              "      <td>0.0</td>\n",
              "      <td>0.458</td>\n",
              "      <td>7.147</td>\n",
              "      <td>54.2</td>\n",
              "      <td>6.0622</td>\n",
              "      <td>3.0</td>\n",
              "      <td>222.0</td>\n",
              "      <td>18.7</td>\n",
              "      <td>396.90</td>\n",
              "      <td>5.33</td>\n",
              "      <td>36.2</td>\n",
              "    </tr>\n",
              "  </tbody>\n",
              "</table>\n",
              "</div>"
            ],
            "text/plain": [
              "      CRIM    ZN  INDUS  CHAS    NOX  ...    TAX  PTRATIO       B  LSTAT  target\n",
              "0  0.00632  18.0   2.31   0.0  0.538  ...  296.0     15.3  396.90   4.98    24.0\n",
              "1  0.02731   0.0   7.07   0.0  0.469  ...  242.0     17.8  396.90   9.14    21.6\n",
              "2  0.02729   0.0   7.07   0.0  0.469  ...  242.0     17.8  392.83   4.03    34.7\n",
              "3  0.03237   0.0   2.18   0.0  0.458  ...  222.0     18.7  394.63   2.94    33.4\n",
              "4  0.06905   0.0   2.18   0.0  0.458  ...  222.0     18.7  396.90   5.33    36.2\n",
              "\n",
              "[5 rows x 14 columns]"
            ]
          },
          "metadata": {
            "tags": []
          },
          "execution_count": 6
        }
      ]
    },
    {
      "cell_type": "code",
      "metadata": {
        "id": "dw6e1uMWJhuP"
      },
      "source": [
        "# Separar os valores de atributo e alvo\n",
        "\n",
        "X = df[['CRIM', 'ZN', 'INDUS', 'CHAS', 'NOX', 'RM', 'AGE', 'DIS', 'RAD', 'TAX',\n",
        "       'PTRATIO', 'B', 'LSTAT']]\n",
        "y = df['target']\n",
        "\n",
        "# Separar o conjunto em Treino/ Teste\n",
        "X_train, X_test, y_train, y_test = train_test_split(X, y, test_size=0.20)"
      ],
      "execution_count": 7,
      "outputs": []
    },
    {
      "cell_type": "code",
      "metadata": {
        "colab": {
          "base_uri": "https://localhost:8080/"
        },
        "id": "9jAGFyaiY8Ee",
        "outputId": "3e2ebd0e-634b-4fc1-ecdc-140a86087d97"
      },
      "source": [
        "# Chamar a função do Modelo\n",
        "\n",
        "LinReg = LinearRegression()\n",
        "print(LinReg)\n",
        "print(type(LinReg))"
      ],
      "execution_count": 8,
      "outputs": [
        {
          "output_type": "stream",
          "text": [
            "LinearRegression(copy_X=True, fit_intercept=True, n_jobs=None, normalize=False)\n",
            "<class 'sklearn.linear_model._base.LinearRegression'>\n"
          ],
          "name": "stdout"
        }
      ]
    },
    {
      "cell_type": "code",
      "metadata": {
        "colab": {
          "base_uri": "https://localhost:8080/"
        },
        "id": "69bQlxRQZSac",
        "outputId": "09c85946-aacd-496d-91fe-b8877e1c681f"
      },
      "source": [
        "# Treinar o modelo\n",
        "\n",
        "LinReg.fit(X_train,y_train)"
      ],
      "execution_count": 9,
      "outputs": [
        {
          "output_type": "execute_result",
          "data": {
            "text/plain": [
              "LinearRegression(copy_X=True, fit_intercept=True, n_jobs=None, normalize=False)"
            ]
          },
          "metadata": {
            "tags": []
          },
          "execution_count": 9
        }
      ]
    },
    {
      "cell_type": "code",
      "metadata": {
        "colab": {
          "base_uri": "https://localhost:8080/"
        },
        "id": "rgnUPeCBZOMC",
        "outputId": "14dd60be-5ea1-4ac7-aa8e-cf8bd7f6b0cd"
      },
      "source": [
        "# Preizer os valores de teste\n",
        "\n",
        "y_pred = LinReg.predict(X_test)\n",
        "print(y_pred)"
      ],
      "execution_count": 10,
      "outputs": [
        {
          "output_type": "stream",
          "text": [
            "[32.76874824 14.76944012 20.78600604 26.54335632 20.82136879 18.57085049\n",
            " 24.98270183 21.18321995 29.8213579  19.20014917 22.39151401 18.79633108\n",
            " 11.39549243 17.13574933 22.5360327  21.15604674 18.57620422 33.01950513\n",
            " 18.67295547 34.10950384 22.61990798  3.00919531 41.95586979 19.68219101\n",
            " 15.19437661  8.35889098 15.63293099 23.93697665 27.47607307 26.51123304\n",
            " 20.89592579 18.09556184 28.55474702 24.67792627 13.45526444 23.1317606\n",
            " 17.88987544 15.11559421 17.12899946 25.98763571 18.22423622 13.49670845\n",
            " 21.91635216 23.23417597 21.84794465 11.84837231 13.83340198 20.35104402\n",
            " 22.55765858 35.416012   22.78401396 22.41549167 28.01029923 16.32800207\n",
            " 17.367347   21.92105405 23.34796327 16.53532606 20.23215024 27.4364426\n",
            " 17.72012868 30.51985769 24.1588152   7.19036807 18.64577045 28.44103033\n",
            " 32.85085114 40.48768932  8.19998957 24.08739818 25.15848046  0.68993943\n",
            " 38.03381861 22.52275869 39.6116136  29.38615331 23.71738308 23.19116402\n",
            " 23.72785352 12.26013751 20.72087269 30.01579043 20.15500489 14.47797681\n",
            " 32.60428514 36.49601032 19.11670144 27.90811374 20.53903675 25.61570108\n",
            " 20.94285624 23.56839324 19.64849973 20.89591805 17.76694616 31.25989648\n",
            " 16.90351262 31.43928562 35.36158798 15.68351009 29.96190677 33.96140996]\n"
          ],
          "name": "stdout"
        }
      ]
    },
    {
      "cell_type": "code",
      "metadata": {
        "colab": {
          "base_uri": "https://localhost:8080/"
        },
        "id": "cq8kfeo_flxL",
        "outputId": "f05df145-8298-4d21-e1eb-0ac12e47a722"
      },
      "source": [
        "# Calcular as métricas do modelo\n",
        "\n",
        "print(\"MSE: {}\".format(metrics.mean_absolute_error(y_test,y_pred)))"
      ],
      "execution_count": 11,
      "outputs": [
        {
          "output_type": "stream",
          "text": [
            "MSE: 3.1347709627879285\n"
          ],
          "name": "stdout"
        }
      ]
    },
    {
      "cell_type": "code",
      "metadata": {
        "colab": {
          "base_uri": "https://localhost:8080/"
        },
        "id": "viWk2gwPZdKI",
        "outputId": "7be2b594-a2cb-45ca-f02d-c382958825a4"
      },
      "source": [
        "metrics.mean_squared_error(y_test,y_pred)"
      ],
      "execution_count": 12,
      "outputs": [
        {
          "output_type": "execute_result",
          "data": {
            "text/plain": [
              "16.66208737475554"
            ]
          },
          "metadata": {
            "tags": []
          },
          "execution_count": 12
        }
      ]
    },
    {
      "cell_type": "code",
      "metadata": {
        "colab": {
          "base_uri": "https://localhost:8080/"
        },
        "id": "95_86gVTbb1s",
        "outputId": "2e62917c-38bd-4160-a204-fbbf555e74fc"
      },
      "source": [
        "metrics.mean_absolute_error(y_test,y_pred)"
      ],
      "execution_count": 13,
      "outputs": [
        {
          "output_type": "execute_result",
          "data": {
            "text/plain": [
              "3.1347709627879285"
            ]
          },
          "metadata": {
            "tags": []
          },
          "execution_count": 13
        }
      ]
    },
    {
      "cell_type": "code",
      "metadata": {
        "colab": {
          "base_uri": "https://localhost:8080/"
        },
        "id": "SCLq8EL-ZoqW",
        "outputId": "78ac46bc-33ec-44c2-e4b1-cdae04bbea3e"
      },
      "source": [
        "metrics.r2_score(y_test,y_pred)"
      ],
      "execution_count": 14,
      "outputs": [
        {
          "output_type": "execute_result",
          "data": {
            "text/plain": [
              "0.7858819254157445"
            ]
          },
          "metadata": {
            "tags": []
          },
          "execution_count": 14
        }
      ]
    },
    {
      "cell_type": "code",
      "metadata": {
        "id": "qZ964vGdcRAu"
      },
      "source": [
        "y_pred_total = LinReg.predict(X)"
      ],
      "execution_count": 15,
      "outputs": []
    },
    {
      "cell_type": "code",
      "metadata": {
        "colab": {
          "base_uri": "https://localhost:8080/",
          "height": 294
        },
        "id": "NLvl8v-7bix1",
        "outputId": "b9f73c89-5344-40f7-f26a-8c33296ea878"
      },
      "source": [
        "plt.scatter('AGE','target',data=df,label='Real')\n",
        "plt.scatter(df['AGE'],y_pred_total,label='Previsto')\n",
        "plt.xlabel('Idade (Anos)')\n",
        "plt.ylabel('Valor da casa')\n",
        "plt.title('Previsão de preço de imóveis em Boston')\n",
        "plt.legend()\n",
        "\n",
        "plt.show()\n"
      ],
      "execution_count": 16,
      "outputs": [
        {
          "output_type": "display_data",
          "data": {
            "image/png": "[encoded data removed]",
            "text/plain": [
              "<Figure size 432x288 with 1 Axes>"
            ]
          },
          "metadata": {
            "tags": [],
            "needs_background": "light"
          }
        }
      ]
    },
    {
      "cell_type": "markdown",
      "metadata": {
        "id": "FQxz9V_7JDae"
      },
      "source": [
        "# Regressão Linear - Qualidade do Vinho"
      ]
    },
    {
      "cell_type": "code",
      "metadata": {
        "id": "EvA7T9eSJ74J"
      },
      "source": [
        "import pandas as pd"
      ],
      "execution_count": 17,
      "outputs": []
    },
    {
      "cell_type": "code",
      "metadata": {
        "colab": {
          "base_uri": "https://localhost:8080/",
          "height": 231
        },
        "id": "iSnCGKIvJ9dH",
        "outputId": "acd76865-68eb-4a90-9fec-a31a7ab7bb18"
      },
      "source": [
        "df = pd.read_csv('https://raw.githubusercontent.com/thiagolopes97/ITA/main/winequality.csv')\n",
        "df.head()"
      ],
      "execution_count": 18,
      "outputs": [
        {
          "output_type": "execute_result",
          "data": {
            "text/html": [
              "<div>\n",
              "<style scoped>\n",
              "    .dataframe tbody tr th:only-of-type {\n",
              "        vertical-align: middle;\n",
              "    }\n",
              "\n",
              "    .dataframe tbody tr th {\n",
              "        vertical-align: top;\n",
              "    }\n",
              "\n",
              "    .dataframe thead th {\n",
              "        text-align: right;\n",
              "    }\n",
              "</style>\n",
              "<table border=\"1\" class=\"dataframe\">\n",
              "  <thead>\n",
              "    <tr style=\"text-align: right;\">\n",
              "      <th></th>\n",
              "      <th>fixed acidity</th>\n",
              "      <th>volatile acidity</th>\n",
              "      <th>citric acid</th>\n",
              "      <th>residual sugar</th>\n",
              "      <th>chlorides</th>\n",
              "      <th>free sulfur dioxide</th>\n",
              "      <th>total sulfur dioxide</th>\n",
              "      <th>density</th>\n",
              "      <th>pH</th>\n",
              "      <th>sulphates</th>\n",
              "      <th>alcohol</th>\n",
              "      <th>quality</th>\n",
              "    </tr>\n",
              "  </thead>\n",
              "  <tbody>\n",
              "    <tr>\n",
              "      <th>0</th>\n",
              "      <td>7.4</td>\n",
              "      <td>0.70</td>\n",
              "      <td>0.00</td>\n",
              "      <td>1.9</td>\n",
              "      <td>0.076</td>\n",
              "      <td>11.0</td>\n",
              "      <td>34.0</td>\n",
              "      <td>0.9978</td>\n",
              "      <td>3.51</td>\n",
              "      <td>0.56</td>\n",
              "      <td>9.4</td>\n",
              "      <td>5</td>\n",
              "    </tr>\n",
              "    <tr>\n",
              "      <th>1</th>\n",
              "      <td>7.8</td>\n",
              "      <td>0.88</td>\n",
              "      <td>0.00</td>\n",
              "      <td>2.6</td>\n",
              "      <td>0.098</td>\n",
              "      <td>25.0</td>\n",
              "      <td>67.0</td>\n",
              "      <td>0.9968</td>\n",
              "      <td>3.20</td>\n",
              "      <td>0.68</td>\n",
              "      <td>9.8</td>\n",
              "      <td>5</td>\n",
              "    </tr>\n",
              "    <tr>\n",
              "      <th>2</th>\n",
              "      <td>7.8</td>\n",
              "      <td>0.76</td>\n",
              "      <td>0.04</td>\n",
              "      <td>2.3</td>\n",
              "      <td>0.092</td>\n",
              "      <td>15.0</td>\n",
              "      <td>54.0</td>\n",
              "      <td>0.9970</td>\n",
              "      <td>3.26</td>\n",
              "      <td>0.65</td>\n",
              "      <td>9.8</td>\n",
              "      <td>5</td>\n",
              "    </tr>\n",
              "    <tr>\n",
              "      <th>3</th>\n",
              "      <td>11.2</td>\n",
              "      <td>0.28</td>\n",
              "      <td>0.56</td>\n",
              "      <td>1.9</td>\n",
              "      <td>0.075</td>\n",
              "      <td>17.0</td>\n",
              "      <td>60.0</td>\n",
              "      <td>0.9980</td>\n",
              "      <td>3.16</td>\n",
              "      <td>0.58</td>\n",
              "      <td>9.8</td>\n",
              "      <td>6</td>\n",
              "    </tr>\n",
              "    <tr>\n",
              "      <th>4</th>\n",
              "      <td>7.4</td>\n",
              "      <td>0.70</td>\n",
              "      <td>0.00</td>\n",
              "      <td>1.9</td>\n",
              "      <td>0.076</td>\n",
              "      <td>11.0</td>\n",
              "      <td>34.0</td>\n",
              "      <td>0.9978</td>\n",
              "      <td>3.51</td>\n",
              "      <td>0.56</td>\n",
              "      <td>9.4</td>\n",
              "      <td>5</td>\n",
              "    </tr>\n",
              "  </tbody>\n",
              "</table>\n",
              "</div>"
            ],
            "text/plain": [
              "   fixed acidity  volatile acidity  citric acid  ...  sulphates  alcohol  quality\n",
              "0            7.4              0.70         0.00  ...       0.56      9.4        5\n",
              "1            7.8              0.88         0.00  ...       0.68      9.8        5\n",
              "2            7.8              0.76         0.04  ...       0.65      9.8        5\n",
              "3           11.2              0.28         0.56  ...       0.58      9.8        6\n",
              "4            7.4              0.70         0.00  ...       0.56      9.4        5\n",
              "\n",
              "[5 rows x 12 columns]"
            ]
          },
          "metadata": {
            "tags": []
          },
          "execution_count": 18
        }
      ]
    }
  ]
}